{
 "cells": [
  {
    "cell_type": "markdown",
    "source": [
      "> **Note**\n",
      ">\n",
      "> Saved changes to this file will not presist between instances. To retain your edits,\n",
      "> please save the file to your main directory.\n",
      "\n"
    ],
    "metadata": {}
  },
  {
   "cell_type": "markdown",
   "id": "e210f447-83d3-490f-9032-4d5567f269f3",
   "metadata": {},
   "source": [
    "# Simulating a simple photonic circuit"
   ]
  },
  {
   "cell_type": "markdown",
   "id": "961b7812-ff82-4d88-8769-5df4e7e01da3",
   "metadata": {},
   "source": [
    "## Creating the program"
   ]
  },
  {
   "cell_type": "markdown",
   "id": "9ad5f36a-9291-4ecd-8857-8e57a1d97a05",
   "metadata": {},
   "source": [
    "Import Strawberry Fields and all necessary subpackages. In this case we need the `ops` module, which contains all operations that can be applied within the context."
   ]
  },
  {
   "cell_type": "code",
   "execution_count": null,
   "id": "9216b68e-4746-4a7b-90cf-19106312451f",
   "metadata": {},
   "outputs": [],
   "source": [
    "import strawberryfields as sf\n",
    "from strawberryfields import ops"
   ]
  },
  {
   "cell_type": "markdown",
   "id": "a6cc9aaa-58c4-4add-9560-036f48becbb8",
   "metadata": {},
   "source": [
    "Create the program and declare the number of modes. Here, we will use 2 modes in total."
   ]
  },
  {
   "cell_type": "code",
   "execution_count": null,
   "id": "98456ac1-7de6-48f9-8772-5b6a80bd86f4",
   "metadata": {},
   "outputs": [],
   "source": [
    "prog = sf.Program(2)"
   ]
  },
  {
   "cell_type": "markdown",
   "id": "54a9ee5b-c5a8-48a8-8870-060ca4f74042",
   "metadata": {},
   "source": [
    "Apply the quantum operations within the program context. Begin with preparing a Fock states for each mode, apply a beamplitter gate on both modes, and finally, perform a Fock measurement on all modes."
   ]
  },
  {
   "cell_type": "code",
   "execution_count": null,
   "id": "bc5a2360-0fc1-40f9-a00d-1bdfd37ddd44",
   "metadata": {},
   "outputs": [],
   "source": [
    "with prog.context as q:\n",
    "    ops.Fock(5) | q[0]\n",
    "    ops.Fock(1) | q[1]\n",
    "    ops.BSgate() | q\n",
    "    ops.MeasureFock() | q"
   ]
  },
  {
   "cell_type": "markdown",
   "id": "373053aa-9099-4268-9009-f15650de9b56",
   "metadata": {},
   "source": [
    "We can print the circuit with all it's operations."
   ]
  },
  {
   "cell_type": "code",
   "execution_count": null,
   "id": "af998db8-3057-42c5-bf7b-34dbdcfa114e",
   "metadata": {},
   "outputs": [],
   "source": [
    "for cmd in prog.circuit:\n",
    "    print(cmd)"
   ]
  },
  {
   "cell_type": "markdown",
   "id": "c3e8c423-26e9-4eee-8622-5b1c2833ecb2",
   "metadata": {},
   "source": [
    "## Running the program on the Fock backend"
   ]
  },
  {
   "cell_type": "markdown",
   "id": "9b6f8b01-1563-4810-9ab7-914d10a78f73",
   "metadata": {},
   "source": [
    "Choose a backend and create the engine. Then execute the program and extract the results.\n"
   ]
  },
  {
   "cell_type": "code",
   "execution_count": null,
   "id": "0d861b8f-f05e-404b-afac-368f617fcffc",
   "metadata": {},
   "outputs": [],
   "source": [
    "eng = sf.Engine(\"fock\", backend_options={\"cutoff_dim\": 8})\n",
    "result = eng.run(prog)"
   ]
  },
  {
   "cell_type": "markdown",
   "id": "a25365aa-330e-4b94-a277-4a2057524437",
   "metadata": {},
   "source": [
    "Get the state as well as the samples from the circuit.\n",
    "\n",
    "Note that the number of photons should be preserved. E.g., if we prepare two fock states with `n` and `m` photons respectively, the samples will contain `n + m` photons in total."
   ]
  },
  {
   "cell_type": "code",
   "execution_count": null,
   "id": "febc32da-b52f-4acb-a9e6-17d496fe644c",
   "metadata": {},
   "outputs": [],
   "source": [
    "state = result.state\n",
    "print(state)"
   ]
  },
  {
   "cell_type": "code",
   "execution_count": null,
   "id": "4f5c7394-6bb9-45cb-aa8c-461274e22726",
   "metadata": {},
   "outputs": [],
   "source": [
    "samples = result.samples\n",
    "print(samples)"
   ]
  },
  {
   "cell_type": "markdown",
   "id": "a1b31fb0-ba65-4879-a551-9ef7c1fe45f5",
   "metadata": {},
   "source": [
    "Try running the circuit above again, but change the number of initialized photons, or change the parameters in the beamsplitter gate. You can read more about that gates and what the parameters do [in the Strawberry Fields documentation](https://strawberryfields.readthedocs.io/en/stable/code/api/strawberryfields.ops.BSgate.html)."
   ]
  },
  {
   "cell_type": "code",
   "execution_count": null,
   "id": "966a3102-e272-4b9a-85ec-a8e32b125339",
   "metadata": {},
   "outputs": [],
   "source": []
  }
 ],
 "metadata": {
  "kernelspec": {
   "display_name": "PennyLane",
   "language": "python",
   "name": "pennylane"
  },
  "language_info": {
   "codemirror_mode": {
    "name": "ipython",
    "version": 3
   },
   "file_extension": ".py",
   "mimetype": "text/x-python",
   "name": "python",
   "nbconvert_exporter": "python",
   "pygments_lexer": "ipython3",
   "version": "3.8.10"
  }
 },
 "nbformat": 4,
 "nbformat_minor": 5
}
