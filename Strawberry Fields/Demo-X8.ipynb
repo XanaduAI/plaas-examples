{
 "cells": [
  {
    "cell_type": "markdown",
    "source": [
      "> **Note**\n",
      ">\n",
      "> Saved changes to this file will not presist between instances. To retain your edits,\n",
      "> please save the file to your main directory.\n",
      "\n"
    ],
    "metadata": {}
  },
  {
   "cell_type": "markdown",
   "metadata": {},
   "source": [
    "# Running jobs on XQC"
   ]
  },
  {
   "cell_type": "markdown",
   "metadata": {},
   "source": [
    "## Authentication"
   ]
  },
  {
   "cell_type": "markdown",
   "metadata": {},
   "source": [
    "Visit https://cloud.xanadu.ai/keys to generate your authentication token. Replace `AUTHENTICATION_TOKEN` below with the generated token and uncomment that line before executing."
   ]
  },
  {
   "cell_type": "code",
   "execution_count": null,
   "metadata": {},
   "outputs": [],
   "source": [
    "import strawberryfields as sf\n",
    "# sf.store_account(\"AUTHENTICATION_TOKEN\")\n",
    "sf.ping()"
   ]
  },
  {
   "cell_type": "markdown",
   "metadata": {},
   "source": [
    "## Create your program"
   ]
  },
  {
   "cell_type": "code",
   "execution_count": null,
   "metadata": {},
   "outputs": [],
   "source": [
    "import numpy as np\n",
    "from strawberryfields import ops\n",
    "from strawberryfields import RemoteEngine"
   ]
  },
  {
   "cell_type": "markdown",
   "metadata": {},
   "source": [
    "We will calculate the vibronic spectrum of ethylene. The vibronic spectrum represents the wavelengths at which light is most strongly absorbed due to electronic and vibrational excitations. Check out the demo [Quantum algorithms on the Xanadu quantum cloud](https://strawberryfields.ai/photonics/demos/tutorial_X8_demos.html) for more details."
   ]
  },
  {
   "cell_type": "code",
   "execution_count": null,
   "metadata": {},
   "outputs": [],
   "source": [
    "U = np.array([\n",
    "    [-0.5349105592386603,  0.8382670887228271,   0.10356058421030308, -0.021311662937477004],\n",
    "    [-0.6795134137271818, -0.4999083619063322,   0.5369830827402383,   0.001522863010877817],\n",
    "    [-0.4295084785810517, -0.17320833713971984, -0.7062800928050401,   0.5354341876268153  ],\n",
    "    [ 0.2601051345260338,  0.13190447151471643,  0.4495473331653913,   0.8443066531962792  ]\n",
    "])"
   ]
  },
  {
   "cell_type": "code",
   "execution_count": null,
   "metadata": {},
   "outputs": [],
   "source": [
    "prog = sf.Program(8, name=\"job1\")\n",
    "\n",
    "with prog.context as q:\n",
    "    # Initial squeezed states\n",
    "    # Allowed values are r=1.0 or r=0.0\n",
    "    ops.S2gate(1.0) | (q[0], q[4])\n",
    "    \n",
    "    # Interferometer on the signal modes (0-3)\n",
    "    ops.Interferometer(U) | (q[0], q[1], q[2], q[3])\n",
    "    ops.Interferometer(U) | (q[4], q[5], q[6], q[7])\n",
    "    \n",
    "    ops.MeasureFock() | q"
   ]
  },
  {
   "cell_type": "markdown",
   "metadata": {},
   "source": [
    "We can use either `\"simulon_gaussian\"` to run on our remote Gaussian simulator, or `\"X8\"` to run on our X8 quantum hardware device. Feel free to play around with both (although the simulator might be much slower for many shots)."
   ]
  },
  {
   "cell_type": "code",
   "execution_count": null,
   "metadata": {},
   "outputs": [],
   "source": [
    "eng = RemoteEngine(\"X8\")"
   ]
  },
  {
   "cell_type": "code",
   "execution_count": null,
   "metadata": {},
   "outputs": [],
   "source": [
    "results = eng.run(prog, shots=20)\n",
    "print(results.samples)"
   ]
  },
  {
   "cell_type": "markdown",
   "metadata": {},
   "source": [
    "Let's print the mean value of the samples. As well as the number of times no photons were measured at all (i.e., the `[0, 0, 0, 0, 0, 0, 0, 0]` case)."
   ]
  },
  {
   "cell_type": "code",
   "execution_count": null,
   "metadata": {},
   "outputs": [],
   "source": [
    "print(np.mean(results.samples, axis=0))"
   ]
  },
  {
   "cell_type": "code",
   "execution_count": null,
   "metadata": {},
   "outputs": [],
   "source": [
    "from collections import Counter\n",
    "bitstrings = [tuple(i) for i in results.samples]\n",
    "counts = {k:v for k, v in Counter(bitstrings).items()}\n",
    "print(counts[(0, 0, 0, 0, 0, 0, 0, 0)])"
   ]
  },
  {
   "cell_type": "markdown",
   "metadata": {},
   "source": [
    "## Asynchronous execution"
   ]
  },
  {
   "cell_type": "markdown",
   "metadata": {},
   "source": [
    "We can also execute the program asynchronously!"
   ]
  },
  {
   "cell_type": "code",
   "execution_count": null,
   "metadata": {},
   "outputs": [],
   "source": [
    "job = eng.run_async(prog, shots=3)"
   ]
  },
  {
   "cell_type": "code",
   "execution_count": null,
   "metadata": {},
   "outputs": [],
   "source": [
    "print(job.id)\n",
    "print(job.status)"
   ]
  },
  {
   "cell_type": "code",
   "execution_count": null,
   "metadata": {},
   "outputs": [],
   "source": [
    "job.refresh()\n",
    "print(job.status)"
   ]
  },
  {
   "cell_type": "code",
   "execution_count": null,
   "metadata": {},
   "outputs": [],
   "source": [
    "result = job.result\n",
    "print(result.samples.shape)"
   ]
  },
  {
   "cell_type": "markdown",
   "metadata": {},
   "source": [
    "## Hardware run"
   ]
  },
  {
   "cell_type": "markdown",
   "metadata": {},
   "source": [
    "Finally, we can attempt to plot the vibronic spectrum of ethylene by running with many shots on the hardware, and by using the vibronic module to calculate the absorption energies."
   ]
  },
  {
   "cell_type": "code",
   "execution_count": null,
   "metadata": {},
   "outputs": [],
   "source": [
    "eng = RemoteEngine(\"X8\")\n",
    "results = eng.run(prog, shots=400000)\n",
    "samples = results.samples"
   ]
  },
  {
   "cell_type": "code",
   "execution_count": null,
   "metadata": {},
   "outputs": [],
   "source": [
    "from strawberryfields.apps import vibronic, plot\n",
    "from matplotlib import pyplot as plt\n",
    "\n",
    "samples = [list(s) for s in samples]\n",
    "w = [2979, 1580, 1286, 977]\n",
    "wp = [2828, 1398, 1227, 855]\n",
    "energies = vibronic.energies(samples, w, wp)"
   ]
  },
  {
   "cell_type": "markdown",
   "metadata": {},
   "source": [
    "We can plot the spectra using either `matplotlib` or `plot.ly`."
   ]
  },
  {
   "cell_type": "code",
   "execution_count": null,
   "metadata": {},
   "outputs": [],
   "source": [
    "plot.spectrum(energies, xmin=-6000, xmax=6000)"
   ]
  },
  {
   "cell_type": "code",
   "execution_count": null,
   "metadata": {},
   "outputs": [],
   "source": []
  }
 ],
 "metadata": {
  "kernelspec": {
   "display_name": "PennyLane",
   "language": "python",
   "name": "pennylane"
  },
  "language_info": {
   "codemirror_mode": {
    "name": "ipython",
    "version": 3
   },
   "file_extension": ".py",
   "mimetype": "text/x-python",
   "name": "python",
   "nbconvert_exporter": "python",
   "pygments_lexer": "ipython3",
   "version": "3.8.10"
  }
 },
 "nbformat": 4,
 "nbformat_minor": 4
}
