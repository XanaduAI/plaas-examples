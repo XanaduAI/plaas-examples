{
  "cells": [
    {
      "cell_type": "markdown",
      "source": [
        "> **Note**\n",
        ">\n",
        "> Saved changes to this file will not presist between instances. To retain your edits,\n",
        "> please save the file to your main directory.\n",
        "\n"
      ],
      "metadata": {}
    },
    {
      "cell_type": "markdown",
      "source": [
        "Turning quantum nodes into Torch Layers\n",
        "=======================================\n",
        "\n",
        "*Author: PennyLane dev team. Posted: 2 Nov 2020. Last updated: 28 Jan\n",
        "2021.*\n",
        "\n",
        "Creating neural networks in [PyTorch](https://pytorch.org/) is easy\n",
        "using the [nn module](https://pytorch.org/docs/stable/nn.html). Models\n",
        "are constructed from elementary *layers* and can be trained using the\n",
        "PyTorch API. For example, the following code defines a two-layer network\n",
        "that could be used for binary classification:\n"
      ],
      "metadata": {}
    },
    {
      "cell_type": "code",
      "execution_count": null,
      "source": [
        "import torch\n",
        "\n",
        "layer_1 = torch.nn.Linear(2, 2)\n",
        "layer_2 = torch.nn.Linear(2, 2)\n",
        "softmax = torch.nn.Softmax(dim=1)\n",
        "\n",
        "layers = [layer_1, layer_2, softmax]\n",
        "model = torch.nn.Sequential(*layers)"
      ],
      "outputs": [],
      "metadata": {
        "collapsed": false
      }
    },
    {
      "cell_type": "markdown",
      "source": [
        "**What if we want to add a quantum layer to our model?** This is\n",
        "possible in PennyLane: [QNodes](https://pennylane.ai/qml/glossary/hybrid_computation.html)\n",
        "can be converted into `torch.nn` layers and combined with the wide range\n",
        "of built-in classical [layers](https://pytorch.org/docs/stable/nn.html)\n",
        "to create truly hybrid models. This tutorial will guide you through a\n",
        "simple example to show you how it's done!\n",
        "\n",
        "> **Note**\n",
        ">\n",
        "> A similar demo explaining how to [turn quantum nodes into Keras layers](https://pennylane.ai/qml/demos/tutorial_qnn_module_tf.html)\n",
        "> is also available.\n",
        "\n",
        "Fixing the dataset and problem\n",
        "==============================\n",
        "\n",
        "Let us begin by choosing a simple dataset and problem to allow us to\n",
        "focus on how the hybrid model is constructed. Our objective is to\n",
        "classify points generated from scikit-learn's binary-class\n",
        "[make\\_moons()](https://scikit-learn.org/stable/modules/generated/sklearn.datasets.make_moons.html)\n",
        "dataset:\n"
      ],
      "metadata": {}
    },
    {
      "cell_type": "code",
      "execution_count": null,
      "source": [
        "import matplotlib.pyplot as plt\n",
        "import numpy as np\n",
        "from sklearn.datasets import make_moons\n",
        "\n",
        "# Set random seeds\n",
        "torch.manual_seed(42)\n",
        "np.random.seed(42)\n",
        "\n",
        "X, y = make_moons(n_samples=200, noise=0.1)\n",
        "y_ = torch.unsqueeze(torch.tensor(y), 1)  # used for one-hot encoded labels\n",
        "y_hot = torch.scatter(torch.zeros((200, 2)), 1, y_, 1)\n",
        "\n",
        "c = [\"#1f77b4\" if y_ == 0 else \"#ff7f0e\" for y_ in y]  # colours for each class\n",
        "plt.axis(\"off\")\n",
        "plt.scatter(X[:, 0], X[:, 1], c=c)\n",
        "plt.show()"
      ],
      "outputs": [],
      "metadata": {
        "collapsed": false
      }
    },
    {
      "cell_type": "markdown",
      "source": [
        "Defining a QNode\n",
        "================\n",
        "\n",
        "Our next step is to define the QNode that we want to interface with\n",
        "`torch.nn`. Any combination of device, operations and measurements that\n",
        "is valid in PennyLane can be used to compose the QNode. However, the\n",
        "QNode arguments must satisfy additional [conditions](https://pennylane.readthedocs.io/en/stable/code/api/pennylane.qnn.TorchLayer.html) including having an argument\n",
        "called `inputs`. All other arguments must be arrays or tensors and are\n",
        "treated as trainable weights in the model. We fix a two-qubit QNode\n",
        "using the\n",
        "[default.qubit](https://pennylane.readthedocs.io/en/stable/code/api/pennylane.devices.default_qubit.DefaultQubit.html)\n",
        "simulator and operations from the\n",
        "[templates](https://pennylane.readthedocs.io/en/stable/introduction/templates.html) module.\n"
      ],
      "metadata": {}
    },
    {
      "cell_type": "code",
      "execution_count": null,
      "source": [
        "import pennylane as qml\n",
        "\n",
        "n_qubits = 2\n",
        "dev = qml.device(\"default.qubit\", wires=n_qubits)\n",
        "\n",
        "@qml.qnode(dev)\n",
        "def qnode(inputs, weights):\n",
        "    qml.templates.AngleEmbedding(inputs, wires=range(n_qubits))\n",
        "    qml.templates.BasicEntanglerLayers(weights, wires=range(n_qubits))\n",
        "    return [qml.expval(qml.PauliZ(wires=i)) for i in range(n_qubits)]"
      ],
      "outputs": [],
      "metadata": {
        "collapsed": false
      }
    },
    {
      "cell_type": "markdown",
      "source": [
        "Interfacing with Torch\n",
        "======================\n",
        "\n",
        "With the QNode defined, we are ready to interface with `torch.nn`. This\n",
        "is achieved using the [TorchLayer](https://pennylane.readthedocs.io/en/stable/code/api/pennylane.qnn.TorchLayer.html) class of the\n",
        "[qnn](https://pennylane.readthedocs.io/en/stable/code/qml_qnn.html#module-pennylane.qnn) module, which converts the QNode to the elementary\n",
        "building block of `torch.nn`: a *layer*. We shall see in the following\n",
        "how the resultant layer can be combined with other well-known neural\n",
        "network layers to form a hybrid model.\n",
        "\n",
        "We must first define the `weight_shapes` dictionary. Recall that all of\n",
        "the arguments of the QNode (except the one named `inputs`) are treated\n",
        "as trainable weights. For the QNode to be successfully converted to a\n",
        "layer in `torch.nn`, we need to provide the details of the shape of each\n",
        "trainable weight for them to be initialized. The `weight_shapes`\n",
        "dictionary maps from the argument names of the QNode to corresponding\n",
        "shapes:\n"
      ],
      "metadata": {}
    },
    {
      "cell_type": "code",
      "execution_count": null,
      "source": [
        "n_layers = 6\n",
        "weight_shapes = {\"weights\": (n_layers, n_qubits)}"
      ],
      "outputs": [],
      "metadata": {
        "collapsed": false
      }
    },
    {
      "cell_type": "markdown",
      "source": [
        "In our example, the `weights` argument of the QNode is trainable and has\n",
        "shape given by `(n_layers, n_qubits)`, which is passed to\n",
        "`BasicEntanglerLayers()`.\n",
        "\n",
        "Now that `weight_shapes` is defined, it is easy to then convert the\n",
        "QNode:\n"
      ],
      "metadata": {}
    },
    {
      "cell_type": "code",
      "execution_count": null,
      "source": [
        "qlayer = qml.qnn.TorchLayer(qnode, weight_shapes)"
      ],
      "outputs": [],
      "metadata": {
        "collapsed": false
      }
    },
    {
      "cell_type": "markdown",
      "source": [
        "With this done, the QNode can now be treated just like any other\n",
        "`torch.nn` layer and we can proceed using the familiar Torch workflow.\n",
        "\n",
        "Creating a hybrid model\n",
        "=======================\n",
        "\n",
        "Let's create a basic three-layered hybrid model consisting of:\n",
        "\n",
        "1.  a 2-neuron fully connected classical layer\n",
        "2.  our 2-qubit QNode converted into a layer\n",
        "3.  another 2-neuron fully connected classical layer\n",
        "4.  a softmax activation to convert to a probability vector\n",
        "\n",
        "A diagram of the model can be seen in the figure below.\n",
        "\n",
        "![](.img/qnn_torch.png)\n",
        "\n",
        "We can construct the model using the\n",
        "[Sequential](https://pytorch.org/docs/stable/generated/torch.nn.Sequential.html)\n",
        "API:\n"
      ],
      "metadata": {}
    },
    {
      "cell_type": "code",
      "execution_count": null,
      "source": [
        "clayer_1 = torch.nn.Linear(2, 2)\n",
        "clayer_2 = torch.nn.Linear(2, 2)\n",
        "softmax = torch.nn.Softmax(dim=1)\n",
        "layers = [clayer_1, qlayer, clayer_2, softmax]\n",
        "model = torch.nn.Sequential(*layers)"
      ],
      "outputs": [],
      "metadata": {
        "collapsed": false
      }
    },
    {
      "cell_type": "markdown",
      "source": [
        "Training the model\n",
        "==================\n",
        "\n",
        "We can now train our hybrid model on the classification dataset using\n",
        "the usual Torch approach. We'll use the standard\n",
        "[SGD](https://pytorch.org/docs/stable/optim.html#torch.optim.SGD)\n",
        "optimizer and the mean absolute error loss function:\n"
      ],
      "metadata": {}
    },
    {
      "cell_type": "code",
      "execution_count": null,
      "source": [
        "opt = torch.optim.SGD(model.parameters(), lr=0.2)\n",
        "loss = torch.nn.L1Loss()"
      ],
      "outputs": [],
      "metadata": {
        "collapsed": false
      }
    },
    {
      "cell_type": "markdown",
      "source": [
        "Note that there are more advanced combinations of optimizer and loss\n",
        "function, but here we are focusing on the basics.\n",
        "\n",
        "The model is now ready to be trained!\n"
      ],
      "metadata": {}
    },
    {
      "cell_type": "code",
      "execution_count": null,
      "source": [
        "X = torch.tensor(X, requires_grad=True).float()\n",
        "y_hot = y_hot.float()\n",
        "\n",
        "batch_size = 5\n",
        "batches = 200 // batch_size\n",
        "\n",
        "data_loader = torch.utils.data.DataLoader(\n",
        "    list(zip(X, y_hot)), batch_size=5, shuffle=True, drop_last=True\n",
        ")\n",
        "\n",
        "epochs = 6\n",
        "\n",
        "for epoch in range(epochs):\n",
        "\n",
        "    running_loss = 0\n",
        "\n",
        "    for xs, ys in data_loader:\n",
        "        opt.zero_grad()\n",
        "\n",
        "        loss_evaluated = loss(model(xs), ys)\n",
        "        loss_evaluated.backward()\n",
        "\n",
        "        opt.step()\n",
        "\n",
        "        running_loss += loss_evaluated\n",
        "\n",
        "    avg_loss = running_loss / batches\n",
        "    print(\"Average loss over epoch {}: {:.4f}\".format(epoch + 1, avg_loss))\n",
        "\n",
        "y_pred = model(X)\n",
        "predictions = torch.argmax(y_pred, axis=1).detach().numpy()\n",
        "\n",
        "correct = [1 if p == p_true else 0 for p, p_true in zip(predictions, y)]\n",
        "accuracy = sum(correct) / len(correct)\n",
        "print(f\"Accuracy: {accuracy * 100}%\")"
      ],
      "outputs": [],
      "metadata": {
        "collapsed": false
      }
    },
    {
      "cell_type": "markdown",
      "source": [
        "How did we do? The model looks to have successfully trained and the\n",
        "accuracy is reasonably high. In practice, we would aim to push the\n",
        "accuracy higher by thinking carefully about the model design and the\n",
        "choice of hyperparameters such as the learning rate.\n",
        "\n",
        "Creating non-sequential models\n",
        "==============================\n",
        "\n",
        "The model we created above was composed of a sequence of classical and\n",
        "quantum layers. This type of model is very common and is suitable in a\n",
        "lot of situations. However, in some cases we may want a greater degree\n",
        "of control over how the model is constructed, for example when we have\n",
        "multiple inputs and outputs or when we want to distribute the output of\n",
        "one layer into multiple subsequent layers.\n",
        "\n",
        "Suppose we want to make a hybrid model consisting of:\n",
        "\n",
        "1.  a 4-neuron fully connected classical layer\n",
        "2.  a 2-qubit quantum layer connected to the first two neurons of the\n",
        "    previous classical layer\n",
        "3.  a 2-qubit quantum layer connected to the second two neurons of the\n",
        "    previous classical layer\n",
        "4.  a 2-neuron fully connected classical layer which takes a\n",
        "    4-dimensional input from the combination of the previous quantum\n",
        "    layers\n",
        "5.  a softmax activation to convert to a probability vector\n",
        "\n",
        "A diagram of the model can be seen in the figure below.\n",
        "\n",
        "![](.img/qnn2_torch.png)\n",
        "\n",
        "This model can also be constructed by creating a new class that inherits\n",
        "from the `torch.nn`\n",
        "[Module](https://pytorch.org/docs/stable/nn.html#torch.nn.Module) and\n",
        "overriding the `forward()` method:\n"
      ],
      "metadata": {}
    },
    {
      "cell_type": "code",
      "execution_count": null,
      "source": [
        "class HybridModel(torch.nn.Module):\n",
        "    def __init__(self):\n",
        "        super().__init__()\n",
        "        self.clayer_1 = torch.nn.Linear(2, 4)\n",
        "        self.qlayer_1 = qml.qnn.TorchLayer(qnode, weight_shapes)\n",
        "        self.qlayer_2 = qml.qnn.TorchLayer(qnode, weight_shapes)\n",
        "        self.clayer_2 = torch.nn.Linear(4, 2)\n",
        "        self.softmax = torch.nn.Softmax(dim=1)\n",
        "\n",
        "    def forward(self, x):\n",
        "        x = self.clayer_1(x)\n",
        "        x_1, x_2 = torch.split(x, 2, dim=1)\n",
        "        x_1 = self.qlayer_1(x_1)\n",
        "        x_2 = self.qlayer_2(x_2)\n",
        "        x = torch.cat([x_1, x_2], axis=1)\n",
        "        x = self.clayer_2(x)\n",
        "        return self.softmax(x)\n",
        "\n",
        "model = HybridModel()"
      ],
      "outputs": [],
      "metadata": {
        "collapsed": false
      }
    },
    {
      "cell_type": "markdown",
      "source": [
        "As a final step, let's train the model to check if it's working:\n"
      ],
      "metadata": {}
    },
    {
      "cell_type": "code",
      "execution_count": null,
      "source": [
        "opt = torch.optim.SGD(model.parameters(), lr=0.2)\n",
        "epochs = 6\n",
        "\n",
        "for epoch in range(epochs):\n",
        "\n",
        "    running_loss = 0\n",
        "\n",
        "    for xs, ys in data_loader:\n",
        "        opt.zero_grad()\n",
        "\n",
        "        loss_evaluated = loss(model(xs), ys)\n",
        "        loss_evaluated.backward()\n",
        "\n",
        "        opt.step()\n",
        "\n",
        "        running_loss += loss_evaluated\n",
        "\n",
        "    avg_loss = running_loss / batches\n",
        "    print(\"Average loss over epoch {}: {:.4f}\".format(epoch + 1, avg_loss))\n",
        "\n",
        "y_pred = model(X)\n",
        "predictions = torch.argmax(y_pred, axis=1).detach().numpy()\n",
        "\n",
        "correct = [1 if p == p_true else 0 for p, p_true in zip(predictions, y)]\n",
        "accuracy = sum(correct) / len(correct)\n",
        "print(f\"Accuracy: {accuracy * 100}%\")"
      ],
      "outputs": [],
      "metadata": {
        "collapsed": false
      }
    },
    {
      "cell_type": "markdown",
      "source": [
        "Great! We've mastered the basics of constructing hybrid\n",
        "classical-quantum models using PennyLane and Torch. Can you think of any\n",
        "interesting hybrid models to construct? How do they perform on realistic\n",
        "datasets?\n"
      ],
      "metadata": {}
    }
  ],
  "metadata": {
    "kernelspec": {
      "display_name": "PennyLane",
      "language": "python",
      "name": "pennylane"
    },
    "language_info": {
      "codemirror_mode": {
        "name": "ipython",
        "version": 3
      },
      "file_extension": ".py",
      "mimetype": "text/x-python",
      "name": "python",
      "nbconvert_exporter": "python",
      "pygments_lexer": "ipython3",
      "version": "3.7.2"
    }
  },
  "nbformat": 4,
  "nbformat_minor": 2
}