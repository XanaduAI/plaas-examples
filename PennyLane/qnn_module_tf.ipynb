{
  "cells": [
    {
      "cell_type": "markdown",
      "source": [
        "> **Note**\n",
        ">\n",
        "> Saved changes to this file will not presist between instances. To retain your edits,\n",
        "> please save the file to your main directory.\n",
        "\n"
      ],
      "metadata": {}
    },
    {
      "cell_type": "markdown",
      "source": [
        "Turning quantum nodes into Keras Layers\n",
        "=======================================\n",
        "\n",
        "*Author: PennyLane dev team. Posted: 2 Nov 2020. Last updated: 28 Jan\n",
        "2021.*\n",
        "\n",
        "Creating neural networks in [Keras](https://keras.io/) is easy. Models\n",
        "are constructed from elementary *layers* and can be trained using a\n",
        "high-level API. For example, the following code defines a two-layer\n",
        "network that could be used for binary classification:\n"
      ],
      "metadata": {}
    },
    {
      "cell_type": "code",
      "execution_count": null,
      "source": [
        "import tensorflow as tf\n",
        "\n",
        "tf.keras.backend.set_floatx('float64')\n",
        "\n",
        "layer_1 = tf.keras.layers.Dense(2)\n",
        "layer_2 = tf.keras.layers.Dense(2, activation=\"softmax\")\n",
        "\n",
        "model = tf.keras.Sequential([layer_1, layer_2])\n",
        "model.compile(loss=\"mae\")"
      ],
      "outputs": [],
      "metadata": {
        "collapsed": false
      }
    },
    {
      "cell_type": "markdown",
      "source": [
        "The model can then be trained using\n",
        "[model.fit()](https://www.tensorflow.org/api_docs/python/tf/keras/Model#fit).\n",
        "\n",
        "**What if we want to add a quantum layer to our model?** This is\n",
        "possible in PennyLane: [QNodes](https://pennylane.ai/qml/glossary/hybrid_computation.html)\n",
        "can be converted into Keras layers and combined with the wide range of\n",
        "built-in classical\n",
        "[layers](https://www.tensorflow.org/api_docs/python/tf/keras/layers) to\n",
        "create truly hybrid models. This tutorial will guide you through a\n",
        "simple example to show you how it's done!\n",
        "\n",
        "> **Note**\n",
        ">\n",
        "> A similar demo explaining how to\n",
        "> [turn quantum nodes into Torch layers](https://pennylane.ai/qml/demos/tutorial_qnn_module_torch.html)\n",
        "> is also available.\n",
        "\n",
        "Fixing the dataset and problem\n",
        "==============================\n",
        "\n",
        "Let us begin by choosing a simple dataset and problem to allow us to\n",
        "focus on how the hybrid model is constructed. Our objective is to\n",
        "classify points generated from scikit-learn's binary-class\n",
        "[make\\_moons()](https://scikit-learn.org/stable/modules/generated/sklearn.datasets.make_moons.html)\n",
        "dataset:\n"
      ],
      "metadata": {}
    },
    {
      "cell_type": "code",
      "execution_count": null,
      "source": [
        "import matplotlib.pyplot as plt\n",
        "import numpy as np\n",
        "from sklearn.datasets import make_moons\n",
        "\n",
        "# Set random seeds\n",
        "np.random.seed(42)\n",
        "tf.random.set_seed(42)\n",
        "\n",
        "X, y = make_moons(n_samples=200, noise=0.1)\n",
        "y_hot = tf.keras.utils.to_categorical(y, num_classes=2)  # one-hot encoded labels\n",
        "\n",
        "c = [\"#1f77b4\" if y_ == 0 else \"#ff7f0e\" for y_ in y]  # colours for each class\n",
        "plt.axis(\"off\")\n",
        "plt.scatter(X[:, 0], X[:, 1], c=c)\n",
        "plt.show()"
      ],
      "outputs": [],
      "metadata": {
        "collapsed": false
      }
    },
    {
      "cell_type": "markdown",
      "source": [
        "Defining a QNode\n",
        "================\n",
        "\n",
        "Our next step is to define the QNode that we want to interface with\n",
        "Keras. Any combination of device, operations and measurements that is\n",
        "valid in PennyLane can be used to compose the QNode. However, the QNode\n",
        "arguments must satisfy additional [conditions](https://pennylane.readthedocs.io/en/stable/code/api/pennylane.qnn.KerasLayer.html) including having an argument\n",
        "called `inputs`. All other arguments must be arrays or tensors and are\n",
        "treated as trainable weights in the model. We fix a two-qubit QNode\n",
        "using the\n",
        "[default.qubit](https://pennylane.readthedocs.io/en/stable/code/api/pennylane.devices.default_qubit.DefaultQubit.html)\n",
        "simulator and operations from the\n",
        "[templates](https://pennylane.readthedocs.io/en/stable/introduction/templates.html) module.\n"
      ],
      "metadata": {}
    },
    {
      "cell_type": "code",
      "execution_count": null,
      "source": [
        "import pennylane as qml\n",
        "\n",
        "n_qubits = 2\n",
        "dev = qml.device(\"default.qubit\", wires=n_qubits)\n",
        "\n",
        "@qml.qnode(dev)\n",
        "def qnode(inputs, weights):\n",
        "    qml.templates.AngleEmbedding(inputs, wires=range(n_qubits))\n",
        "    qml.templates.BasicEntanglerLayers(weights, wires=range(n_qubits))\n",
        "    return [qml.expval(qml.PauliZ(wires=i)) for i in range(n_qubits)]"
      ],
      "outputs": [],
      "metadata": {
        "collapsed": false
      }
    },
    {
      "cell_type": "markdown",
      "source": [
        "Interfacing with Keras\n",
        "======================\n",
        "\n",
        "With the QNode defined, we are ready to interface with Keras. This is\n",
        "achieved using the [KerasLayer](https://pennylane.readthedocs.io/en/stable/code/api/pennylane.qnn.KerasLayer.html) class of the [qnn](https://pennylane.readthedocs.io/en/stable/code/qml_qnn.html#module-pennylane.qnn) module, which converts the QNode to the elementary\n",
        "building block of Keras: a *layer*. We shall see in the following how\n",
        "the resultant layer can be combined with other well-known neural network\n",
        "layers to form a hybrid model.\n",
        "\n",
        "We must first define the `weight_shapes` dictionary. Recall that all of\n",
        "the arguments of the QNode (except the one named `inputs`) are treated\n",
        "as trainable weights. For the QNode to be successfully converted to a\n",
        "layer in Keras, we need to provide the details of the shape of each\n",
        "trainable weight for them to be initialized. The `weight_shapes`\n",
        "dictionary maps from the argument names of the QNode to corresponding\n",
        "shapes:\n"
      ],
      "metadata": {}
    },
    {
      "cell_type": "code",
      "execution_count": null,
      "source": [
        "n_layers = 6\n",
        "weight_shapes = {\"weights\": (n_layers, n_qubits)}"
      ],
      "outputs": [],
      "metadata": {
        "collapsed": false
      }
    },
    {
      "cell_type": "markdown",
      "source": [
        "In our example, the `weights` argument of the QNode is trainable and has\n",
        "shape given by `(n_layers, n_qubits)`, which is passed to\n",
        "`BasicEntanglerLayers()`.\n",
        "\n",
        "Now that `weight_shapes` is defined, it is easy to then convert the\n",
        "QNode:\n"
      ],
      "metadata": {}
    },
    {
      "cell_type": "code",
      "execution_count": null,
      "source": [
        "qlayer = qml.qnn.KerasLayer(qnode, weight_shapes, output_dim=n_qubits)"
      ],
      "outputs": [],
      "metadata": {
        "collapsed": false
      }
    },
    {
      "cell_type": "markdown",
      "source": [
        "With this done, the QNode can now be treated just like any other Keras\n",
        "layer and we can proceed using the familiar Keras workflow.\n",
        "\n",
        "Creating a hybrid model\n",
        "=======================\n",
        "\n",
        "Let's create a basic three-layered hybrid model consisting of:\n",
        "\n",
        "1.  a 2-neuron fully connected classical layer\n",
        "2.  our 2-qubit QNode converted into a layer\n",
        "3.  another 2-neuron fully connected classical layer\n",
        "4.  a softmax activation to convert to a probability vector\n",
        "\n",
        "A diagram of the model can be seen in the figure below.\n",
        "\n",
        "![](.img/qnn_keras.png)\n",
        "\n",
        "We can construct the model using the\n",
        "[Sequential](https://www.tensorflow.org/api_docs/python/tf/keras/Sequential)\n",
        "API:\n"
      ],
      "metadata": {}
    },
    {
      "cell_type": "code",
      "execution_count": null,
      "source": [
        "clayer_1 = tf.keras.layers.Dense(2)\n",
        "clayer_2 = tf.keras.layers.Dense(2, activation=\"softmax\")\n",
        "model = tf.keras.models.Sequential([clayer_1, qlayer, clayer_2])"
      ],
      "outputs": [],
      "metadata": {
        "collapsed": false
      }
    },
    {
      "cell_type": "markdown",
      "source": [
        "Training the model\n",
        "==================\n",
        "\n",
        "We can now train our hybrid model on the classification dataset using\n",
        "the usual Keras approach. We'll use the standard\n",
        "[SGD](https://www.tensorflow.org/api_docs/python/tf/keras/optimizers/SGD)\n",
        "optimizer and the mean absolute error loss function:\n"
      ],
      "metadata": {}
    },
    {
      "cell_type": "code",
      "execution_count": null,
      "source": [
        "opt = tf.keras.optimizers.SGD(learning_rate=0.2)\n",
        "model.compile(opt, loss=\"mae\", metrics=[\"accuracy\"])"
      ],
      "outputs": [],
      "metadata": {
        "collapsed": false
      }
    },
    {
      "cell_type": "markdown",
      "source": [
        "Note that there are more advanced combinations of optimizer and loss\n",
        "function, but here we are focusing on the basics.\n",
        "\n",
        "The model is now ready to be trained!\n"
      ],
      "metadata": {}
    },
    {
      "cell_type": "code",
      "execution_count": null,
      "source": [
        "fitting = model.fit(X, y_hot, epochs=6, batch_size=5, validation_split=0.25, verbose=2)"
      ],
      "outputs": [],
      "metadata": {
        "collapsed": false
      }
    },
    {
      "cell_type": "markdown",
      "source": [
        "How did we do? The model looks to have successfully trained and the\n",
        "accuracy on both the training and validation datasets is reasonably\n",
        "high. In practice, we would aim to push the accuracy higher by thinking\n",
        "carefully about the model design and the choice of hyperparameters such\n",
        "as the learning rate.\n",
        "\n",
        "Creating non-sequential models\n",
        "==============================\n",
        "\n",
        "The model we created above was composed of a sequence of classical and\n",
        "quantum layers. This type of model is very common and is suitable in a\n",
        "lot of situations. However, in some cases we may want a greater degree\n",
        "of control over how the model is constructed, for example when we have\n",
        "multiple inputs and outputs or when we want to distribute the output of\n",
        "one layer into multiple subsequent layers.\n",
        "\n",
        "Suppose we want to make a hybrid model consisting of:\n",
        "\n",
        "1.  a 4-neuron fully connected classical layer\n",
        "2.  a 2-qubit quantum layer connected to the first two neurons of the\n",
        "    previous classical layer\n",
        "3.  a 2-qubit quantum layer connected to the second two neurons of the\n",
        "    previous classical layer\n",
        "4.  a 2-neuron fully connected classical layer which takes a\n",
        "    4-dimensional input from the combination of the previous quantum\n",
        "    layers\n",
        "5.  a softmax activation to convert to a probability vector\n",
        "\n",
        "A diagram of the model can be seen in the figure below.\n",
        "\n",
        "![](.img/qnn2_keras.png)\n",
        "\n",
        "This model can also be constructed using the [Functional\n",
        "API](https://keras.io/guides/functional_api/):\n"
      ],
      "metadata": {}
    },
    {
      "cell_type": "code",
      "execution_count": null,
      "source": [
        "# re-define the layers\n",
        "clayer_1 = tf.keras.layers.Dense(4)\n",
        "qlayer_1 = qml.qnn.KerasLayer(qnode, weight_shapes, output_dim=n_qubits)\n",
        "qlayer_2 = qml.qnn.KerasLayer(qnode, weight_shapes, output_dim=n_qubits)\n",
        "clayer_2 = tf.keras.layers.Dense(2, activation=\"softmax\")\n",
        "\n",
        "# construct the model\n",
        "inputs = tf.keras.Input(shape=(2,))\n",
        "x = clayer_1(inputs)\n",
        "x_1, x_2 = tf.split(x, 2, axis=1)\n",
        "x_1 = qlayer_1(x_1)\n",
        "x_2 = qlayer_2(x_2)\n",
        "x = tf.concat([x_1, x_2], axis=1)\n",
        "outputs = clayer_2(x)\n",
        "\n",
        "model = tf.keras.Model(inputs=inputs, outputs=outputs)"
      ],
      "outputs": [],
      "metadata": {
        "collapsed": false
      }
    },
    {
      "cell_type": "markdown",
      "source": [
        "As a final step, let's train the model to check if it's working:\n"
      ],
      "metadata": {}
    },
    {
      "cell_type": "code",
      "execution_count": null,
      "source": [
        "opt = tf.keras.optimizers.SGD(learning_rate=0.2)\n",
        "model.compile(opt, loss=\"mae\", metrics=[\"accuracy\"])\n",
        "\n",
        "fitting = model.fit(X, y_hot, epochs=6, batch_size=5, validation_split=0.25, verbose=2)"
      ],
      "outputs": [],
      "metadata": {
        "collapsed": false
      }
    },
    {
      "cell_type": "markdown",
      "source": [
        "Great! We've mastered the basics of constructing hybrid\n",
        "classical-quantum models using PennyLane and Keras. Can you think of any\n",
        "interesting hybrid models to construct? How do they perform on realistic\n",
        "datasets?\n"
      ],
      "metadata": {}
    }
  ],
  "metadata": {
    "kernelspec": {
      "display_name": "PennyLane",
      "language": "python",
      "name": "pennylane"
    },
    "language_info": {
      "codemirror_mode": {
        "name": "ipython",
        "version": 3
      },
      "file_extension": ".py",
      "mimetype": "text/x-python",
      "name": "python",
      "nbconvert_exporter": "python",
      "pygments_lexer": "ipython3",
      "version": "3.7.2"
    }
  },
  "nbformat": 4,
  "nbformat_minor": 2
}