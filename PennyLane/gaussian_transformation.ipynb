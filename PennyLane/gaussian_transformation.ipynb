{
 "cells": [
  {
   "cell_type": "markdown",
   "metadata": {},
   "source": [
    "Gaussian transformation\n",
    "=======================\n",
    "\n",
    "*Author: PennyLane dev team. Last updated: 16 Oct 2020.*\n",
    "\n",
    "This tutorial demonstrates the basic working principles of PennyLane for\n",
    "continuous-variable (CV) photonic devices. For more details about\n",
    "photonic quantum computing, the [Strawberry Fields\n",
    "documentation](https://strawberryfields.readthedocs.io/en/latest/) is a\n",
    "great starting point.\n",
    "\n",
    "The quantum circuit\n",
    "-------------------\n",
    "\n",
    "For this basic tutorial, we will consider a special subset of CV\n",
    "operations: the *Gaussian transformations*. We work with the following\n",
    "simple Gaussian circuit:\n",
    "\n",
    "![](.img/gaussian_transformation.svg)\n",
    "\n",
    "What is this circuit doing?\n",
    "\n",
    "1.  **We begin with one wire (qumode) in the vacuum state**. Note that\n",
    "    we use the same notation $|0\\rangle$ for the initial state as the\n",
    "    previous qubit tutorial. In a photonic CV system, this state is the\n",
    "    *vacuum state*, i.e., the state with no photons in the wire.\n",
    "2.  **We displace the qumode**. The displacement gate linearly shifts\n",
    "    the state of the qumode in phase space. The vacuum state is centered\n",
    "    at the origin in phase space, while the displaced state will be\n",
    "    centered at the point $\\alpha$.\n",
    "3.  **We rotate the qumode**. This is another linear transformation in\n",
    "    phase space, albeit a rotation (by angle $\\phi$) instead of\n",
    "    a displacement.\n",
    "4.  **Finally, we measure the mean photon number**\n",
    "    $\\langle\\hat{n}\\rangle =\n",
    "    \\langle\\hat{a}^\\dagger \\hat{a}\\rangle$. This quantity, which tells\n",
    "    us the average amount of photons in the final state, is proportional\n",
    "    to the energy of the photonic system.\n",
    "\n"
   ]
  },
  {
   "cell_type": "markdown",
   "metadata": {},
   "source": [
    "The aim of this tutorial is to optimize the circuit parameters\n",
    "$(\\alpha, \\phi)$ such that the mean photon number is equal to one. The\n",
    "rotation gate is actually a *passive transformation*, meaning that it\n",
    "does not change the energy of the system. The displacement gate is an\n",
    "*active transformation*, which modifies the energy of the photonic\n",
    "system.\n",
    "\n",
    "Constructing the QNode\n",
    "======================\n",
    "\n",
    "As before, we import PennyLane, as well as the wrapped version of NumPy\n",
    "provided by PennyLane:\n"
   ]
  },
  {
   "cell_type": "code",
   "execution_count": 1,
   "metadata": {
    "collapsed": false,
    "jupyter": {
     "outputs_hidden": false
    }
   },
   "outputs": [
    {
     "name": "stderr",
     "output_type": "stream",
     "text": [
      "/opt/conda/envs/pennylane/lib/python3.8/site-packages/_distutils_hack/__init__.py:30: UserWarning: Setuptools is replacing distutils.\n",
      "  warnings.warn(\"Setuptools is replacing distutils.\")\n",
      "Matplotlib created a temporary config/cache directory at /tmp/matplotlib-e8xhjmc_ because the default path (/home/jovyan/.config/matplotlib) is not a writable directory; it is highly recommended to set the MPLCONFIGDIR environment variable to a writable directory, in particular to speed up the import of Matplotlib and to better support multiprocessing.\n"
     ]
    }
   ],
   "source": [
    "import pennylane as qml\n",
    "from pennylane import numpy as np"
   ]
  },
  {
   "cell_type": "markdown",
   "metadata": {},
   "source": [
    "Next, we instantiate a device which will be used to evaluate the\n",
    "circuit. Because our circuit contains only Gaussian operations, we can\n",
    "make use of the built-in `default.gaussian` device.\n"
   ]
  },
  {
   "cell_type": "code",
   "execution_count": 2,
   "metadata": {
    "collapsed": false,
    "jupyter": {
     "outputs_hidden": false
    }
   },
   "outputs": [],
   "source": [
    "dev_gaussian = qml.device(\"default.gaussian\", wires=1)"
   ]
  },
  {
   "cell_type": "markdown",
   "metadata": {},
   "source": [
    "After initializing the device, we can construct our quantum node. As\n",
    "before, we use the [qnode()](https://pennylane.readthedocs.io/en/stable/code/api/pennylane.qnode.html) to convert our quantum function\n",
    "(encoded by the circuit above) into a quantum node running on the\n",
    "`default.gaussian` device.\n"
   ]
  },
  {
   "cell_type": "code",
   "execution_count": 3,
   "metadata": {
    "collapsed": false,
    "jupyter": {
     "outputs_hidden": false
    }
   },
   "outputs": [],
   "source": [
    "@qml.qnode(dev_gaussian)\n",
    "def mean_photon_gaussian(mag_alpha, phase_alpha, phi):\n",
    "    qml.Displacement(mag_alpha, phase_alpha, wires=0)\n",
    "    qml.Rotation(phi, wires=0)\n",
    "    return qml.expval(qml.NumberOperator(0))"
   ]
  },
  {
   "cell_type": "markdown",
   "metadata": {},
   "source": [
    "Notice that we have broken up the complex number $\\alpha$ into two real\n",
    "numbers `mag_alpha` and `phase_alpha`, which form a polar representation\n",
    "of $\\alpha$. This is so that the notion of a gradient is clear and\n",
    "well-defined.\n"
   ]
  },
  {
   "cell_type": "markdown",
   "metadata": {},
   "source": [
    "Optimization\n",
    "============\n",
    "\n",
    "As in the [qubit rotation](https://pennylane.ai/qml/demos/tutorial_qubit_rotation.html#qubit-rotation) tutorial, let's now use\n",
    "one of the built-in PennyLane optimizers in order to optimize the\n",
    "quantum circuit towards the desired output. We want the mean photon\n",
    "number to be exactly one, so we will use a squared-difference cost\n",
    "function:\n"
   ]
  },
  {
   "cell_type": "code",
   "execution_count": 4,
   "metadata": {
    "collapsed": false,
    "jupyter": {
     "outputs_hidden": false
    }
   },
   "outputs": [],
   "source": [
    "def cost(params):\n",
    "    return (mean_photon_gaussian(params[0], params[1], params[2]) - 1.0) ** 2"
   ]
  },
  {
   "cell_type": "markdown",
   "metadata": {},
   "source": [
    "At the beginning of the optimization, we choose arbitrary small initial\n",
    "parameters:\n"
   ]
  },
  {
   "cell_type": "code",
   "execution_count": 5,
   "metadata": {
    "collapsed": false,
    "jupyter": {
     "outputs_hidden": false
    }
   },
   "outputs": [
    {
     "name": "stdout",
     "output_type": "stream",
     "text": [
      "0.9995500506249999\n"
     ]
    }
   ],
   "source": [
    "init_params = np.array([0.015, 0.02, 0.005], requires_grad=True)\n",
    "print(cost(init_params))"
   ]
  },
  {
   "cell_type": "markdown",
   "metadata": {},
   "source": [
    "When the gate parameters are near to zero, the gates are close to the\n",
    "identity transformation, which leaves the initial state largely\n",
    "unchanged. Since the initial state contains no photons, the mean photon\n",
    "number of the circuit output is approximately zero, and the cost is\n",
    "close to one.\n"
   ]
  },
  {
   "cell_type": "markdown",
   "metadata": {},
   "source": [
    "> **Note**\n",
    ">\n",
    "> We avoided initial parameters which are exactly zero because that\n",
    "> corresponds to a critical point with zero gradient.\n",
    "\n",
    "Now, let's use the [GradientDescentOptimizer](https://pennylane.readthedocs.io/en/stable/code/api/pennylane.GradientDescentOptimizer.html), and update the\n",
    "circuit parameters over 100 optimization steps.\n"
   ]
  },
  {
   "cell_type": "code",
   "execution_count": 6,
   "metadata": {
    "collapsed": false,
    "jupyter": {
     "outputs_hidden": false
    }
   },
   "outputs": [
    {
     "name": "stdout",
     "output_type": "stream",
     "text": [
      "Cost after step     1: 0.999118\n",
      "Cost after step     2: 0.998273\n",
      "Cost after step     3: 0.996618\n",
      "Cost after step     4: 0.993382\n",
      "Cost after step     5: 0.987074\n",
      "Cost after step     6: 0.974837\n",
      "Cost after step     7: 0.951332\n",
      "Cost after step     8: 0.907043\n",
      "Cost after step     9: 0.826649\n",
      "Cost after step    10: 0.690812\n",
      "Cost after step    11: 0.490303\n",
      "Cost after step    12: 0.258845\n",
      "Cost after step    13: 0.083224\n",
      "Cost after step    14: 0.013179\n",
      "Cost after step    15: 0.001001\n",
      "Cost after step    16: 0.000049\n",
      "Cost after step    17: 0.000002\n",
      "Cost after step    18: 0.000000\n",
      "Cost after step    19: 0.000000\n",
      "Cost after step    20: 0.000000\n",
      "Optimized mag_alpha:0.999994\n",
      "Optimized phase_alpha:0.020000\n",
      "Optimized phi:0.005000\n"
     ]
    }
   ],
   "source": [
    "# initialise the optimizer\n",
    "opt = qml.GradientDescentOptimizer(stepsize=0.1)\n",
    "\n",
    "# set the number of steps\n",
    "steps = 20\n",
    "# set the initial parameter values\n",
    "params = init_params\n",
    "\n",
    "for i in range(steps):\n",
    "    # update the circuit parameters\n",
    "    params = opt.step(cost, params)\n",
    "\n",
    "    print(\"Cost after step {:5d}: {:8f}\".format(i + 1, cost(params)))\n",
    "\n",
    "print(\"Optimized mag_alpha:{:8f}\".format(params[0]))\n",
    "print(\"Optimized phase_alpha:{:8f}\".format(params[1]))\n",
    "print(\"Optimized phi:{:8f}\".format(params[2]))"
   ]
  },
  {
   "cell_type": "markdown",
   "metadata": {},
   "source": [
    "The optimization converges after about 20 steps to a cost function value\n",
    "of zero.\n",
    "\n",
    "We observe that the two angular parameters `phase_alpha` and `phi` do\n",
    "not change during the optimization. Only the magnitude of the complex\n",
    "displacement $|\\alpha|$ affects the mean photon number of the circuit.\n",
    "\n",
    "Continue on to the next tutorial, [Plugins and Hybrid computation](https://pennylane.ai/qml/demos/tutorial_plugins_hybrid.html#plugins-hybrid), to learn how to\n",
    "utilize the extensive plugin ecosystem of PennyLane, build\n",
    "continuous-variable (CV) quantum nodes, and to see an example of a\n",
    "hybrid qubit-CV-classical computation using PennyLane.\n"
   ]
  }
 ],
 "metadata": {
  "kernelspec": {
   "display_name": "PennyLane",
   "language": "python",
   "name": "pennylane"
  },
  "language_info": {
   "codemirror_mode": {
    "name": "ipython",
    "version": 3
   },
   "file_extension": ".py",
   "mimetype": "text/x-python",
   "name": "python",
   "nbconvert_exporter": "python",
   "pygments_lexer": "ipython3",
   "version": "3.8.12"
  }
 },
 "nbformat": 4,
 "nbformat_minor": 4
}
