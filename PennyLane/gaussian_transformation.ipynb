{
  "cells": [
    {
      "cell_type": "markdown",
      "source": [
        "> **Note**\n",
        ">\n",
        "> Saved changes to this file will not presist between instances. To retain your edits,\n",
        "> please save the file to your main directory.\n",
        "\n"
      ],
      "metadata": {}
    },
    {
      "cell_type": "markdown",
      "source": [
        "Gaussian transformation\n",
        "=======================\n",
        "\n",
        "*Author: PennyLane dev team. Last updated: 16 Oct 2020.*\n",
        "\n",
        "This tutorial demonstrates the basic working principles of PennyLane for\n",
        "continuous-variable (CV) photonic devices. For more details about\n",
        "photonic quantum computing, the [Strawberry Fields\n",
        "documentation](https://strawberryfields.readthedocs.io/en/latest/) is a\n",
        "great starting point.\n",
        "\n",
        "The quantum circuit\n",
        "-------------------\n",
        "\n",
        "For this basic tutorial, we will consider a special subset of CV\n",
        "operations: the *Gaussian transformations*. We work with the following\n",
        "simple Gaussian circuit:\n",
        "\n",
        "![](.img/gaussian_transformation.svg)\n",
        "\n",
        "What is this circuit doing?\n",
        "\n",
        "1.  **We begin with one wire (qumode) in the vacuum state**. Note that\n",
        "    we use the same notation $|0\\rangle$ for the initial state as the\n",
        "    previous qubit tutorial. In a photonic CV system, this state is the\n",
        "    *vacuum state*, i.e., the state with no photons in the wire.\n",
        "2.  **We displace the qumode**. The displacement gate linearly shifts\n",
        "    the state of the qumode in phase space. The vacuum state is centered\n",
        "    at the origin in phase space, while the displaced state will be\n",
        "    centered at the point $\\alpha$.\n",
        "3.  **We rotate the qumode**. This is another linear transformation in\n",
        "    phase space, albeit a rotation (by angle $\\phi$) instead of\n",
        "    a displacement.\n",
        "4.  **Finally, we measure the mean photon number**\n",
        "    $\\langle\\hat{n}\\rangle =\n",
        "    \\langle\\hat{a}^\\dagger \\hat{a}\\rangle$. This quantity, which tells\n",
        "    us the average amount of photons in the final state, is proportional\n",
        "    to the energy of the photonic system.\n",
        "\n"
      ],
      "metadata": {}
    },
    {
      "cell_type": "markdown",
      "source": [
        "The aim of this tutorial is to optimize the circuit parameters\n",
        "$(\\alpha, \\phi)$ such that the mean photon number is equal to one. The\n",
        "rotation gate is actually a *passive transformation*, meaning that it\n",
        "does not change the energy of the system. The displacement gate is an\n",
        "*active transformation*, which modifies the energy of the photonic\n",
        "system.\n",
        "\n",
        "Constructing the QNode\n",
        "======================\n",
        "\n",
        "As before, we import PennyLane, as well as the wrapped version of NumPy\n",
        "provided by PennyLane:\n"
      ],
      "metadata": {}
    },
    {
      "cell_type": "code",
      "execution_count": null,
      "source": [
        "import pennylane as qml\n",
        "from pennylane import numpy as np"
      ],
      "outputs": [],
      "metadata": {
        "collapsed": false
      }
    },
    {
      "cell_type": "markdown",
      "source": [
        "Next, we instantiate a device which will be used to evaluate the\n",
        "circuit. Because our circuit contains only Gaussian operations, we can\n",
        "make use of the built-in `default.gaussian` device.\n"
      ],
      "metadata": {}
    },
    {
      "cell_type": "code",
      "execution_count": null,
      "source": [
        "dev_gaussian = qml.device(\"default.gaussian\", wires=1)"
      ],
      "outputs": [],
      "metadata": {
        "collapsed": false
      }
    },
    {
      "cell_type": "markdown",
      "source": [
        "After initializing the device, we can construct our quantum node. As\n",
        "before, we use the [qnode()](https://pennylane.readthedocs.io/en/stable/code/api/pennylane.qnode.html) to convert our quantum function\n",
        "(encoded by the circuit above) into a quantum node running on the\n",
        "`default.gaussian` device.\n"
      ],
      "metadata": {}
    },
    {
      "cell_type": "code",
      "execution_count": null,
      "source": [
        "@qml.qnode(dev_gaussian)\n",
        "def mean_photon_gaussian(mag_alpha, phase_alpha, phi):\n",
        "    qml.Displacement(mag_alpha, phase_alpha, wires=0)\n",
        "    qml.Rotation(phi, wires=0)\n",
        "    return qml.expval(qml.NumberOperator(0))"
      ],
      "outputs": [],
      "metadata": {
        "collapsed": false
      }
    },
    {
      "cell_type": "markdown",
      "source": [
        "Notice that we have broken up the complex number $\\alpha$ into two real\n",
        "numbers `mag_alpha` and `phase_alpha`, which form a polar representation\n",
        "of $\\alpha$. This is so that the notion of a gradient is clear and\n",
        "well-defined.\n"
      ],
      "metadata": {}
    },
    {
      "cell_type": "markdown",
      "source": [
        "Optimization\n",
        "============\n",
        "\n",
        "As in the [qubit rotation](https://pennylane.ai/qml/demos/tutorial_qubit_rotation.html#qubit-rotation) tutorial, let's now use\n",
        "one of the built-in PennyLane optimizers in order to optimize the\n",
        "quantum circuit towards the desired output. We want the mean photon\n",
        "number to be exactly one, so we will use a squared-difference cost\n",
        "function:\n"
      ],
      "metadata": {}
    },
    {
      "cell_type": "code",
      "execution_count": null,
      "source": [
        "def cost(params):\n",
        "    return (mean_photon_gaussian(params[0], params[1], params[2]) - 1.0) ** 2"
      ],
      "outputs": [],
      "metadata": {
        "collapsed": false
      }
    },
    {
      "cell_type": "markdown",
      "source": [
        "At the beginning of the optimization, we choose arbitrary small initial\n",
        "parameters:\n"
      ],
      "metadata": {}
    },
    {
      "cell_type": "code",
      "execution_count": null,
      "source": [
        "init_params = [0.015, 0.02, 0.005]\n",
        "print(cost(init_params))"
      ],
      "outputs": [],
      "metadata": {
        "collapsed": false
      }
    },
    {
      "cell_type": "markdown",
      "source": [
        "When the gate parameters are near to zero, the gates are close to the\n",
        "identity transformation, which leaves the initial state largely\n",
        "unchanged. Since the initial state contains no photons, the mean photon\n",
        "number of the circuit output is approximately zero, and the cost is\n",
        "close to one.\n"
      ],
      "metadata": {}
    },
    {
      "cell_type": "markdown",
      "source": [
        "> **Note**\n",
        ">\n",
        "> We avoided initial parameters which are exactly zero because that\n",
        "> corresponds to a critical point with zero gradient.\n",
        "\n",
        "Now, let's use the [GradientDescentOptimizer](https://pennylane.readthedocs.io/en/stable/code/api/pennylane.GradientDescentOptimizer.html), and update the\n",
        "circuit parameters over 100 optimization steps.\n"
      ],
      "metadata": {}
    },
    {
      "cell_type": "code",
      "execution_count": null,
      "source": [
        "# initialise the optimizer\n",
        "opt = qml.GradientDescentOptimizer(stepsize=0.1)\n",
        "\n",
        "# set the number of steps\n",
        "steps = 20\n",
        "# set the initial parameter values\n",
        "params = init_params\n",
        "\n",
        "for i in range(steps):\n",
        "    # update the circuit parameters\n",
        "    params = opt.step(cost, params)\n",
        "\n",
        "    print(\"Cost after step {:5d}: {:8f}\".format(i + 1, cost(params)))\n",
        "\n",
        "print(\"Optimized mag_alpha:{:8f}\".format(params[0]))\n",
        "print(\"Optimized phase_alpha:{:8f}\".format(params[1]))\n",
        "print(\"Optimized phi:{:8f}\".format(params[2]))"
      ],
      "outputs": [],
      "metadata": {
        "collapsed": false
      }
    },
    {
      "cell_type": "markdown",
      "source": [
        "The optimization converges after about 20 steps to a cost function value\n",
        "of zero.\n",
        "\n",
        "We observe that the two angular parameters `phase_alpha` and `phi` do\n",
        "not change during the optimization. Only the magnitude of the complex\n",
        "displacement $|\\alpha|$ affects the mean photon number of the circuit.\n",
        "\n",
        "Continue on to the next tutorial, [Plugins and Hybrid computation](https://pennylane.ai/qml/demos/tutorial_plugins_hybrid.html#plugins-hybrid), to learn how to\n",
        "utilize the extensive plugin ecosystem of PennyLane, build\n",
        "continuous-variable (CV) quantum nodes, and to see an example of a\n",
        "hybrid qubit-CV-classical computation using PennyLane.\n"
      ],
      "metadata": {}
    }
  ],
  "metadata": {
    "kernelspec": {
      "display_name": "PennyLane",
      "language": "python",
      "name": "pennylane"
    },
    "language_info": {
      "codemirror_mode": {
        "name": "ipython",
        "version": 3
      },
      "file_extension": ".py",
      "mimetype": "text/x-python",
      "name": "python",
      "nbconvert_exporter": "python",
      "pygments_lexer": "ipython3",
      "version": "3.7.2"
    }
  },
  "nbformat": 4,
  "nbformat_minor": 2
}