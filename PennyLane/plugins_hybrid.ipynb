{
 "cells": [
  {
   "cell_type": "markdown",
   "metadata": {},
   "source": [
    "Plugins and Hybrid computation\n",
    "==============================\n",
    "\n",
    "*Author: PennyLane dev team. Last updated: 1 Feb 2021.*\n",
    "\n",
    "This tutorial introduces the notion of hybrid computation by combining\n",
    "several PennyLane plugins. We first introduce PennyLane's [Strawberry\n",
    "Fields plugin](https://pennylane-sf.readthedocs.io) and use it to\n",
    "explore a non-Gaussian photonic circuit. We then combine this photonic\n",
    "circuit with a qubit circuit — along with some classical processing — to\n",
    "create and optimize a fully hybrid computation. Be sure to read through\n",
    "the introductory [qubit rotation](https://pennylane.ai/qml/demos/tutorial_qubit_rotation.html#qubit-rotation) and\n",
    "[Gaussian transformation](https://pennylane.ai/qml/demos/tutorial_gaussian_transformation.html#gaussian-transformation) tutorials before attempting this tutorial.\n",
    "\n",
    "> **Note**\n",
    ">\n",
    "> To follow along with this tutorial on your own computer, you will\n",
    "> require the [PennyLane-SF\n",
    "> plugin](https://pennylane-sf.readthedocs.io), in order to access the\n",
    "> [Strawberry Fields](https://strawberryfields.readthedocs.io) Fock\n",
    "> backend using PennyLane. It can be installed via pip:\n",
    ">\n",
    "> ``` {.sourceCode .bash}\n",
    "> pip install pennylane-sf\n",
    "> ```\n",
    "\n",
    "A non-Gaussian circuit\n",
    "----------------------\n",
    "\n",
    "We first consider a photonic circuit which is similar in spirit to the\n",
    "[qubit rotation](https://pennylane.ai/qml/demos/tutorial_qubit_rotation.html#qubit-rotation) circuit:\n",
    "\n",
    "![](.img/plugins_hybrid_photon_redirection.png)\n",
    "\n",
    "Breaking this down, step-by-step:\n",
    "\n",
    "1.  **We start the computation with two qumode subsystems**. In\n",
    "    PennyLane, we use the shorthand 'wires' to refer to quantum\n",
    "    subsystems, whether they are qumodes, qubits, or any other kind of\n",
    "    quantum register.\n",
    "2.  **Prepare the state** $\\left|1,0\\right\\rangle$. That is, the first\n",
    "    wire (wire 0) is prepared in a single-photon state, while the second\n",
    "    wire (wire 1) is prepared in the vacuum state. The former state is\n",
    "    non-Gaussian, necessitating the use of the `'strawberryfields.fock'`\n",
    "    backend device.\n",
    "3.  **Both wires are then incident on a beamsplitter**, with free\n",
    "    parameters $\\theta$ and $\\phi$. Here, we have the convention that\n",
    "    the beamsplitter transmission amplitude is $t=\\cos\\theta$, and the\n",
    "    reflection amplitude is $r=e^{i\\phi}\\sin\\theta$. See\n",
    "    [Quantum operations](https://pennylane.readthedocs.io/en/stable/introduction/operations.html)\n",
    "    for a full list of operation conventions.\n",
    "4.  **Finally, we measure the mean photon number**\n",
    "    $\\left\\langle \\hat{n}\\right\\rangle$ of the second wire, where\n",
    "\n",
    "    $$\\hat{n} = \\hat{a}^\\dagger\\hat{a}$$\n",
    "\n",
    "    is the number operator, acting on the Fock basis number states, such\n",
    "    that $\\hat{n}\\left|n\\right\\rangle = n\\left|n\\right\\rangle$.\n",
    "\n",
    "The aim of this tutorial is to optimize the beamsplitter parameters\n",
    "$(\\theta, \\phi)$ such that the expected photon number of the second wire\n",
    "is **maximized**. Since the beamsplitter is a passive optical element\n",
    "that preserves the total photon number, this to the output state\n",
    "$\\left|0,1\\right\\rangle$ — i.e., when the incident photon from the first\n",
    "wire has been 'redirected' to the second wire.\n",
    "\n",
    "### Exact calculation\n",
    "\n",
    "To compare with later numerical results, we can first consider what\n",
    "happens analytically. The initial state of the circuit is\n",
    "$\\left|\\psi_0\\right\\rangle=\\left|1,0\\right\\rangle$, and the output state\n",
    "of the system is of the form\n",
    "$\\left|\\psi\\right\\rangle = a\\left|1, 0\\right\\rangle + b\\left|0,1\\right\\rangle$,\n",
    "where $|a|^2+|b|^2=1$. We may thus write the output state as a vector in\n",
    "this computational basis,\n",
    "$\\left|\\psi\\right\\rangle = \\begin{bmatrix}a & b\\end{bmatrix}^T$.\n",
    "\n",
    "The beamsplitter acts on this two-dimensional subspace as follows:\n",
    "\n",
    "$$\\left|\\psi\\right\\rangle = B(\\theta, \\phi)\\left|1, 0\\right\\rangle = \\begin{bmatrix}\n",
    "     \\cos\\theta & -e^{-i\\phi}\\sin\\theta\\\\\n",
    "     e^{i\\phi}\\sin\\theta & \\cos\\theta\n",
    " \\end{bmatrix}\\begin{bmatrix} 1\\\\ 0\\end{bmatrix} = \\begin{bmatrix}\n",
    "     \\cos\\theta\\\\\n",
    "     e^{i\\phi} \\sin\\theta\n",
    " \\end{bmatrix}$$\n",
    "\n",
    "Furthermore, the mean photon number of the second wire is\n",
    "\n",
    "$$\\left\\langle{\\hat{n}_1}\\right\\rangle = \\langle{\\psi}\\mid{\\hat{n}_1}\\mid{\\psi}\\rangle = |e^{i\\phi} \\sin\\theta|^2\n",
    "\\langle{0,1}\\mid{\\hat{n}_1}\\mid{0,1}\\rangle = \\sin^2 \\theta.$$\n",
    "\n",
    "Therefore, we can see that:\n",
    "\n",
    "1.  $0\\leq \\left\\langle \\hat{n}_1\\right\\rangle\\leq 1$: the output of the\n",
    "    quantum circuit is bound between 0 and 1;\n",
    "2.  $\\frac{\\partial}{\\partial \\phi} \\left\\langle \\hat{n}_1\\right\\rangle=0$:\n",
    "    the output of the quantum circuit is independent of the beamsplitter\n",
    "    phase $\\phi$;\n",
    "3.  The output of the quantum circuit above is maximised when\n",
    "    $\\theta=(2m+1)\\pi/2$ for $m\\in\\mathbb{Z}_0$.\n",
    "\n",
    "Loading the plugin device\n",
    "-------------------------\n",
    "\n",
    "While PennyLane provides a basic qubit simulator (`'default.qubit'`) and\n",
    "a basic CV Gaussian simulator (`'default.gaussian'`), the true power of\n",
    "PennyLane comes from its [plugin\n",
    "ecosystem](https://pennylane.ai/plugins.html), allowing quantum\n",
    "computations to be run on a variety of quantum simulator and hardware\n",
    "devices.\n",
    "\n",
    "For this circuit, we will be using the `'strawberryfields.fock'` device\n",
    "to construct a QNode. This allows the underlying quantum computation to\n",
    "be performed using the [Strawberry\n",
    "Fields](https://strawberryfields.readthedocs.io) Fock backend.\n",
    "\n",
    "As usual, we begin by importing PennyLane and the wrapped version of\n",
    "NumPy provided by PennyLane:\n"
   ]
  },
  {
   "cell_type": "code",
   "execution_count": 1,
   "metadata": {
    "collapsed": false,
    "jupyter": {
     "outputs_hidden": false
    }
   },
   "outputs": [
    {
     "name": "stderr",
     "output_type": "stream",
     "text": [
      "/opt/conda/envs/pennylane/lib/python3.8/site-packages/_distutils_hack/__init__.py:30: UserWarning: Setuptools is replacing distutils.\n",
      "  warnings.warn(\"Setuptools is replacing distutils.\")\n",
      "WARNING:matplotlib:Matplotlib created a temporary config/cache directory at /tmp/matplotlib-p2vsko7o because the default path (/home/jovyan/.config/matplotlib) is not a writable directory; it is highly recommended to set the MPLCONFIGDIR environment variable to a writable directory, in particular to speed up the import of Matplotlib and to better support multiprocessing.\n"
     ]
    }
   ],
   "source": [
    "import pennylane as qml\n",
    "from pennylane import numpy as np"
   ]
  },
  {
   "cell_type": "markdown",
   "metadata": {},
   "source": [
    "Next, we create a device to run the quantum node. This is easy in\n",
    "PennyLane; as soon as the PennyLane-SF plugin is installed, the\n",
    "`'strawberryfields.fock'` device can be loaded — no additional commands\n",
    "or library imports required.\n"
   ]
  },
  {
   "cell_type": "code",
   "execution_count": 2,
   "metadata": {
    "collapsed": false,
    "jupyter": {
     "outputs_hidden": false
    }
   },
   "outputs": [],
   "source": [
    "dev_fock = qml.device(\"strawberryfields.fock\", wires=2, cutoff_dim=2)"
   ]
  },
  {
   "cell_type": "markdown",
   "metadata": {},
   "source": [
    "Compared to the default devices provided with PennyLane, the\n",
    "`'strawberryfields.fock'` device requires the additional keyword\n",
    "argument:\n",
    "\n",
    "-   `cutoff_dim`: the Fock space truncation used to perform the quantum\n",
    "    simulation\n",
    "\n",
    "> **Note**\n",
    ">\n",
    "> Devices provided by external plugins may require additional arguments\n",
    "> and keyword arguments — consult the plugin documentation for more\n",
    "> details.\n"
   ]
  },
  {
   "cell_type": "markdown",
   "metadata": {},
   "source": [
    "Constructing the QNode\n",
    "======================\n",
    "\n",
    "Now that we have initialized the device, we can construct our quantum\n",
    "node. Like the other tutorials, we use the `qnode` decorator\n",
    "to convert our quantum function (encoded by the circuit above) into a\n",
    "quantum node running on Strawberry Fields.\n"
   ]
  },
  {
   "cell_type": "code",
   "execution_count": 3,
   "metadata": {
    "collapsed": false,
    "jupyter": {
     "outputs_hidden": false
    }
   },
   "outputs": [],
   "source": [
    "@qml.qnode(dev_fock, diff_method=\"parameter-shift\")\n",
    "def photon_redirection(params):\n",
    "    qml.FockState(1, wires=0)\n",
    "    qml.Beamsplitter(params[0], params[1], wires=[0, 1])\n",
    "    return qml.expval(qml.NumberOperator(1))"
   ]
  },
  {
   "cell_type": "markdown",
   "metadata": {},
   "source": [
    "The `'strawberryfields.fock'` device supports all CV objects provided by\n",
    "PennyLane; see [CV operations](https://pennylane.readthedocs.io/en/stable/introduction/operations.html#intro-ref-ops-cv).\n"
   ]
  },
  {
   "cell_type": "markdown",
   "metadata": {},
   "source": [
    "Optimization\n",
    "============\n",
    "\n",
    "Let's now use one of the built-in PennyLane optimizers in order to carry\n",
    "out photon redirection. Since we wish to maximize the mean photon number\n",
    "of the second wire, we can define our cost function to minimize the\n",
    "*negative* of the circuit output.\n"
   ]
  },
  {
   "cell_type": "code",
   "execution_count": 4,
   "metadata": {
    "collapsed": false,
    "jupyter": {
     "outputs_hidden": false
    }
   },
   "outputs": [],
   "source": [
    "def cost(params):\n",
    "    return -photon_redirection(params)"
   ]
  },
  {
   "cell_type": "markdown",
   "metadata": {},
   "source": [
    "To begin our optimization, let's choose the following small initial\n",
    "values of $\\theta$ and $\\phi$:\n"
   ]
  },
  {
   "cell_type": "code",
   "execution_count": 5,
   "metadata": {
    "collapsed": false,
    "jupyter": {
     "outputs_hidden": false
    }
   },
   "outputs": [
    {
     "name": "stdout",
     "output_type": "stream",
     "text": [
      "-9.999666671111081e-05\n"
     ]
    }
   ],
   "source": [
    "init_params = np.array([0.01, 0.01])\n",
    "print(cost(init_params))"
   ]
  },
  {
   "cell_type": "markdown",
   "metadata": {},
   "source": [
    "Here, we choose the values of $\\theta$ and $\\phi$ to be very close to\n",
    "zero; this results in $B(\\theta,\\phi)\\approx I$, and the output of the\n",
    "quantum circuit will be very close to $\\left|1, 0\\right\\rangle$ — i.e.,\n",
    "the circuit leaves the photon in the first mode.\n",
    "\n",
    "Why don't we choose $\\theta=0$ and $\\phi=0$?\n",
    "\n",
    "At this point in the parameter space,\n",
    "$\\left\\langle \\hat{n}_1\\right\\rangle = 0$, and\n",
    "$\\frac{d}{d\\theta}\\left\\langle{\\hat{n}_1}\\right\\rangle|_{\\theta=0}=2\\sin\\theta\\cos\\theta|_{\\theta=0}=0$.\n",
    "Since the gradient is zero at those initial parameter values, the\n",
    "optimization algorithm would never descend from the maximum.\n",
    "\n",
    "This can also be verified directly using PennyLane:\n"
   ]
  },
  {
   "cell_type": "code",
   "execution_count": 6,
   "metadata": {
    "collapsed": false,
    "jupyter": {
     "outputs_hidden": false
    }
   },
   "outputs": [
    {
     "name": "stdout",
     "output_type": "stream",
     "text": [
      "[array(0.), array(0.)]\n"
     ]
    }
   ],
   "source": [
    "dphoton_redirection = qml.grad(photon_redirection, argnum=0)\n",
    "print(dphoton_redirection([0.0, 0.0]))"
   ]
  },
  {
   "cell_type": "markdown",
   "metadata": {},
   "source": [
    "Now, let's use the [GradientDescentOptimizer](https://pennylane.readthedocs.io/en/stable/code/api/pennylane.GradientDescentOptimizer.html), and update the\n",
    "circuit parameters over 100 optimization steps.\n"
   ]
  },
  {
   "cell_type": "code",
   "execution_count": 7,
   "metadata": {
    "collapsed": false,
    "jupyter": {
     "outputs_hidden": false
    }
   },
   "outputs": [
    {
     "name": "stdout",
     "output_type": "stream",
     "text": [
      "Cost after step     5: -0.0349558\n",
      "Cost after step    10: -0.9969017\n",
      "Cost after step    15: -1.0000000\n",
      "Cost after step    20: -1.0000000\n",
      "Cost after step    25: -1.0000000\n",
      "Cost after step    30: -1.0000000\n",
      "Cost after step    35: -1.0000000\n",
      "Cost after step    40: -1.0000000\n",
      "Cost after step    45: -1.0000000\n",
      "Cost after step    50: -1.0000000\n",
      "Cost after step    55: -1.0000000\n",
      "Cost after step    60: -1.0000000\n",
      "Cost after step    65: -1.0000000\n",
      "Cost after step    70: -1.0000000\n",
      "Cost after step    75: -1.0000000\n",
      "Cost after step    80: -1.0000000\n",
      "Cost after step    85: -1.0000000\n",
      "Cost after step    90: -1.0000000\n",
      "Cost after step    95: -1.0000000\n",
      "Cost after step   100: -1.0000000\n",
      "Optimized rotation angles: [1.57079633 0.01      ]\n"
     ]
    }
   ],
   "source": [
    "# initialise the optimizer\n",
    "opt = qml.GradientDescentOptimizer(stepsize=0.4)\n",
    "\n",
    "# set the number of steps\n",
    "steps = 100\n",
    "# set the initial parameter values\n",
    "params = init_params\n",
    "\n",
    "for i in range(steps):\n",
    "    # update the circuit parameters\n",
    "    params = opt.step(cost, params)\n",
    "\n",
    "    if (i + 1) % 5 == 0:\n",
    "        print(\"Cost after step {:5d}: {: .7f}\".format(i + 1, cost(params)))\n",
    "\n",
    "print(\"Optimized rotation angles: {}\".format(params))"
   ]
  },
  {
   "cell_type": "markdown",
   "metadata": {},
   "source": [
    "Comparing this to the\n",
    "[exact calculation](https://pennylane.ai/qml/demos/tutorial_plugins_hybrid.html#photon-redirection-calc) above, this is close\n",
    "to the optimum value of $\\theta=\\pi/2$, while the value of $\\phi$ has\n",
    "not changed — consistent with the fact that\n",
    "$\\left\\langle \\hat{n}_1\\right\\rangle$ is independent of $\\phi$.\n",
    "\n",
    "Hybrid computation\n",
    "==================\n",
    "\n",
    "To really highlight the capabilities of PennyLane, let's now combine the\n",
    "qubit-rotation QNode from the\n",
    "[qubit rotation tutorial](https://pennylane.ai/qml/demos/tutorial_qubit_rotation.html#qubit-rotation) with the CV\n",
    "photon-redirection QNode from above, as well as some classical\n",
    "processing, to produce a truly hybrid computational model.\n",
    "\n",
    "First, we define a computation consisting of three steps: two quantum\n",
    "nodes (the qubit rotation and photon redirection circuits, running on\n",
    "the `'default.qubit'` and `'strawberryfields.fock'` devices,\n",
    "respectively), along with a classical function, that simply returns the\n",
    "squared difference of its two inputs using NumPy:\n"
   ]
  },
  {
   "cell_type": "code",
   "execution_count": 8,
   "metadata": {
    "collapsed": false,
    "jupyter": {
     "outputs_hidden": false
    }
   },
   "outputs": [],
   "source": [
    "# create the devices\n",
    "dev_qubit = qml.device(\"default.qubit\", wires=1)\n",
    "dev_fock = qml.device(\"strawberryfields.fock\", wires=2, cutoff_dim=10)\n",
    "\n",
    "\n",
    "@qml.qnode(dev_qubit)\n",
    "def qubit_rotation(phi1, phi2):\n",
    "    \"\"\"Qubit rotation QNode\"\"\"\n",
    "    qml.RX(phi1, wires=0)\n",
    "    qml.RY(phi2, wires=0)\n",
    "    return qml.expval(qml.PauliZ(0))\n",
    "\n",
    "\n",
    "@qml.qnode(dev_fock, diff_method=\"parameter-shift\")\n",
    "def photon_redirection(params):\n",
    "    \"\"\"The photon redirection QNode\"\"\"\n",
    "    qml.FockState(1, wires=0)\n",
    "    qml.Beamsplitter(params[0], params[1], wires=[0, 1])\n",
    "    return qml.expval(qml.NumberOperator(1))\n",
    "\n",
    "\n",
    "def squared_difference(x, y):\n",
    "    \"\"\"Classical node to compute the squared\n",
    "    difference between two inputs\"\"\"\n",
    "    return np.abs(x - y) ** 2"
   ]
  },
  {
   "cell_type": "markdown",
   "metadata": {},
   "source": [
    "Now, we can define an objective function associated with the\n",
    "optimization, linking together our three subcomponents. Here, we wish to\n",
    "perform the following hybrid quantum-classical optimization:\n",
    "\n",
    "![](.img/plugins_hybrid_hybrid_graph.png)\n",
    "\n",
    "1.  The qubit-rotation circuit will contain fixed rotation angles\n",
    "    $\\phi_1$ and $\\phi_2$.\n",
    "2.  The photon-redirection circuit will contain two free parameters, the\n",
    "    beamsplitter angles $\\theta$ and $\\phi$, which are to be optimized.\n",
    "3.  The outputs of both QNodes will then be fed into the classical node,\n",
    "    returning the squared difference of the two quantum functions.\n",
    "4.  Finally, the optimizer will calculate the gradient of the entire\n",
    "    computation with respect to the free parameters $\\theta$ and $\\phi$,\n",
    "    and update their values.\n",
    "\n",
    "In essence, we are optimizing the photon-redirection circuit to return\n",
    "the **same expectation value** as the qubit-rotation circuit, even\n",
    "though they are two completely independent quantum systems.\n",
    "\n",
    "We can translate this computational graph to the following function,\n",
    "which combines the three nodes into a single hybrid computation. Below,\n",
    "we choose default values $\\phi_1=0.5$, $\\phi_2=0.1$:\n"
   ]
  },
  {
   "cell_type": "code",
   "execution_count": 9,
   "metadata": {
    "collapsed": false,
    "jupyter": {
     "outputs_hidden": false
    }
   },
   "outputs": [],
   "source": [
    "def cost(params, phi1=0.5, phi2=0.1):\n",
    "    \"\"\"Returns the squared difference between\n",
    "    the photon-redirection and qubit-rotation QNodes, for\n",
    "    fixed values of the qubit rotation angles phi1 and phi2\"\"\"\n",
    "    qubit_result = qubit_rotation(phi1, phi2)\n",
    "    photon_result = photon_redirection(params)\n",
    "    return squared_difference(qubit_result, photon_result)"
   ]
  },
  {
   "cell_type": "markdown",
   "metadata": {},
   "source": [
    "Now, we use the built-in [GradientDescentOptimizer](https://pennylane.readthedocs.io/en/stable/code/api/pennylane.GradientDescentOptimizer.html) to\n",
    "perform the optimization for 100 steps. As before, we choose initial\n",
    "beamsplitter parameters of $\\theta=0.01$, $\\phi=0.01$.\n"
   ]
  },
  {
   "cell_type": "code",
   "execution_count": 10,
   "metadata": {
    "collapsed": false,
    "jupyter": {
     "outputs_hidden": false
    }
   },
   "outputs": [
    {
     "name": "stdout",
     "output_type": "stream",
     "text": [
      "Cost after step     5:  0.2154539\n",
      "Cost after step    10:  0.0000982\n",
      "Cost after step    15:  0.0000011\n",
      "Cost after step    20:  0.0000000\n",
      "Cost after step    25:  0.0000000\n",
      "Cost after step    30:  0.0000000\n",
      "Cost after step    35:  0.0000000\n",
      "Cost after step    40:  0.0000000\n",
      "Cost after step    45:  0.0000000\n",
      "Cost after step    50:  0.0000000\n",
      "Cost after step    55:  0.0000000\n",
      "Cost after step    60:  0.0000000\n",
      "Cost after step    65:  0.0000000\n",
      "Cost after step    70:  0.0000000\n",
      "Cost after step    75:  0.0000000\n",
      "Cost after step    80:  0.0000000\n",
      "Cost after step    85:  0.0000000\n",
      "Cost after step    90:  0.0000000\n",
      "Cost after step    95:  0.0000000\n",
      "Cost after step   100:  0.0000000\n",
      "Optimized rotation angles: [1.20671364 0.01      ]\n"
     ]
    }
   ],
   "source": [
    "# initialise the optimizer\n",
    "opt = qml.GradientDescentOptimizer(stepsize=0.4)\n",
    "\n",
    "# set the number of steps\n",
    "steps = 100\n",
    "# set the initial parameter values\n",
    "params = np.array([0.01, 0.01])\n",
    "\n",
    "for i in range(steps):\n",
    "    # update the circuit parameters\n",
    "    params = opt.step(cost, params)\n",
    "\n",
    "    if (i + 1) % 5 == 0:\n",
    "        print(\"Cost after step {:5d}: {: .7f}\".format(i + 1, cost(params)))\n",
    "\n",
    "print(\"Optimized rotation angles: {}\".format(params))"
   ]
  },
  {
   "cell_type": "markdown",
   "metadata": {},
   "source": [
    "Substituting this into the photon redirection QNode shows that it now\n",
    "produces the same output as the qubit rotation QNode:\n"
   ]
  },
  {
   "cell_type": "code",
   "execution_count": 11,
   "metadata": {
    "collapsed": false,
    "jupyter": {
     "outputs_hidden": false
    }
   },
   "outputs": [
    {
     "name": "stdout",
     "output_type": "stream",
     "text": [
      "0.8731983021146449\n",
      "0.8731983044562821\n"
     ]
    }
   ],
   "source": [
    "result = [1.20671364, 0.01]\n",
    "print(photon_redirection(result))\n",
    "print(qubit_rotation(0.5, 0.1))"
   ]
  },
  {
   "cell_type": "markdown",
   "metadata": {},
   "source": [
    "This is just a simple example of the kind of hybrid computation that can\n",
    "be carried out in PennyLane. Quantum nodes (bound to different devices)\n",
    "and classical functions can be combined in many different and\n",
    "interesting ways.\n"
   ]
  }
 ],
 "metadata": {
  "kernelspec": {
   "display_name": "PennyLane",
   "language": "python",
   "name": "pennylane"
  },
  "language_info": {
   "codemirror_mode": {
    "name": "ipython",
    "version": 3
   },
   "file_extension": ".py",
   "mimetype": "text/x-python",
   "name": "python",
   "nbconvert_exporter": "python",
   "pygments_lexer": "ipython3",
   "version": "3.9.12"
  }
 },
 "nbformat": 4,
 "nbformat_minor": 4
}
