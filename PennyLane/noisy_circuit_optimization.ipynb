{
 "cells": [
  {
   "cell_type": "markdown",
   "metadata": {},
   "source": [
    "Optimizing noisy circuits with Cirq\n",
    "===================================\n",
    "\n",
    "*Author: PennyLane dev team. Posted: 1 June 2020. Last updated: 16 Jun\n",
    "2021.*\n",
    "\n",
    "![](.img/noisy_qubit.png)\n",
    "\n",
    "Until we have fault-tolerant quantum computers, we will have to learn to\n",
    "live with noise. There are lots of exciting ideas and algorithms in\n",
    "quantum computing and quantum machine learning, but how well do they\n",
    "survive the reality of today's noisy devices?\n",
    "\n",
    "Background\n",
    "----------\n",
    "\n",
    "Quantum pure-state simulators are great and readily available in a\n",
    "number of quantum software packages. They allow us to experiment,\n",
    "prototype, test, and validate algorithms and research ideas---up to a\n",
    "certain number of qubits, at least.\n",
    "\n",
    "But present-day hardware is not ideal. We're forced to confront\n",
    "decoherence, bit flips, amplitude damping, and so on. Does the presence\n",
    "of noise in near-term devices impact their use in, for example,\n",
    "[variational quantum algorithms](https://pennylane.ai/qml/glossary/variational_circuit.html)?\n",
    "Won't our models, trained so carefully in simulators, fall apart when we\n",
    "run on noisy devices?\n",
    "\n",
    "In fact, there is some optimism that variational algorithms may be the\n",
    "best type of algorithms on near-term devices, and could have an in-built\n",
    "adaptability to noise that more rigid textbook algorithms do not\n",
    "possess. Variational algorithms are somewhat robust against the fact\n",
    "that the device they are run on may not be ideal. Being variational in\n",
    "nature, they can be tuned to \"work around\" noise to some extent.\n",
    "\n",
    "Quantum machine learning leverages a lot of tools from its classical\n",
    "counterpart. Fortunately, there is great evidence that machine learning\n",
    "algorithms can not only be robust to noise, but can even benefit from\n",
    "it! Examples include the use of [reduced-precision arithmetic in deep\n",
    "learning](https://dl.acm.org/doi/abs/10.5555/3045118.3045303), the\n",
    "strong performance of [stochastic gradient\n",
    "descent](https://en.wikipedia.org/wiki/Stochastic_gradient_descent), and\n",
    "the use of \"dropout\" noise to [prevent\n",
    "overfitting](https://www.cs.toronto.edu/~hinton/absps/JMLRdropout.pdf).\n",
    "\n",
    "With this evidence to motivate us, we can still hope to find, extract,\n",
    "and work with the underlying quantum \"signal\" that is influenced by a\n",
    "device's inherent noise.\n",
    "\n",
    "Noisy circuits: creating a Bell state\n",
    "-------------------------------------\n",
    "\n",
    "Let's consider a simple quantum circuit which performs a standard\n",
    "quantum information task: the creation of an entangled state and the\n",
    "measurement of a [Bell\n",
    "inequality](https://en.wikipedia.org/wiki/Bell%27s_theorem) (also known\n",
    "as the [CHSH\n",
    "inequality](https://en.wikipedia.org/wiki/CHSH_inequality)).\n",
    "\n",
    "Since we'll be dealing with noise, we'll need to use a simulator that\n",
    "supports noise and density-state representations of quantum states (in\n",
    "contrast to many simulators, which use a pure-state representation).\n",
    "\n",
    "Fortunately, [Cirq](https://cirq.readthedocs.io) provides mixed-state\n",
    "simulators and noisy operations natively, so we can use the\n",
    "[PennyLane-Cirq plugin](https://pennylane-cirq.readthedocs.io) to carry\n",
    "out our noisy simulations.\n"
   ]
  },
  {
   "cell_type": "code",
   "execution_count": 1,
   "metadata": {
    "collapsed": false,
    "jupyter": {
     "outputs_hidden": false
    }
   },
   "outputs": [
    {
     "name": "stderr",
     "output_type": "stream",
     "text": [
      "/opt/conda/envs/pennylane/lib/python3.8/site-packages/_distutils_hack/__init__.py:30: UserWarning: Setuptools is replacing distutils.\n",
      "  warnings.warn(\"Setuptools is replacing distutils.\")\n",
      "WARNING:matplotlib:Matplotlib created a temporary config/cache directory at /tmp/matplotlib-pkdvfqtp because the default path (/home/jovyan/.config/matplotlib) is not a writable directory; it is highly recommended to set the MPLCONFIGDIR environment variable to a writable directory, in particular to speed up the import of Matplotlib and to better support multiprocessing.\n"
     ]
    },
    {
     "name": "stdout",
     "output_type": "stream",
     "text": [
      "2.776\n"
     ]
    }
   ],
   "source": [
    "import pennylane as qml\n",
    "from pennylane import numpy as np\n",
    "import matplotlib.pyplot as plt\n",
    "\n",
    "dev = qml.device(\"cirq.mixedsimulator\", wires=2, shots=1000)\n",
    "\n",
    "# CHSH observables\n",
    "A1 = qml.PauliZ(0)\n",
    "A2 = qml.PauliX(0)\n",
    "B1 = qml.Hermitian(np.array([[1, 1], [1, -1]]) / np.sqrt(2), wires=1)\n",
    "B2 = qml.Hermitian(np.array([[1, -1], [-1, -1]]) / np.sqrt(2), wires=1)\n",
    "CHSH_observables = [A1 @ B1, A1 @ B2, A2 @ B1, A2 @ B2]\n",
    "\n",
    "# subcircuit for creating an entangled pair of qubits\n",
    "def bell_pair():\n",
    "    qml.Hadamard(wires=0)\n",
    "    qml.CNOT(wires=[0, 1])\n",
    "\n",
    "# circuits for measuring each distinct observable\n",
    "@qml.qnode(dev)\n",
    "def measure_A1B1():\n",
    "    bell_pair()\n",
    "    return qml.expval(A1 @ B1)\n",
    "\n",
    "@qml.qnode(dev)\n",
    "def measure_A1B2():\n",
    "    bell_pair()\n",
    "    return qml.expval(A1 @ B2)\n",
    "\n",
    "@qml.qnode(dev)\n",
    "def measure_A2B1():\n",
    "    bell_pair()\n",
    "    return qml.expval(A2 @ B1)\n",
    "\n",
    "@qml.qnode(dev)\n",
    "def measure_A2B2():\n",
    "    bell_pair()\n",
    "    return qml.expval(A2 @ B2)\n",
    "\n",
    "circuits = qml.QNodeCollection([measure_A1B1,\n",
    "                                measure_A1B2,\n",
    "                                measure_A2B1,\n",
    "                                measure_A2B2])\n",
    "\n",
    "# now we measure each circuit and construct the CHSH inequality\n",
    "expvals = circuits()\n",
    "\n",
    "# The CHSH operator is A1 @ B1 + A1 @ B2 + A2 @ B1 - A2 @ B2\n",
    "CHSH_expval = np.sum(expvals[:3]) - expvals[3]\n",
    "print(CHSH_expval)"
   ]
  },
  {
   "cell_type": "markdown",
   "metadata": {},
   "source": [
    "The output here is $2\\sqrt{2}$, which is the maximal value of the CHSH\n",
    "inequality. States which have a value $\\langle CHSH \\rangle \\geq 2$ can\n",
    "safely be considered \"quantum\".\n",
    "\n",
    "> **Note**\n",
    ">\n",
    "> In this situation \"quantum\" means that there is\n",
    "> no [local hidden variable\n",
    "> theory](https://en.wikipedia.org/wiki/Local_hidden-variable_theory)\n",
    "> which could produce these measurement outcomes. It does not\n",
    "> strictly mean the presence of entanglement.\n",
    ">\n",
    "Now let's turn up the noise! 📢 📢 📢\n",
    "\n",
    "Cirq provides a number of noisy channels that are not part of PennyLane\n",
    "core. This is no issue, as the\n",
    "[PennyLane-Cirq](https://pennylane-cirq.readthedocs.io) plugin provides\n",
    "these and allows them to be used directly in PennyLane circuit\n",
    "declarations.\n"
   ]
  },
  {
   "cell_type": "code",
   "execution_count": 2,
   "metadata": {
    "collapsed": false,
    "jupyter": {
     "outputs_hidden": false
    }
   },
   "outputs": [
    {
     "name": "stdout",
     "output_type": "stream",
     "text": [
      "AmplitudeDamp\n",
      "BitFlip\n",
      "CPhase\n",
      "Depolarize\n",
      "ISWAP\n",
      "Operation\n",
      "PhaseDamp\n",
      "PhaseFlip\n"
     ]
    }
   ],
   "source": [
    "from pennylane_cirq import ops as cirq_ops\n",
    "# Note that the 'Operation' op is a generic base class\n",
    "# from PennyLane core.\n",
    "# All other ops are provided by Cirq.\n",
    "available_ops = [op for op in dir(cirq_ops) if not op.startswith('_')]\n",
    "print(\"\\n\".join(available_ops))"
   ]
  },
  {
   "cell_type": "markdown",
   "metadata": {},
   "source": [
    "PennyLane operations and external framework-specific operations can be\n",
    "interwoven freely in circuits that use that plugin's device for\n",
    "execution. In this case, the Cirq-provided channels can be used with\n",
    "Cirq's mixed-state simulator.\n",
    "\n",
    "We'll use the `BitFlip` channel, which has the effect of randomly\n",
    "flipping the qubits in the computational basis.\n"
   ]
  },
  {
   "cell_type": "code",
   "execution_count": 3,
   "metadata": {
    "collapsed": false,
    "jupyter": {
     "outputs_hidden": false
    }
   },
   "outputs": [
    {
     "data": {
      "image/png": "[encoded data removed]",
      "text/plain": [
       "<Figure size 432x288 with 1 Axes>"
      ]
     },
     "metadata": {
      "needs_background": "light"
     },
     "output_type": "display_data"
    }
   ],
   "source": [
    "noise_vals = np.linspace(0, 1, 25)\n",
    "\n",
    "CHSH_vals = []\n",
    "noisy_expvals = []\n",
    "\n",
    "for p in noise_vals:\n",
    "    # we overwrite the bell_pair() subcircuit to add\n",
    "    # extra noisy channels after the entangled state is created\n",
    "    def bell_pair():\n",
    "        qml.Hadamard(wires=0)\n",
    "        qml.CNOT(wires=[0, 1])\n",
    "        cirq_ops.BitFlip(p, wires=0)\n",
    "        cirq_ops.BitFlip(p, wires=1)\n",
    "    # measuring the circuits will now use the new noisy bell_pair() function\n",
    "    expvals = circuits()\n",
    "    noisy_expvals.append(expvals)\n",
    "noisy_expvals = np.array(noisy_expvals)\n",
    "CHSH_expvals = np.sum(noisy_expvals[:,:3], axis=1) - noisy_expvals[:,3]\n",
    "\n",
    "# Plot the individual observables\n",
    "plt.plot(noise_vals, noisy_expvals[:, 0], 'D',\n",
    "         label = r\"$\\hat{A1}\\otimes \\hat{B1}$\", markersize=5)\n",
    "plt.plot(noise_vals, noisy_expvals[:, 1], 'x',\n",
    "         label = r\"$\\hat{A1}\\otimes \\hat{B2}$\", markersize=12)\n",
    "plt.plot(noise_vals, noisy_expvals[:, 2], '+',\n",
    "         label = r\"$\\hat{A2}\\otimes \\hat{B1}$\", markersize=10)\n",
    "plt.plot(noise_vals, noisy_expvals[:, 3], 'v',\n",
    "         label = r\"$\\hat{A2}\\otimes \\hat{B2}$\", markersize=10)\n",
    "plt.xlabel('Noise parameter')\n",
    "plt.ylabel(r'Expectation value $\\langle \\hat{A}_i\\otimes\\hat{B}_j\\rangle$')\n",
    "plt.legend()\n",
    "plt.show()"
   ]
  },
  {
   "cell_type": "markdown",
   "metadata": {},
   "source": [
    "By adding the bit-flip noise, we have degraded the value of the CHSH\n",
    "observable. The first two observables $\\hat{A}_1\\otimes \\hat{B}_1$ and\n",
    "$\\hat{A}_1\\otimes \\hat{B}_2$ are sensitive to this noise parameter.\n",
    "Their value is weakened when the noise parameter is not 0 or 1 (note\n",
    "that the the CHSH operator is symmetric with respect to bit flips).\n",
    "\n",
    "The latter two observables, on the other hand, are seemingly unaffected\n",
    "by the noise at all.\n",
    "\n",
    "We can see that even when noise is present, there may still be subspaces\n",
    "or observables which are minimally affected or unaffected. This gives us\n",
    "some hope that variational algorithms can learn to find and exploit such\n",
    "noise-free substructures on otherwise noisy devices.\n",
    "\n",
    "We can also plot the CHSH observable in the noisy case. Remember, values\n",
    "greater than 2 can safely be considered \"quantum\".\n"
   ]
  },
  {
   "cell_type": "code",
   "execution_count": 4,
   "metadata": {
    "collapsed": false,
    "jupyter": {
     "outputs_hidden": false
    }
   },
   "outputs": [
    {
     "data": {
      "image/png": "[encoded data removed]",
      "text/plain": [
       "<Figure size 432x288 with 1 Axes>"
      ]
     },
     "metadata": {
      "needs_background": "light"
     },
     "output_type": "display_data"
    }
   ],
   "source": [
    "plt.plot(noise_vals, CHSH_expvals, label=\"CHSH\")\n",
    "plt.plot(noise_vals, 2 * np.ones_like(noise_vals),\n",
    "         label=\"Quantum-classical boundary\")\n",
    "plt.xlabel('Noise parameter')\n",
    "plt.ylabel('CHSH Expectation value')\n",
    "plt.legend()\n",
    "plt.show()"
   ]
  },
  {
   "cell_type": "markdown",
   "metadata": {},
   "source": [
    "Too much noise (around 0.2 in this example), and we lose the quantumness\n",
    "we created in our circuit. But if we only have a little noise, the\n",
    "quantumness undeniably remains. So there is still hope that quantum\n",
    "algorithms can do something useful, even on noisy near-term devices, so\n",
    "long as the noise is not high.\n",
    "\n",
    "> **Note**\n",
    ">\n",
    "> In Google's quantum supremacy paper [[1]](#arute2019), they were able\n",
    "> to show that some small signature of quantumness remained in their\n",
    "> computations, even after a deep many-qubit noisy circuit was executed.\n"
   ]
  },
  {
   "cell_type": "markdown",
   "metadata": {},
   "source": [
    "Optimizing noisy circuits\n",
    "=========================\n",
    "\n",
    "Now, how does noise affect the ability to optimize or train a\n",
    "variational circuit?\n",
    "\n",
    "Let's consider an analog of the basic\n",
    "[qubit rotation tutorial](https://pennylane.ai/qml/demos/tutorial_qubit_rotation.html), but\n",
    "where we add an extra noise channel after the gates.\n",
    "\n",
    "> **Note**\n",
    ">\n",
    "> We model the noise process as the application of ideal noise-free\n",
    "> gates, followed by the action of a noisy channel. This is a common\n",
    "> technique for modelling noise, but may not be appropriate for\n",
    "> all situations.\n",
    ">\n",
    "\n"
   ]
  },
  {
   "cell_type": "code",
   "execution_count": 5,
   "metadata": {
    "collapsed": false,
    "jupyter": {
     "outputs_hidden": false
    }
   },
   "outputs": [
    {
     "name": "stdout",
     "output_type": "stream",
     "text": [
      "Expectation value: 0.83\n"
     ]
    }
   ],
   "source": [
    "@qml.qnode(dev)\n",
    "def circuit(gate_params, noise_param=0.0):\n",
    "    qml.RX(gate_params[0], wires=0)\n",
    "    qml.RY(gate_params[1], wires=0)\n",
    "    cirq_ops.Depolarize(noise_param, wires=0)\n",
    "    return qml.expval(qml.PauliZ(0))\n",
    "\n",
    "gate_pars = [0.54, 0.12]\n",
    "print(\"Expectation value:\", circuit(gate_pars))"
   ]
  },
  {
   "cell_type": "markdown",
   "metadata": {},
   "source": [
    "In this case, the depolarizing channel degrades the qubit's density\n",
    "matrix $\\rho$ towards the state\n",
    "\n",
    "$$\\rho' = \\tfrac{1}{3}\\left[X\\rho X + Y\\rho Y + Z\\rho Z\\right]$$\n",
    "\n",
    "(at the value $p=\\frac{3}{4}$, it passes through the maximally mixed\n",
    "state). We can see this in our circuit by looking at how the final\n",
    "`PauliZ` expectation value changes as a function of the\n",
    "noise strength.\n"
   ]
  },
  {
   "cell_type": "code",
   "execution_count": 6,
   "metadata": {
    "collapsed": false,
    "jupyter": {
     "outputs_hidden": false
    }
   },
   "outputs": [
    {
     "data": {
      "image/png": "[encoded data removed]",
      "text/plain": [
       "<Figure size 432x288 with 1 Axes>"
      ]
     },
     "metadata": {
      "needs_background": "light"
     },
     "output_type": "display_data"
    }
   ],
   "source": [
    "noise_vals = np.linspace(0., 1., 20)\n",
    "expvals = [circuit(gate_pars, noise_param=p) for p in noise_vals]\n",
    "\n",
    "plt.plot(noise_vals, expvals, label=\"Expectation value\")\n",
    "plt.plot(noise_vals, np.ones_like(noise_vals), '--', label=\"Highest possible\")\n",
    "plt.plot(noise_vals, -np.ones_like(noise_vals), '--', label=\"Lowest possible\")\n",
    "plt.ylabel(r\"Expectation value $\\langle \\hat{Z} \\rangle$\")\n",
    "plt.xlabel(r\"Noise strength $p$\")\n",
    "plt.legend()\n",
    "plt.show()"
   ]
  },
  {
   "cell_type": "markdown",
   "metadata": {},
   "source": [
    "Let's fix the noise parameter and see how the noise affects the\n",
    "optimization of our circuit. The goal is the same as the\n",
    "[qubit rotation tutorial](https://pennylane.ai/qml/demos/tutorial_qubit_rotation.html), i.e.,\n",
    "to tune the qubit state until it has a `PauliZ` expectation value of\n",
    "$-1$ (the lowest possible).\n"
   ]
  },
  {
   "cell_type": "code",
   "execution_count": 7,
   "metadata": {
    "collapsed": false,
    "jupyter": {
     "outputs_hidden": false
    }
   },
   "outputs": [
    {
     "name": "stdout",
     "output_type": "stream",
     "text": [
      "Step     5. Cost:  0.9440000; Noisy Cost:  0.6180000\n",
      "Step    10. Cost:  0.1260000; Noisy Cost:  0.5140000\n",
      "Step    15. Cost: -0.9680000; Noisy Cost:  0.3360000\n",
      "Step    20. Cost: -1.0000000; Noisy Cost: -0.1260000\n",
      "Step    25. Cost: -1.0000000; Noisy Cost: -0.4980000\n",
      "Step    30. Cost: -1.0000000; Noisy Cost: -0.5540000\n",
      "Step    35. Cost: -1.0000000; Noisy Cost: -0.5840000\n",
      "Step    40. Cost: -1.0000000; Noisy Cost: -0.6360000\n",
      "Step    45. Cost: -1.0000000; Noisy Cost: -0.6100000\n",
      "Step    50. Cost: -1.0000000; Noisy Cost: -0.6320000\n",
      "Step    55. Cost: -1.0000000; Noisy Cost: -0.6000000\n",
      "Step    60. Cost: -1.0000000; Noisy Cost: -0.5980000\n",
      "Step    65. Cost: -1.0000000; Noisy Cost: -0.5800000\n",
      "Step    70. Cost: -1.0000000; Noisy Cost: -0.5960000\n",
      "Step    75. Cost: -1.0000000; Noisy Cost: -0.6020000\n",
      "Step    80. Cost: -1.0000000; Noisy Cost: -0.5780000\n",
      "Step    85. Cost: -1.0000000; Noisy Cost: -0.6040000\n",
      "Step    90. Cost: -1.0000000; Noisy Cost: -0.5760000\n",
      "Step    95. Cost: -1.0000000; Noisy Cost: -0.5520000\n",
      "Step   100. Cost: -1.0000000; Noisy Cost: -0.6340000\n",
      "\n",
      "Optimized rotation angles (noise-free case):\n",
      "( 0.0026000,  3.1438000)\n",
      "Optimized rotation angles (noisy case):\n",
      "(-0.0086000,  3.1330000)\n"
     ]
    }
   ],
   "source": [
    "# declare the cost functions to be optimized\n",
    "def cost(x):\n",
    "    return circuit(x, noise_param=0.0)\n",
    "\n",
    "def noisy_cost(x):\n",
    "    return circuit(x, noise_param=0.3)\n",
    "\n",
    "# initialize the optimizer\n",
    "opt = qml.GradientDescentOptimizer(stepsize=0.4)\n",
    "\n",
    "# set the number of steps\n",
    "steps = 100\n",
    "# set the initial parameter values\n",
    "init_params = np.array([0.011, 0.055])\n",
    "noisy_circuit_params = init_params\n",
    "params = init_params\n",
    "\n",
    "for i in range(steps):\n",
    "    # update the circuit parameters\n",
    "    # we can optimize both in the same training loop\n",
    "    params = opt.step(cost, params)\n",
    "    noisy_circuit_params = opt.step(noisy_cost, noisy_circuit_params)\n",
    "\n",
    "    if (i + 1) % 5 == 0:\n",
    "        print(\"Step {:5d}. Cost: {: .7f}; Noisy Cost: {: .7f}\".\n",
    "              format(i + 1,\n",
    "                     cost(params),\n",
    "                     noisy_cost(noisy_circuit_params)))\n",
    "\n",
    "print(\"\\nOptimized rotation angles (noise-free case):\")\n",
    "print(\"({: .7f}, {: .7f})\".format(*params))\n",
    "print(\"Optimized rotation angles (noisy case):\")\n",
    "print(\"({: .7f}, {: .7f})\".format(*noisy_circuit_params))"
   ]
  },
  {
   "cell_type": "markdown",
   "metadata": {},
   "source": [
    "There are a couple interesting observations here:\n",
    "\n",
    "i)  The noisy circuit isn't able to achieve the same final cost function\n",
    "    value as the ideal circuit. This is because the noise causes the\n",
    "    state to become irreversibly mixed. Mixed states can't achieve the\n",
    "    same extremal expectation values as pure states.\n",
    "ii) However, both circuits still converge to the *same parameter values*\n",
    "    $(0,\\pi)$, despite having different final states.\n",
    "\n",
    "It could have been the case that noisy devices irreparably damage the\n",
    "optimization of variational circuits, steering us towards parameter\n",
    "values which are not at all useful. Luckily, at least for the simple\n",
    "example above, this is not the case. *Optimizations on noisy devices can\n",
    "still lead to similar parameter values as when we run on ideal devices.*\n"
   ]
  },
  {
   "cell_type": "markdown",
   "metadata": {},
   "source": [
    "Understanding the effect of noisy channels\n",
    "==========================================\n",
    "\n",
    "Let's dig a bit into the underlying quantum information theory to\n",
    "understand better what's happening [[2]](#meyer2020). Expectation values\n",
    "of [variational circuits](https://pennylane.ai/qml/glossary/variational_circuit.html), like the\n",
    "one we are measuring, are composed of three pieces:\n",
    "\n",
    "i)  an initial quantum state $\\rho$ (usually the zero state);\n",
    "\n",
    "ii) a parameterized unitary transformation $U(\\theta)$); and\n",
    "\n",
    "iii) measurement of a final observable $\\hat{B}$.\n",
    "\n",
    "The equation for the expectation value is given by the [Born\n",
    "rule](https://en.wikipedia.org/wiki/Born_rule):\n",
    "\n",
    "$$\\langle \\hat{B} \\rangle (\\theta) =\n",
    "        \\mathrm{Tr}(\\hat{B}U(\\theta)\\rho U^\\dagger(\\theta)).$$\n",
    "\n",
    "When optimizing, we can compute gradients of many common gates using the\n",
    "[parameter-shift rule](https://pennylane.ai/qml/glossary/parameter_shift.html):\n",
    "\n",
    "$$\\nabla_\\theta\\langle \\hat{B} \\rangle(\\theta)\n",
    "   =  \\frac{1}{2}\n",
    "         \\left[\n",
    "             \\langle \\hat{B} \\rangle\\left(\\theta + \\frac{\\pi}{2}\\right)\n",
    "           - \\langle \\hat{B} \\rangle\\left(\\theta - \\frac{\\pi}{2}\\right)\n",
    "         \\right].$$\n",
    "\n",
    "In our example, the parametrized unitary $U(\\theta)$ is split into two\n",
    "gates, $U = U_2 U_1$, where $U_1=R_X$ and $U_1=R_Y$, and each takes an\n",
    "independent parameter $\\theta_i$.\n",
    "\n",
    "What happens when we apply a noisy channel $\\Lambda$ after the gates? In\n",
    "this case, the expectation value is now taken with respect to the noisy\n",
    "circuit:\n",
    "\n",
    "$$\\langle \\hat{B} \\rangle (\\theta) =\n",
    "       \\mathrm{Tr}\\left(\\hat{B}\\Lambda\\left[\n",
    "                      U(\\theta)\\rho U^\\dagger(\\theta)\n",
    "                  \\right]\\right).$$\n",
    "\n",
    "Thus, we can treat it as the expectation value of the same observable,\n",
    "but with respect to a different state\n",
    "$\\rho' = \\Lambda\\left[U(\\theta)\\rho U^\\dagger(\\theta)\\right]$.\n",
    "\n",
    "Alternatively, using the Heisenberg picture, we can transfer the channel\n",
    "$\\Lambda$ acting on the state $U(\\theta)\\rho U^\\dagger(\\theta)$ into the\n",
    "*adjoint channel* $\\Lambda^\\dagger$ acting on the observable $\\hat{B}$,\n",
    "transforming it to a new observable\n",
    "$\\hat{B} = \\Lambda^\\dagger[\\hat{B}]=\\hat{B}'$.\n",
    "\n",
    "With the channel present, the expectation value can be interpreted as if\n",
    "we had the same variational state, but measured a different observable:\n",
    "\n",
    "$$\\langle \\hat{B} \\rangle (\\theta) =\n",
    "       \\mathrm{Tr}(\\hat{B}'U(\\theta)\\rho U^\\dagger(\\theta)) =\n",
    "       \\langle \\hat{B}' \\rangle (\\theta).$$\n",
    "\n",
    "This has immediate consequences for the parameter-shift rule. With the\n",
    "channel present, we have simply\n",
    "\n",
    "$$\\nabla_\\theta\\langle \\hat{B} \\rangle(\\theta)\n",
    "  =  \\frac{1}{2}\n",
    "        \\left[\n",
    "            \\langle \\hat{B}' \\rangle\\left(\\theta + \\frac{\\pi}{2}\\right)\n",
    "          - \\langle \\hat{B}' \\rangle\\left(\\theta - \\frac{\\pi}{2}\\right)\n",
    "        \\right].$$\n",
    "\n",
    "In other words, the parameter-shift rule continues to hold for all\n",
    "gates, even when we have additional noise!\n",
    "\n",
    "> **Note**\n",
    ">\n",
    "> In the above derivation, we implicitly assumed that the channel\n",
    "> does not depend on the variational circuit's parameters. If the\n",
    "> channel depended on the particular state, or if it depended on the\n",
    "> parameters $\\theta$, we would need to be more careful.\n",
    ">\n",
    "Let's confirm the above derivation with an example.\n"
   ]
  },
  {
   "cell_type": "code",
   "execution_count": 8,
   "metadata": {
    "collapsed": false,
    "jupyter": {
     "outputs_hidden": false
    }
   },
   "outputs": [
    {
     "data": {
      "image/png": "[encoded data removed]",
      "text/plain": [
       "<Figure size 432x288 with 1 Axes>"
      ]
     },
     "metadata": {
      "needs_background": "light"
     },
     "output_type": "display_data"
    }
   ],
   "source": [
    "angles = np.linspace(0, 2 * np.pi, 50)\n",
    "theta2 = np.pi / 4\n",
    "\n",
    "def param_shift(theta1):\n",
    "    return 0.5 * (noisy_cost([theta1 + np.pi / 2, theta2]) - \\\n",
    "             noisy_cost([theta1 - np.pi / 2, theta2]))\n",
    "\n",
    "noisy_expvals = [noisy_cost([theta1, theta2]) for theta1 in angles]\n",
    "noisy_param_shift = [param_shift(theta1) for theta1 in angles]\n",
    "\n",
    "plt.plot(angles, noisy_expvals,\n",
    "         label=\"Expectation value\")  # looks like 0.4 * cos(phi)\n",
    "plt.plot(angles, noisy_param_shift,\n",
    "         label=\"Parameter-shift value\")  # looks like -0.4 * sin(phi)\n",
    "plt.ylabel(r\"Expectation value $\\langle \\hat{Z} \\rangle$\")\n",
    "plt.xlabel(r\"Angle $\\theta_1$\")\n",
    "plt.legend()\n",
    "plt.show()"
   ]
  },
  {
   "cell_type": "markdown",
   "metadata": {},
   "source": [
    "By inspecting the two curves, we can see that the parameter-shift rule\n",
    "gives the correct gradient of the expectation value, even with the\n",
    "presence of the noisy channel!\n",
    "\n",
    "In this example, the influence of the channel is to attenuate the\n",
    "maximal amplitude that the qubit state can achieve ($\\approx 0.4$). But\n",
    "even though the qubit's amplitude is attenuated, the gradient computed\n",
    "by the parameter-shift rule still \"points in the right direction\".\n",
    "\n",
    "This backs up the observation we made earlier that the result of the\n",
    "optimization gave the correct values for the angle parameters, but the\n",
    "value of the final cost function was lower than the noise-free case.\n"
   ]
  },
  {
   "cell_type": "markdown",
   "metadata": {},
   "source": [
    "Interpreting noisy circuit optimizations\n",
    "========================================\n",
    "\n",
    "Despite the observations that we can compute gradients for noisy\n",
    "channels, and that optimization may lead to the same parameter values\n",
    "for both noise-free and noisy circuits, we must still remain cautious in\n",
    "how we interpret the results.\n",
    "\n",
    "We can evaluate the correct gradient for the expectation value\n",
    "\n",
    "$$\\langle \\hat{B} \\rangle =\n",
    "       \\mathrm{Tr}\\left(\\hat{B}\\Lambda\\left[\n",
    "                      U(\\theta)\\rho U^\\dagger(\\theta)\n",
    "                  \\right]\\right),$$\n",
    "\n",
    "but, because the noisy channel is present, *this expectation value may\n",
    "not reflect the actual expectation value we wanted to compute*. This is\n",
    "important to keep in mind for certain algorithms that have a physical\n",
    "interpretation for the variational circuit.\n",
    "\n",
    "For example, in the\n",
    "[variational quantum eigensolver](https://pennylane.ai/qml/demos/tutorial_vqe.html), we want to\n",
    "find the ground-state energy of a physical system. If there is an\n",
    "appreciable amount of noise present, the state we are optimizing will\n",
    "necessarily become mixed, and we should be careful interpreting the\n",
    "optimum value as the exact ground-state energy.\n"
   ]
  },
  {
   "cell_type": "markdown",
   "metadata": {},
   "source": [
    "References\n",
    "==========\n",
    "<a id=\"arute2019\">[1]</a> Frank Arute et al. “Quantum supremacy using a programmable superconducting processor.” Nature, 574(7779), 505-510.\n",
    "\n",
    "<a id=\"meyer2020\">[2]</a> Johannes Jakob Meyer, Johannes Borregaard, and Jens Eisert. “A variational toolbox for quantum multi-parameter estimation.” [arXiv:2006.06303](https://arxiv.org/abs/2006.06303), 2020."
   ]
  }
 ],
 "metadata": {
  "kernelspec": {
   "display_name": "PennyLane",
   "language": "python",
   "name": "pennylane"
  },
  "language_info": {
   "codemirror_mode": {
    "name": "ipython",
    "version": 3
   },
   "file_extension": ".py",
   "mimetype": "text/x-python",
   "name": "python",
   "nbconvert_exporter": "python",
   "pygments_lexer": "ipython3",
   "version": "3.9.12"
  }
 },
 "nbformat": 4,
 "nbformat_minor": 4
}
