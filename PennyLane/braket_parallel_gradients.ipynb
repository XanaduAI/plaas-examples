{
  "cells": [
    {
      "cell_type": "markdown",
      "source": [
        "> **Note**\n",
        ">\n",
        "> Saved changes to this file will not presist between instances. To retain your edits,\n",
        "> please save the file to your main directory.\n",
        "\n"
      ],
      "metadata": {}
    },
    {
      "cell_type": "markdown",
      "source": [
        "Computing gradients in parallel with Amazon Braket\n",
        "==================================================\n",
        "\n",
        "*Author: PennyLane dev team. Posted: 8 Dec 2020.*\n",
        "\n",
        "PennyLane integrates with [Amazon\n",
        "Braket](https://aws.amazon.com/braket/) to enable quantum machine\n",
        "learning and optimization on high-performance simulators and quantum\n",
        "processing units (QPUs) through a range of\n",
        "[providers](https://aws.amazon.com/braket/hardware-providers/).\n",
        "\n",
        "In PennyLane, Amazon Braket is accessed through the\n",
        "[PennyLane-Braket](https://amazon-braket-pennylane-plugin-python.readthedocs.io)\n",
        "plugin. The plugin can be installed using\n",
        "\n",
        "``` {.sourceCode .bash}\n",
        "pip install amazon-braket-pennylane-plugin\n",
        "```\n",
        "\n",
        "A central feature of Amazon Braket is that its remote simulator can\n",
        "execute multiple circuits in parallel. This capability can be harnessed\n",
        "in PennyLane during circuit training, which requires lots of variations\n",
        "of a circuit to be executed. Hence, the PennyLane-Braket plugin provides\n",
        "a method for scalable optimization of large circuits with many\n",
        "parameters. This tutorial will explain the importance of this feature,\n",
        "allow you to benchmark it yourself, and explore its use for solving a\n",
        "scaled-up graph problem with QAOA.\n",
        "\n",
        "![](.img/remote-multi-job-simulator.png)\n",
        "\n",
        "Why is training circuits so expensive?\n",
        "--------------------------------------\n",
        "\n",
        "Quantum-classical hybrid optimization of quantum circuits is the\n",
        "workhorse algorithm of near-term quantum computing. It is not only\n",
        "fundamental for training variational quantum circuits, but also more\n",
        "broadly for applications like quantum chemistry and quantum machine\n",
        "learning. Today's most powerful optimization algorithms rely on the\n",
        "efficient computation of gradients—which tell us how to adapt parameters\n",
        "a little bit at a time to improve the algorithm.\n",
        "\n",
        "Calculating the gradient involves multiple device executions: for each\n",
        "trainable parameter we must execute our circuit on the device typically\n",
        "[more than once](https://pennylane.ai/qml/glossary/parameter_shift.html). Reasonable\n",
        "applications involve many trainable parameters (just think of a\n",
        "classical neural net with millions of tunable weights). The result is a\n",
        "huge number of device executions for each optimization step.\n",
        "\n",
        "![](.img/grad-circuits.png)\n",
        "\n",
        "In the standard `default.qubit` device, gradients are calculated in\n",
        "PennyLane through sequential device executions—in other words, all these\n",
        "circuits have to wait in the same queue until they can be evaluated.\n",
        "This approach is simpler, but quickly becomes slow as we scale the\n",
        "number of parameters. Moreover, as the number of qubits, or \"width\", of\n",
        "the circuit is scaled, each device execution will slow down and\n",
        "eventually become a noticeable bottleneck. In short—\\**the future of\n",
        "training quantum circuits relies on high-performance remote simulators\n",
        "and hardware devices that are highly parallelized*\\*.\n",
        "\n",
        "Fortunately, the PennyLane-Braket plugin provides a solution for\n",
        "scalable quantum circuit training by giving access to the Amazon Braket\n",
        "simulator known as\n",
        "[SV1](https://docs.aws.amazon.com/braket/latest/developerguide/braket-devices.html).\n",
        "SV1 is a high-performance state vector simulator that is designed with\n",
        "parallel execution in mind. Together with PennyLane, we can use SV1 to\n",
        "run in parallel all the circuits needed to compute a gradient!\n",
        "\n",
        "Accessing devices on Amazon Braket\n",
        "----------------------------------\n",
        "\n",
        "The remote simulator and quantum hardware devices available on Amazon\n",
        "Braket can be found\n",
        "[here](https://docs.aws.amazon.com/braket/latest/developerguide/braket-devices.html).\n",
        "Each device has a unique identifier known as an\n",
        "[ARN](https://docs.aws.amazon.com/general/latest/gr/aws-arns-and-namespaces.html).\n",
        "In PennyLane, all remote Braket devices are accessed through a single\n",
        "PennyLane device named `braket.aws.qubit`, along with specification of\n",
        "the corresponding ARN.\n",
        "\n",
        "> **Note**\n",
        ">\n",
        "> To access remote services on Amazon Braket, you must first create an\n",
        "> account on AWS and also follow the [setup\n",
        "> instructions](https://github.com/aws/amazon-braket-sdk-python#prerequisites)\n",
        "> for accessing Braket from Python.\n",
        "\n",
        "Let's load the SV1 simulator in PennyLane with 25 qubits. We must\n",
        "specify both the ARN and the address of the [S3\n",
        "bucket](https://aws.amazon.com/s3/) where results are to be stored:\n"
      ],
      "metadata": {}
    },
    {
      "cell_type": "code",
      "execution_count": null,
      "source": [
        "my_bucket = \"amazon-braket-Your-Bucket-Name\"  # the name of the bucket\n",
        "my_prefix = \"Your-Folder-Name\"  # the name of the folder in the bucket\n",
        "s3_folder = (my_bucket, my_prefix)\n",
        "\n",
        "device_arn = \"arn:aws:braket:::device/quantum-simulator/amazon/sv1\""
      ],
      "outputs": [],
      "metadata": {
        "collapsed": false
      }
    },
    {
      "cell_type": "markdown",
      "source": [
        "SV1 can now be loaded with the standard PennyLane [device()](https://pennylane.readthedocs.io/en/stable/code/api/pennylane.device.html):\n"
      ],
      "metadata": {}
    },
    {
      "cell_type": "code",
      "execution_count": null,
      "source": [
        "import pennylane as qml\n",
        "from pennylane import numpy as np\n",
        "\n",
        "n_wires = 25\n",
        "\n",
        "dev_remote = qml.device(\n",
        "    \"braket.aws.qubit\",\n",
        "    device_arn=device_arn,\n",
        "    wires=n_wires,\n",
        "    s3_destination_folder=s3_folder,\n",
        "    parallel=True,\n",
        ")"
      ],
      "outputs": [],
      "metadata": {
        "collapsed": false
      }
    },
    {
      "cell_type": "markdown",
      "source": [
        "Note the `parallel=True` argument. This setting allows us to unlock the\n",
        "power of parallel execution on SV1 for gradient calculations. We'll also\n",
        "load `default.qubit` for comparison.\n"
      ],
      "metadata": {}
    },
    {
      "cell_type": "code",
      "execution_count": null,
      "source": [
        "dev_local = qml.device(\"default.qubit\", wires=n_wires)"
      ],
      "outputs": [],
      "metadata": {
        "collapsed": false
      }
    },
    {
      "cell_type": "markdown",
      "source": [
        "Note that a local Braket device `braket.local.qubit` is also available.\n",
        "See the\n",
        "[documentation](https://amazon-braket-pennylane-plugin-python.readthedocs.io)\n",
        "for more details.\n",
        "\n",
        "Benchmarking circuit evaluation\n",
        "===============================\n",
        "\n",
        "We will now compare the execution time for the remote Braket SV1 device\n",
        "and `default.qubit`. Our first step is to create a simple circuit:\n"
      ],
      "metadata": {}
    },
    {
      "cell_type": "code",
      "execution_count": null,
      "source": [
        "def circuit(params):\n",
        "    for i in range(n_wires):\n",
        "        qml.RX(params[i], wires=i)\n",
        "    for i in range(n_wires):\n",
        "        qml.CNOT(wires=[i, (i + 1) % n_wires])\n",
        "    return qml.expval(qml.PauliZ(n_wires - 1))"
      ],
      "outputs": [],
      "metadata": {
        "collapsed": false
      }
    },
    {
      "cell_type": "markdown",
      "source": [
        "![](.img/parallel_gradients_circuit.png)\n",
        "\n",
        "In this circuit, each of the 25 qubits has a controllable rotation. A\n",
        "final block of two-qubit CNOT gates is added to entangle the qubits.\n",
        "Overall, this circuit has 25 trainable parameters. Although not\n",
        "particularly relevant for practical problems, we can use this circuit as\n",
        "a testbed for our comparison.\n",
        "\n",
        "The next step is to convert the above circuit into a PennyLane\n",
        "`QNode()`.\n"
      ],
      "metadata": {}
    },
    {
      "cell_type": "code",
      "execution_count": null,
      "source": [
        "qnode_remote = qml.QNode(circuit, dev_remote)\n",
        "qnode_local = qml.QNode(circuit, dev_local)"
      ],
      "outputs": [],
      "metadata": {
        "collapsed": false
      }
    },
    {
      "cell_type": "markdown",
      "source": [
        "> **Note**\n",
        ">\n",
        "> The above uses `QNode()` to convert the circuit. In other tutorials,\n",
        "> you may have seen the [qnode()](https://pennylane.readthedocs.io/en/stable/code/api/pennylane.qnode.html) decorator being used.\n",
        "> These approaches are interchangeable, but we use\n",
        "> `QNode()` here because it allows us to pair the same\n",
        "> circuit to different devices.\n",
        ">\n"
      ],
      "metadata": {}
    },
    {
      "cell_type": "markdown",
      "source": [
        "\n",
        "> **Warning**\n",
        ">\n",
        "> Running the contents of this tutorial will result in simulation fees charged to your\n",
        "> AWS account. We recommend monitoring your usage on the\n",
        "> AWS dashboard.\n",
        ">\n",
        "Let's now compare the execution time between the two devices:"
      ],
      "metadata": {}
    },
    {
      "cell_type": "code",
      "execution_count": null,
      "source": [
        "import time\n",
        "\n",
        "params = np.random.random(n_wires)\n",
        "\n",
        "t_0_remote = time.time()\n",
        "qnode_remote(params)\n",
        "t_1_remote = time.time()\n",
        "\n",
        "t_0_local = time.time()\n",
        "qnode_local(params)\n",
        "t_1_local = time.time()\n",
        "\n",
        "print(\"Execution time on remote device (seconds):\", t_1_remote - t_0_remote)\n",
        "print(\"Execution time on local device (seconds):\", t_1_local - t_0_local)"
      ],
      "outputs": [],
      "metadata": {
        "collapsed": false
      }
    },
    {
      "cell_type": "markdown",
      "source": [
        "Nice! These timings highlight the advantage of using the Amazon Braket\n",
        "SV1 device for simulations with large qubit numbers. In general,\n",
        "simulation times scale exponentially with the number of qubits, but SV1\n",
        "is highly optimized and running on AWS remote servers. This allows SV1\n",
        "to outperform `default.qubit` in this 25-qubit example. The time you see\n",
        "in practice for the remote device will also depend on factors such as\n",
        "your distance to AWS servers.\n",
        "\n",
        "> **Note**\n",
        ">\n",
        "> Given these timings, why would anyone want to use `default.qubit`? You should consider\n",
        "> using local devices when your circuit has few qubits. In this\n",
        "> regime, the latency times of communicating the circuit to a remote\n",
        "> server dominate over simulation times, allowing local simulators\n",
        "> to be faster.\n",
        ">\n",
        "Benchmarking gradient calculations\n",
        "==================================\n",
        "\n",
        "Now let us compare the gradient-calculation times between the two\n",
        "devices. Remember that when loading the remote device, we set\n",
        "`parallel=True`. This allows the multiple device executions required\n",
        "during gradient calculations to be performed in parallel, so we expect\n",
        "the remote device to be much faster.\n",
        "\n",
        "First, consider the remote device:\n"
      ],
      "metadata": {}
    },
    {
      "cell_type": "code",
      "execution_count": null,
      "source": [
        "d_qnode_remote = qml.grad(qnode_remote)\n",
        "\n",
        "t_0_remote_grad = time.time()\n",
        "d_qnode_remote(params)\n",
        "t_1_remote_grad = time.time()\n",
        "\n",
        "print(\"Gradient calculation time on remote device (seconds):\", t_1_remote_grad - t_0_remote_grad)"
      ],
      "outputs": [],
      "metadata": {
        "collapsed": false
      }
    },
    {
      "cell_type": "markdown",
      "source": [
        "Now, the local device:\n",
        "\n",
        "> **Warning**\n",
        ">\n",
        "> Evaluating the gradient with `default.qubit` will take a long time, consider\n",
        "> commenting-out the following lines unless you are happy to wait.\n",
        ">\n",
        "\n"
      ],
      "metadata": {}
    },
    {
      "cell_type": "code",
      "execution_count": null,
      "source": [
        "d_qnode_local = qml.grad(qnode_local)\n",
        "\n",
        "t_0_local_grad = time.time()\n",
        "d_qnode_local(params)\n",
        "t_1_local_grad = time.time()\n",
        "\n",
        "print(\"Gradient calculation time on local device (seconds):\", t_1_local_grad - t_0_local_grad)"
      ],
      "outputs": [],
      "metadata": {
        "collapsed": false
      }
    },
    {
      "cell_type": "markdown",
      "source": [
        "Wow, the local device needs around 15 minutes or more! Compare this to\n",
        "less than a minute spent calculating the gradient on SV1. This provides\n",
        "a powerful lesson in parallelization.\n",
        "\n",
        "What if we had run on SV1 with `parallel=False`? It would have taken\n",
        "around 3 minutes—still faster than a local device, but much slower than\n",
        "running SV1 in parallel.\n",
        "\n",
        "Scaling up QAOA for larger graphs\n",
        "=================================\n",
        "\n",
        "The quantum approximate optimization algorithm (QAOA) is a candidate\n",
        "algorithm for near-term quantum hardware that can find approximate\n",
        "solutions to combinatorial optimization problems such as graph-based\n",
        "problems. We have seen in the main\n",
        "[QAOA tutorial](https://pennylane.ai/qml/demos/tutorial_qaoa_intro.html) how QAOA successfully solves\n",
        "the minimum vertex cover problem on a four-node graph.\n",
        "\n",
        "Here, let's be ambitious and try to solve the maximum cut problem on a\n",
        "twenty-node graph! In maximum cut, the objective is to partition the\n",
        "graph's nodes into two groups so that the number of edges crossed or\n",
        "'cut' by the partition is maximized (see the diagram below). This\n",
        "problem is NP-hard, so we expect it to be tough as we increase the\n",
        "number of graph nodes.\n",
        "\n",
        "![](.img/max-cut.png)\n",
        "\n",
        "Let's first set the graph:"
      ],
      "metadata": {}
    },
    {
      "cell_type": "code",
      "execution_count": null,
      "source": [
        "import networkx as nx\n",
        "\n",
        "nodes = n_wires = 20\n",
        "edges = 60\n",
        "seed = 1967\n",
        "\n",
        "g = nx.gnm_random_graph(nodes, edges, seed=seed)\n",
        "positions = nx.spring_layout(g, seed=seed)\n",
        "\n",
        "nx.draw(g, with_labels=True, pos=positions)"
      ],
      "outputs": [],
      "metadata": {
        "collapsed": false
      }
    },
    {
      "cell_type": "markdown",
      "source": [
        "![](.img/20_node_graph.png)\n",
        "\n",
        "We will use the remote SV1 device to help us optimize our QAOA circuit\n",
        "as quickly as possible. First, the device is loaded again for 20 qubits\n"
      ],
      "metadata": {}
    },
    {
      "cell_type": "code",
      "execution_count": null,
      "source": [
        "dev = qml.device(\n",
        "    \"braket.aws.qubit\",\n",
        "    device_arn=device_arn,\n",
        "    wires=n_wires,\n",
        "    s3_destination_folder=s3_folder,\n",
        "    parallel=True,\n",
        "    max_parallel=20,\n",
        "    poll_timeout_seconds=30,\n",
        ")"
      ],
      "outputs": [],
      "metadata": {
        "collapsed": false
      }
    },
    {
      "cell_type": "markdown",
      "source": [
        "Note the specification of `max_parallel=20`. This means that up to `20`\n",
        "circuits will be executed in parallel on SV1 (the default value is\n",
        "`10`).\n",
        "\n",
        "> **Warning**\n",
        ">\n",
        "> Increasing the maximum number of parallel executions can result in a greater rate of\n",
        "> spending on simulation fees on Amazon Braket. The value must also\n",
        "> be set bearing in mind your service\n",
        "> [quota](https://docs.aws.amazon.com/braket/latest/developerguide/braket-quotas.html).\n",
        ">\n",
        "The QAOA problem can then be set up following the standard pattern, as\n",
        "discussed in detail in the [QAOA tutorial](https://pennylane.ai/qml/demos/tutorial_qaoa_intro.html).\n"
      ],
      "metadata": {}
    },
    {
      "cell_type": "code",
      "execution_count": null,
      "source": [
        "cost_h, mixer_h = qml.qaoa.maxcut(g)\n",
        "n_layers = 2\n",
        "\n",
        "\n",
        "def qaoa_layer(gamma, alpha):\n",
        "    qml.qaoa.cost_layer(gamma, cost_h)\n",
        "    qml.qaoa.mixer_layer(alpha, mixer_h)\n",
        "\n",
        "\n",
        "def circuit(params, **kwargs):\n",
        "    for i in range(n_wires):  # Prepare an equal superposition over all qubits\n",
        "        qml.Hadamard(wires=i)\n",
        "\n",
        "    qml.layer(qaoa_layer, n_layers, params[0], params[1])\n",
        "\n",
        "\n",
        "cost_function = qml.ExpvalCost(circuit, cost_h, dev, optimize=True)\n",
        "optimizer = qml.AdagradOptimizer(stepsize=0.1)"
      ],
      "outputs": [],
      "metadata": {
        "collapsed": false
      }
    },
    {
      "cell_type": "markdown",
      "source": [
        "We're now set up to train the circuit! Note, if you are training this\n",
        "circuit yourself, you may want to increase the number of iterations in\n",
        "the optimization loop and also investigate changing the number of QAOA\n",
        "layers.\n",
        "\n",
        "> **Warning**\n",
        ">\n",
        "> The following lines are computationally intensive. Remember that running it will result in\n",
        "> simulation fees charged to your AWS account. We recommend\n",
        "> monitoring your usage on the AWS dashboard.\n",
        ">\n",
        "\n"
      ],
      "metadata": {}
    },
    {
      "cell_type": "code",
      "execution_count": null,
      "source": [
        "import time\n",
        "\n",
        "np.random.seed(1967)\n",
        "params = 0.01 * np.random.uniform(size=[2, n_layers])\n",
        "iterations = 10\n",
        "\n",
        "for i in range(iterations):\n",
        "    t0 = time.time()\n",
        "\n",
        "    params, cost_before = optimizer.step_and_cost(cost_function, params)\n",
        "\n",
        "    t1 = time.time()\n",
        "\n",
        "    if i == 0:\n",
        "        print(\"Initial cost:\", cost_before)\n",
        "    else:\n",
        "        print(f\"Cost at step {i}:\", cost_before)\n",
        "\n",
        "    print(f\"Completed iteration {i + 1}\")\n",
        "    print(f\"Time to complete iteration: {t1 - t0} seconds\")\n",
        "\n",
        "print(f\"Cost at step {iterations}:\", cost_function(params))\n",
        "\n",
        "np.save(\"params.npy\", params)\n",
        "print(\"Parameters saved to params.npy\")"
      ],
      "outputs": [],
      "metadata": {
        "collapsed": false
      }
    },
    {
      "cell_type": "markdown",
      "source": [
        "This example shows us that a 20-qubit QAOA problem can be trained within\n",
        "around 1-2 minutes per iteration by using parallel executions on the\n",
        "Amazon Braket SV1 device to speed up gradient calculations. If this\n",
        "problem were run on `default.qubit` without parallelization, we would\n",
        "expect for training to take much longer.\n",
        "\n",
        "The results of this optimization can be investigated by saving the\n",
        "parameters [here](https://pennylane.ai/qml/_downloads/1ba558694052270f8efaeacd38101549/params.npy) to your\n",
        "working directory. See if you can analyze the performance of this\n",
        "optimized circuit following a similar strategy to the\n",
        "[QAOA tutorial](https://pennylane.ai/qml/demos/tutorial_qaoa_intro.html). Did we find a large graph\n",
        "cut?\n"
      ],
      "metadata": {}
    }
  ],
  "metadata": {
    "kernelspec": {
      "display_name": "PennyLane",
      "language": "python",
      "name": "pennylane"
    },
    "language_info": {
      "codemirror_mode": {
        "name": "ipython",
        "version": 3
      },
      "file_extension": ".py",
      "mimetype": "text/x-python",
      "name": "python",
      "nbconvert_exporter": "python",
      "pygments_lexer": "ipython3",
      "version": "3.7.2"
    }
  },
  "nbformat": 4,
  "nbformat_minor": 2
}