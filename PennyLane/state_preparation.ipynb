{
  "cells": [
    {
      "cell_type": "markdown",
      "source": [
        "> **Note**\n",
        ">\n",
        "> Saved changes to this file will not presist between instances. To retain your edits,\n",
        "> please save the file to your main directory.\n",
        "\n"
      ],
      "metadata": {}
    },
    {
      "cell_type": "markdown",
      "source": [
        "Training a quantum circuit with PyTorch\n",
        "=======================================\n",
        "\n",
        "*Author: PennyLane dev team. Last updated: 25 Jan 2021.*\n",
        "\n",
        "In this notebook, we build and optimize a circuit to prepare arbitrary\n",
        "single-qubit states, including mixed states. Along the way, we also show\n",
        "how to:\n",
        "\n",
        "1.  Construct compact expressions for circuits composed of many layers.\n",
        "2.  Succinctly evaluate expectation values of many observables.\n",
        "3.  Estimate expectation values from repeated measurements, as in\n",
        "    real hardware.\n",
        "\n"
      ],
      "metadata": {}
    },
    {
      "cell_type": "markdown",
      "source": [
        "The most general state of a qubit is represented in terms of a positive\n",
        "semi-definite density matrix $\\rho$ with unit trace. The density matrix\n",
        "can be uniquely described in terms of its three-dimensional *Bloch\n",
        "vector* $\\vec{a}=(a_x, a_y, a_z)$ as:\n",
        "\n",
        "$$\\rho=\\frac{1}{2}(\\mathbb{1}+a_x\\sigma_x+a_y\\sigma_y+a_z\\sigma_z),$$\n",
        "\n",
        "where $\\sigma_x, \\sigma_y, \\sigma_z$ are the Pauli matrices. Any Bloch\n",
        "vector corresponds to a valid density matrix as long as\n",
        "$\\|\\vec{a}\\|\\leq 1$.\n",
        "\n",
        "The *purity* of a state is defined as $p=\\text{Tr}(\\rho^2)$, which for a\n",
        "qubit is bounded as $1/2\\leq p\\leq 1$. The state is pure if $p=1$ and\n",
        "maximally mixed if $p=1/2$. In this example, we select the target state\n",
        "by choosing a random Bloch vector and renormalizing it to have a\n",
        "specified purity.\n",
        "\n",
        "To start, we import PennyLane, NumPy, and PyTorch for the optimization:\n"
      ],
      "metadata": {}
    },
    {
      "cell_type": "code",
      "execution_count": null,
      "source": [
        "import pennylane as qml\n",
        "import numpy as np\n",
        "import torch\n",
        "from torch.autograd import Variable\n",
        "np.random.seed(42)\n",
        "\n",
        "# we generate a three-dimensional random vector by sampling\n",
        "# each entry from a standard normal distribution\n",
        "v = np.random.normal(0, 1, 3)\n",
        "\n",
        "# purity of the target state\n",
        "purity = 0.66\n",
        "\n",
        "# create a random Bloch vector with the specified purity\n",
        "bloch_v = Variable(\n",
        "    torch.tensor(np.sqrt(2 * purity - 1) * v / np.sqrt(np.sum(v ** 2))),\n",
        "    requires_grad=False\n",
        ")\n",
        "\n",
        "# array of Pauli matrices (will be useful later)\n",
        "Paulis = Variable(torch.zeros([3, 2, 2], dtype=torch.complex128), requires_grad=False)\n",
        "Paulis[0] = torch.tensor([[0, 1], [1, 0]])\n",
        "Paulis[1] = torch.tensor([[0, -1j], [1j, 0]])\n",
        "Paulis[2] = torch.tensor([[1, 0], [0, -1]])"
      ],
      "outputs": [],
      "metadata": {
        "collapsed": false
      }
    },
    {
      "cell_type": "markdown",
      "source": [
        "Unitary operations map pure states to pure states. So how can we prepare\n",
        "mixed states using unitary circuits? The trick is to introduce\n",
        "additional qubits and perform a unitary transformation on this larger\n",
        "system. By \"tracing out\" the ancilla qubits, we can prepare mixed states\n",
        "in the target register. In this example, we introduce two additional\n",
        "qubits, which suffices to prepare arbitrary states.\n",
        "\n",
        "The ansatz circuit is composed of repeated layers, each of which\n",
        "consists of single-qubit rotations along the $x, y,$ and $z$ axes,\n",
        "followed by three CNOT gates entangling all qubits. Initial gate\n",
        "parameters are chosen at random from a normal distribution. Importantly,\n",
        "when declaring the layer function, we introduce an input parameter $j$,\n",
        "which allows us to later call each layer individually.\n"
      ],
      "metadata": {}
    },
    {
      "cell_type": "code",
      "execution_count": null,
      "source": [
        "# number of qubits in the circuit\n",
        "nr_qubits = 3\n",
        "# number of layers in the circuit\n",
        "nr_layers = 2\n",
        "\n",
        "# randomly initialize parameters from a normal distribution\n",
        "params = np.random.normal(0, np.pi, (nr_qubits, nr_layers, 3))\n",
        "params = Variable(torch.tensor(params), requires_grad=True)\n",
        "\n",
        "# a layer of the circuit ansatz\n",
        "def layer(params, j):\n",
        "    for i in range(nr_qubits):\n",
        "        qml.RX(params[i, j, 0], wires=i)\n",
        "        qml.RY(params[i, j, 1], wires=i)\n",
        "        qml.RZ(params[i, j, 2], wires=i)\n",
        "\n",
        "    qml.CNOT(wires=[0, 1])\n",
        "    qml.CNOT(wires=[0, 2])\n",
        "    qml.CNOT(wires=[1, 2])"
      ],
      "outputs": [],
      "metadata": {
        "collapsed": false
      }
    },
    {
      "cell_type": "markdown",
      "source": [
        "Here, we use the `default.qubit` device to perform the optimization, but\n",
        "this can be changed to any other supported device.\n"
      ],
      "metadata": {}
    },
    {
      "cell_type": "code",
      "execution_count": null,
      "source": [
        "dev = qml.device(\"default.qubit\", wires=3)"
      ],
      "outputs": [],
      "metadata": {
        "collapsed": false
      }
    },
    {
      "cell_type": "markdown",
      "source": [
        "When defining the QNode, we introduce as input a Hermitian operator $A$\n",
        "that specifies the expectation value being evaluated. This choice later\n",
        "allows us to easily evaluate several expectation values without having\n",
        "to define a new QNode each time.\n",
        "\n",
        "Since we will be optimizing using PyTorch, we configure the QNode to use\n",
        "the PyTorch interface:\n"
      ],
      "metadata": {}
    },
    {
      "cell_type": "code",
      "execution_count": null,
      "source": [
        "@qml.qnode(dev, interface=\"torch\")\n",
        "def circuit(params, A):\n",
        "\n",
        "    # repeatedly apply each layer in the circuit\n",
        "    for j in range(nr_layers):\n",
        "        layer(params, j)\n",
        "\n",
        "    # returns the expectation of the input matrix A on the first qubit\n",
        "    return qml.expval(qml.Hermitian(A, wires=0))"
      ],
      "outputs": [],
      "metadata": {
        "collapsed": false
      }
    },
    {
      "cell_type": "markdown",
      "source": [
        "Our goal is to prepare a state with the same Bloch vector as the target\n",
        "state. Therefore, we define a simple cost function\n",
        "\n",
        "$$C = \\sum_{i=1}^3 \\left|a_i-a'_i\\right|,$$\n",
        "\n",
        "where $\\vec{a}=(a_1, a_2, a_3)$ is the target vector and\n",
        "$\\vec{a}'=(a'_1, a'_2, a'_3)$ is the vector of the state prepared by the\n",
        "circuit. Optimization is carried out using the Adam optimizer. Finally,\n",
        "we compare the Bloch vectors of the target and output state.\n"
      ],
      "metadata": {}
    },
    {
      "cell_type": "code",
      "execution_count": null,
      "source": [
        "# cost function\n",
        "def cost_fn(params):\n",
        "    cost = 0\n",
        "    for k in range(3):\n",
        "        cost += torch.abs(circuit(params, Paulis[k]) - bloch_v[k])\n",
        "\n",
        "    return cost\n",
        "\n",
        "\n",
        "# set up the optimizer\n",
        "opt = torch.optim.Adam([params], lr=0.1)\n",
        "\n",
        "# number of steps in the optimization routine\n",
        "steps = 200\n",
        "\n",
        "# the final stage of optimization isn't always the best, so we keep track of\n",
        "# the best parameters along the way\n",
        "best_cost = cost_fn(params)\n",
        "best_params = np.zeros((nr_qubits, nr_layers, 3))\n",
        "\n",
        "print(\"Cost after 0 steps is {:.4f}\".format(cost_fn(params)))\n",
        "\n",
        "# optimization begins\n",
        "for n in range(steps):\n",
        "    opt.zero_grad()\n",
        "    loss = cost_fn(params)\n",
        "    loss.backward()\n",
        "    opt.step()\n",
        "\n",
        "    # keeps track of best parameters\n",
        "    if loss < best_cost:\n",
        "        best_cost = loss\n",
        "        best_params = params\n",
        "\n",
        "    # Keep track of progress every 10 steps\n",
        "    if n % 10 == 9 or n == steps - 1:\n",
        "        print(\"Cost after {} steps is {:.4f}\".format(n + 1, loss))\n",
        "\n",
        "# calculate the Bloch vector of the output state\n",
        "output_bloch_v = np.zeros(3)\n",
        "for l in range(3):\n",
        "    output_bloch_v[l] = circuit(best_params, Paulis[l])\n",
        "\n",
        "# print results\n",
        "print(\"Target Bloch vector = \", bloch_v.numpy())\n",
        "print(\"Output Bloch vector = \", output_bloch_v)"
      ],
      "outputs": [],
      "metadata": {
        "collapsed": false
      }
    }
  ],
  "metadata": {
    "kernelspec": {
      "display_name": "PennyLane",
      "language": "python",
      "name": "pennylane"
    },
    "language_info": {
      "codemirror_mode": {
        "name": "ipython",
        "version": 3
      },
      "file_extension": ".py",
      "mimetype": "text/x-python",
      "name": "python",
      "nbconvert_exporter": "python",
      "pygments_lexer": "ipython3",
      "version": "3.7.2"
    }
  },
  "nbformat": 4,
  "nbformat_minor": 2
}