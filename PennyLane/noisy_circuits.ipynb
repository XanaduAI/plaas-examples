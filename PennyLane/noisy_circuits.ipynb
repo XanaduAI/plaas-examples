{
 "cells": [
  {
   "cell_type": "markdown",
   "metadata": {},
   "source": [
    "Noisy circuits\n",
    "==============\n",
    "\n",
    "In this demonstration, you'll learn how to simulate noisy circuits using\n",
    "built-in functionality in PennyLane. We'll cover the basics of noisy\n",
    "channels and density matrices, then use example code to simulate noisy\n",
    "circuits. PennyLane, the library for differentiable quantum\n",
    "computations, has unique features that enable us to compute gradients of\n",
    "noisy channels. We'll also explore how to employ channel gradients to\n",
    "optimize noise parameters in a circuit.\n",
    "\n",
    "We're putting the N in NISQ.\n",
    "\n",
    "![..](.img/Noisy-Circuits-Nisq.png)\n"
   ]
  },
  {
   "cell_type": "markdown",
   "metadata": {},
   "source": [
    "Noisy operations\n",
    "================\n",
    "\n",
    "Noise is any unwanted transformation that corrupts the intended output\n",
    "of a quantum computation. It can be separated into two categories.\n",
    "\n",
    "-   **Coherent noise** is described by unitary operations that maintain\n",
    "    the purity of the output quantum state. A common source are\n",
    "    systematic errors originating from imperfectly-calibrated devices\n",
    "    that do not exactly apply the desired gates, e.g., applying a\n",
    "    rotation by an angle $\\phi+\\epsilon$ instead of $\\phi$.\n",
    "-   **Incoherent noise** is more problematic: it originates from a\n",
    "    quantum computer becoming entangled with the environment, resulting\n",
    "    in mixed states --- probability distributions over different\n",
    "    pure states. Incoherent noise thus leads to outputs that are always\n",
    "    random, regardless of what basis we measure in.\n",
    "\n",
    "Mixed states are described by [density\n",
    "matrices](https://en.wikipedia.org/wiki/Density_matrices). They provide\n",
    "a more general method of describing quantum states that elegantly\n",
    "encodes a distribution over pure states in a single mathematical object.\n",
    "Mixed states are the most general description of a quantum state, of\n",
    "which pure states are a special case.\n",
    "\n",
    "The purpose of PennyLane's `default.mixed` device is to provide native\n",
    "support for mixed states and for simulating noisy computations. Let's\n",
    "use `default.mixed` to simulate a simple circuit for preparing the Bell\n",
    "state $|\\psi\\rangle=\\frac{1}{\\sqrt{2}}(|00\\rangle+|11\\rangle)$. We ask\n",
    "the QNode to return the expectation value of $Z_0\\otimes Z_1$:\n"
   ]
  },
  {
   "cell_type": "code",
   "execution_count": 1,
   "metadata": {
    "collapsed": false,
    "jupyter": {
     "outputs_hidden": false
    }
   },
   "outputs": [
    {
     "name": "stderr",
     "output_type": "stream",
     "text": [
      "/opt/conda/envs/pennylane/lib/python3.8/site-packages/_distutils_hack/__init__.py:30: UserWarning: Setuptools is replacing distutils.\n",
      "  warnings.warn(\"Setuptools is replacing distutils.\")\n",
      "WARNING:matplotlib:Matplotlib created a temporary config/cache directory at /tmp/matplotlib-87det9b2 because the default path (/home/jovyan/.config/matplotlib) is not a writable directory; it is highly recommended to set the MPLCONFIGDIR environment variable to a writable directory, in particular to speed up the import of Matplotlib and to better support multiprocessing.\n"
     ]
    },
    {
     "name": "stdout",
     "output_type": "stream",
     "text": [
      "QNode output = 1.0000\n"
     ]
    }
   ],
   "source": [
    "import pennylane as qml\n",
    "from pennylane import numpy as np\n",
    "\n",
    "dev = qml.device('default.mixed', wires=2)\n",
    "\n",
    "\n",
    "@qml.qnode(dev)\n",
    "def circuit():\n",
    "    qml.Hadamard(wires=0)\n",
    "    qml.CNOT(wires=[0, 1])\n",
    "    return qml.expval(qml.PauliZ(0) @ qml.PauliZ(1))\n",
    "\n",
    "\n",
    "print(f\"QNode output = {circuit():.4f}\")"
   ]
  },
  {
   "cell_type": "markdown",
   "metadata": {},
   "source": [
    "The device stores the output state as a density matrix. In this case,\n",
    "the density matrix is equal to $|\\psi\\rangle\\langle\\psi|$, where\n",
    "$|\\psi\\rangle=\\frac{1}{\\sqrt{2}}(|00\\rangle + |11\\rangle)$.\n"
   ]
  },
  {
   "cell_type": "code",
   "execution_count": 2,
   "metadata": {
    "collapsed": false,
    "jupyter": {
     "outputs_hidden": false
    }
   },
   "outputs": [
    {
     "name": "stdout",
     "output_type": "stream",
     "text": [
      "Output state is = \n",
      "[[0.5 0.  0.  0.5]\n",
      " [0.  0.  0.  0. ]\n",
      " [0.  0.  0.  0. ]\n",
      " [0.5 0.  0.  0.5]]\n"
     ]
    }
   ],
   "source": [
    "print(f\"Output state is = \\n{np.real(dev.state)}\")"
   ]
  },
  {
   "cell_type": "markdown",
   "metadata": {},
   "source": [
    "Incoherent noise is modelled by quantum channels. Mathematically, a\n",
    "quantum channel is a linear, completely positive, and trace-preserving\n",
    "([CPTP](https://www.quantiki.org/wiki/channel-cp-map)) map. A convenient\n",
    "strategy for representing quantum channels is to employ [Kraus\n",
    "operators](https://en.wikipedia.org/wiki/Quantum_operation#Kraus_operators)\n",
    "$\\{K_i\\}$ satisfying the condition $\\sum_i K_{i}^{\\dagger} K_i = I$. For\n",
    "an initial state $\\rho$, the output state after the action of a channel\n",
    "$\\Phi$ is:\n",
    "\n",
    "$$\\Phi(\\rho) = \\sum_i K_i \\rho K_{i}^{\\dagger}.$$\n",
    "\n",
    "Just like pure states are special cases of mixed states, unitary\n",
    "transformations are special cases of quantum channels. Unitary\n",
    "transformations are represented by a single Kraus operator, the unitary\n",
    "$U$, and they transform a state as $U\\rho U^\\dagger$.\n",
    "\n",
    "More generally, the action of a quantum channel can be interpreted as\n",
    "applying a transformation corresponding to the Kraus operator $K_i$ with\n",
    "some associated probability. More precisely, the channel applies the\n",
    "transformation $\\frac{1}{p_i}K_i\\rho K_i^\\dagger$ with probability\n",
    "$p_i = \\text{Tr}[K_i \\rho K_{i}^{\n",
    "\\dagger}]$. Quantum channels therefore represent a probability\n",
    "distribution over different possible transformations on a quantum state.\n",
    "For example, consider the bit flip channel. It describes a\n",
    "transformation that flips the state of a qubit (applies an X gate) with\n",
    "probability $p$ and leaves it unchanged with probability $1-p$. Its\n",
    "Kraus operators are\n",
    "\n",
    "$$K_0 = \\sqrt{1-p}\\begin{pmatrix}1 & 0\\\\ 0 & 1\\end{pmatrix}, \\\\\n",
    "K_1 = \\sqrt{p}\\begin{pmatrix}0 & 1\\\\ 1 & 0\\end{pmatrix}.$$\n",
    "\n",
    "This channel can be implemented in PennyLane using the\n",
    "[qml.BitFlip](https://pennylane.readthedocs.io/en/stable/code/api/pennylane.BitFlip.html) operation.\n",
    "\n",
    "Let's see what happens when we simulate this type of noise acting on\n",
    "both qubits in the circuit. We'll evaluate the QNode for different bit\n",
    "flip probabilities.\n"
   ]
  },
  {
   "cell_type": "code",
   "execution_count": 3,
   "metadata": {
    "collapsed": false,
    "jupyter": {
     "outputs_hidden": false
    }
   },
   "outputs": [
    {
     "name": "stdout",
     "output_type": "stream",
     "text": [
      "QNode output for bit flip probability 0.001 is 0.9960\n",
      "QNode output for bit flip probability 0.01 is 0.9604\n",
      "QNode output for bit flip probability 0.1 is 0.6400\n",
      "QNode output for bit flip probability 0.2 is 0.3600\n"
     ]
    }
   ],
   "source": [
    "@qml.qnode(dev)\n",
    "def bitflip_circuit(p):\n",
    "    qml.Hadamard(wires=0)\n",
    "    qml.CNOT(wires=[0, 1])\n",
    "    qml.BitFlip(p, wires=0)\n",
    "    qml.BitFlip(p, wires=1)\n",
    "    return qml.expval(qml.PauliZ(0) @ qml.PauliZ(1))\n",
    "\n",
    "\n",
    "ps = [0.001, 0.01, 0.1, 0.2]\n",
    "for p in ps:\n",
    "    print(f\"QNode output for bit flip probability {p} is {bitflip_circuit(p):.4f}\")"
   ]
  },
  {
   "cell_type": "markdown",
   "metadata": {},
   "source": [
    "The circuit behaves quite differently in the presence of noise! This\n",
    "will be familiar to anyone that has run an algorithm on quantum\n",
    "hardware. It is also highlights why error mitigation and error\n",
    "correction are so important. We can use PennyLane to look under the hood\n",
    "and see the output state of the circuit for the largest noise parameter.\n"
   ]
  },
  {
   "cell_type": "code",
   "execution_count": 4,
   "metadata": {
    "collapsed": false,
    "jupyter": {
     "outputs_hidden": false
    }
   },
   "outputs": [
    {
     "name": "stdout",
     "output_type": "stream",
     "text": [
      "Output state for bit flip probability 0.2 is \n",
      "[[0.34 0.   0.   0.34]\n",
      " [0.   0.16 0.16 0.  ]\n",
      " [0.   0.16 0.16 0.  ]\n",
      " [0.34 0.   0.   0.34]]\n"
     ]
    }
   ],
   "source": [
    "print(f\"Output state for bit flip probability {p} is \\n{np.real(dev.state)}\")"
   ]
  },
  {
   "cell_type": "markdown",
   "metadata": {},
   "source": [
    "Besides the bit flip channel, PennyLane supports several other noisy\n",
    "channels that are commonly used to describe experimental imperfections:\n",
    "[PhaseFlip](https://pennylane.readthedocs.io/en/stable/code/api/pennylane.PhaseFlip.html),\n",
    "[AmplitudeDamping](https://pennylane.readthedocs.io/en/stable/code/api/pennylane.AmplitudeDamping.html),\n",
    "[GeneralizedAmplitudeDamping](https://pennylane.readthedocs.io/en/stable/code/api/pennylane.GeneralizedAmplitudeDamping.html),\n",
    "[PhaseDamping](https://pennylane.readthedocs.io/en/stable/code/api/pennylane.PhaseDamping.html), and\n",
    "the [DepolarizingChannel](https://pennylane.readthedocs.io/en/stable/code/api/pennylane.DepolarizingChannel.html). You can also build your own custom\n",
    "channel using the operation [QubitChannel](https://pennylane.readthedocs.io/en/stable/code/api/pennylane.QubitChannel.html) by specifying its\n",
    "Kraus operators, or even submit a [pull\n",
    "request](https://pennylane.readthedocs.io/en/stable/development/guide.html)\n",
    "introducing a new channel.\n",
    "\n",
    "Let's take a look at another example. The depolarizing channel is a\n",
    "generalization of the bit flip and phase flip channels, where each of\n",
    "the three possible Pauli errors can be applied to a single qubit. Its\n",
    "Kraus operators are given by\n",
    "\n",
    "$$K_0 = \\sqrt{1-p}\\begin{pmatrix}1 & 0\\\\ 0 & 1\\end{pmatrix}, \\\\\n",
    "K_1 = \\sqrt{p/3}\\begin{pmatrix}0 & 1\\\\ 1 & 0\\end{pmatrix}, \\\\\n",
    "K_2 = \\sqrt{p/3}\\begin{pmatrix}0 & -i\\\\ i & 0\\end{pmatrix}, \\\\\n",
    "K_3 = \\sqrt{p/3}\\begin{pmatrix}1 & 0\\\\ 0 & -1\\end{pmatrix}.$$\n",
    "\n",
    "A circuit modelling the effect of depolarizing noise in preparing a Bell\n",
    "state is implemented below.\n"
   ]
  },
  {
   "cell_type": "code",
   "execution_count": 5,
   "metadata": {
    "collapsed": false,
    "jupyter": {
     "outputs_hidden": false
    }
   },
   "outputs": [
    {
     "name": "stdout",
     "output_type": "stream",
     "text": [
      "QNode output for depolarizing probability 0.001 is 0.9973\n",
      "QNode output for depolarizing probability 0.01 is 0.9735\n",
      "QNode output for depolarizing probability 0.1 is 0.7511\n",
      "QNode output for depolarizing probability 0.2 is 0.5378\n"
     ]
    }
   ],
   "source": [
    "@qml.qnode(dev)\n",
    "def depolarizing_circuit(p):\n",
    "    qml.Hadamard(wires=0)\n",
    "    qml.CNOT(wires=[0, 1])\n",
    "    qml.DepolarizingChannel(p, wires=0)\n",
    "    qml.DepolarizingChannel(p, wires=1)\n",
    "    return qml.expval(qml.PauliZ(0) @ qml.PauliZ(1))\n",
    "\n",
    "\n",
    "ps = [0.001, 0.01, 0.1, 0.2]\n",
    "for p in ps:\n",
    "    print(f\"QNode output for depolarizing probability {p} is {depolarizing_circuit(p):.4f}\")"
   ]
  },
  {
   "cell_type": "markdown",
   "metadata": {},
   "source": [
    "As before, the output deviates from the desired value as the amount of\n",
    "noise increases. Modelling the noise that occurs in real experiments\n",
    "requires careful consideration. PennyLane offers the flexibility to\n",
    "experiment with different combinations of noisy channels to either mimic\n",
    "the performance of quantum algorithms when deployed on real devices, or\n",
    "to explore the effect of more general quantum transformations.\n",
    "\n",
    "Channel gradients\n",
    "=================\n",
    "\n",
    "The ability to compute gradients of any operation is an essential\n",
    "ingredient of\n",
    "[quantum differentiable programming](https://pennylane.ai/qml/glossary/quantum_differentiable_programming.html).\n",
    "In PennyLane, it is possible to compute gradients of noisy channels and\n",
    "optimize them inside variational circuits. PennyLane supports analytical\n",
    "gradients for channels whose Kraus operators are proportional to unitary\n",
    "matrices [[1]](#johannes). In other cases, gradients are evaluated using\n",
    "finite differences.\n",
    "\n",
    "To illustrate this property, we'll consider an elementary example. We\n",
    "aim to learn the noise parameters of a circuit in order to reproduce an\n",
    "observed expectation value. So suppose that we run the circuit to\n",
    "prepare a Bell state on a hardware device and observe that the\n",
    "expectation value of $Z_0\\otimes Z_1$ is not equal to 1 (as would occur\n",
    "with an ideal device), but instead has the value 0.7781. In the\n",
    "experiment, it is known that the major source of noise is amplitude\n",
    "damping, for example as a result of photon loss. Amplitude damping\n",
    "projects a state to $|0\\rangle$ with probability $p$ and otherwise\n",
    "leaves it unchanged. It is described by the Kraus operators\n",
    "\n",
    "$$K_0 = \\begin{pmatrix}1 & 0\\\\ 0 & \\sqrt{1-p}\\end{pmatrix}, \\quad\n",
    "K_1 = \\begin{pmatrix}0 & \\sqrt{p}\\\\ 0 & 0\\end{pmatrix}.$$\n",
    "\n",
    "What damping parameter ($p$) explains the experimental outcome? We can\n",
    "answer this question by optimizing the channel parameters to reproduce\n",
    "the experimental observation! 💪 Since the parameter $p$ is a\n",
    "probability, we use a sigmoid function to ensure that the trainable\n",
    "parameters give rise to a valid channel parameter, i.e., a number\n",
    "between 0 and 1.\n"
   ]
  },
  {
   "cell_type": "code",
   "execution_count": 6,
   "metadata": {
    "collapsed": false,
    "jupyter": {
     "outputs_hidden": false
    }
   },
   "outputs": [],
   "source": [
    "ev = np.tensor(0.7781, requires_grad=False)  # observed expectation value\n",
    "\n",
    "def sigmoid(x):\n",
    "    return 1/(1+np.exp(-x))\n",
    "\n",
    "@qml.qnode(dev)\n",
    "def damping_circuit(x):\n",
    "    qml.Hadamard(wires=0)\n",
    "    qml.CNOT(wires=[0, 1])\n",
    "    qml.AmplitudeDamping(sigmoid(x), wires=0)  # p = sigmoid(x)\n",
    "    qml.AmplitudeDamping(sigmoid(x), wires=1)\n",
    "    return qml.expval(qml.PauliZ(0) @ qml.PauliZ(1))"
   ]
  },
  {
   "cell_type": "markdown",
   "metadata": {},
   "source": [
    "We optimize the circuit with respect to a simple cost function that\n",
    "attains its minimum when the output of the QNode is equal to the\n",
    "experimental value:\n"
   ]
  },
  {
   "cell_type": "code",
   "execution_count": 7,
   "metadata": {
    "collapsed": false,
    "jupyter": {
     "outputs_hidden": false
    }
   },
   "outputs": [],
   "source": [
    "def cost(x, target):\n",
    "    return (damping_circuit(x) - target)**2"
   ]
  },
  {
   "cell_type": "markdown",
   "metadata": {},
   "source": [
    "All that remains is to optimize the parameter. We use a straightforward\n",
    "gradient descent method.\n"
   ]
  },
  {
   "cell_type": "code",
   "execution_count": 8,
   "metadata": {
    "collapsed": false,
    "jupyter": {
     "outputs_hidden": false
    }
   },
   "outputs": [
    {
     "name": "stdout",
     "output_type": "stream",
     "text": [
      "Step: 0    Cost: 0.07733961000000007\n",
      "Step: 5    Cost: 0.07733960999999988\n",
      "Step: 10    Cost: 0.07733960999863909\n",
      "Step: 15    Cost: 0.07733960170319246\n",
      "Step: 20    Cost: 0.07728907281668594\n",
      "Step: 25    Cost: 0.00619256273608413\n",
      "Step: 30    Cost: 6.427645721531149e-07\n",
      "Step: 34    Cost: 1.1072988471351325e-09\n",
      "QNode output after optimization = 0.7781\n",
      "Experimental expectation value = 0.7781\n",
      "Optimized noise parameter p = 0.1271\n"
     ]
    }
   ],
   "source": [
    "opt = qml.GradientDescentOptimizer(stepsize=10)\n",
    "steps = 35\n",
    "x = np.tensor(0.0, requires_grad=True)\n",
    "\n",
    "for i in range(steps):\n",
    "    (x, ev), cost_val = opt.step_and_cost(cost, x, ev)\n",
    "    if i % 5 == 0 or i == steps - 1:\n",
    "        print(f\"Step: {i}    Cost: {cost_val}\")\n",
    "\n",
    "print(f\"QNode output after optimization = {damping_circuit(x):.4f}\")\n",
    "print(f\"Experimental expectation value = {ev}\")\n",
    "print(f\"Optimized noise parameter p = {sigmoid(x.take(0)):.4f}\")"
   ]
  },
  {
   "cell_type": "markdown",
   "metadata": {},
   "source": [
    "Voilà! We've trained the noisy channel to reproduce the experimental\n",
    "observation. 😎\n",
    "\n",
    "Developing quantum algorithms that leverage the power of NISQ devices\n",
    "requires serious consideration of the effects of noise. With PennyLane,\n",
    "you have access to tools that can help you design, simulate, and\n",
    "optimize noisy quantum circuits. We look forward to seeing what the\n",
    "quantum community can achieve with them! 🚀 🎉 😸\n",
    "\n",
    "References\n",
    "==========\n",
    "<a id=\"johannes\">[1]</a> Johannes Jakob Meyer, Johannes Borregaard, and Jens Eisert, “A variational toolbox for quantum multi-parameter estimation.” [arXiv:2006.06303 (2020)](https://arxiv.org/abs/2006.06303)."
   ]
  }
 ],
 "metadata": {
  "kernelspec": {
   "display_name": "PennyLane",
   "language": "python",
   "name": "pennylane"
  },
  "language_info": {
   "codemirror_mode": {
    "name": "ipython",
    "version": 3
   },
   "file_extension": ".py",
   "mimetype": "text/x-python",
   "name": "python",
   "nbconvert_exporter": "python",
   "pygments_lexer": "ipython3",
   "version": "3.8.12"
  }
 },
 "nbformat": 4,
 "nbformat_minor": 4
}
