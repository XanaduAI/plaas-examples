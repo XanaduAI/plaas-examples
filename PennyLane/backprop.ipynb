{
 "cells": [
  {
   "cell_type": "markdown",
   "metadata": {},
   "source": [
    "Quantum gradients with backpropagation\n",
    "======================================\n",
    "\n",
    "*Author: PennyLane dev team. Last updated: 31 Jan 2021.*\n",
    "\n",
    "In PennyLane, any quantum device, whether a hardware device or a\n",
    "simulator, can be trained using the\n",
    "[parameter-shift rule](https://pennylane.ai/qml/glossary/parameter_shift.html) to compute\n",
    "quantum gradients. Indeed, the parameter-shift rule is ideally suited to\n",
    "hardware devices, as it does not require any knowledge about the\n",
    "internal workings of the device; it is sufficient to treat the device as\n",
    "a 'black box', and to query it with different input values in order to\n",
    "determine the gradient.\n",
    "\n",
    "When working with simulators, however, we *do* have access to the\n",
    "internal (classical) computations being performed. This allows us to\n",
    "take advantage of other methods of computing the gradient, such as\n",
    "backpropagation, which may be advantageous in certain regimes. In this\n",
    "tutorial, we will compare and contrast the parameter-shift rule against\n",
    "backpropagation, using the PennyLane\n",
    "default.qubit `default.qubit` device.\n",
    "\n",
    "The parameter-shift rule\n",
    "------------------------\n",
    "\n",
    "The parameter-shift rule states that, given a variational quantum\n",
    "circuit $U(\\boldsymbol\n",
    "\\theta)$ composed of parametrized Pauli rotations, and some measured\n",
    "observable $\\hat{B}$, the derivative of the expectation value\n",
    "\n",
    "$$\\langle \\hat{B} \\rangle (\\boldsymbol\\theta) =\n",
    "\\langle 0 \\vert U(\\boldsymbol\\theta)^\\dagger \\hat{B} U(\\boldsymbol\\theta) \\vert 0\\rangle$$\n",
    "\n",
    "with respect to the input circuit parameters $\\boldsymbol{\\theta}$ is\n",
    "given by\n",
    "\n",
    "$$\\nabla_{\\theta_i}\\langle \\hat{B} \\rangle(\\boldsymbol\\theta)\n",
    "   =  \\frac{1}{2}\n",
    "         \\left[\n",
    "             \\langle \\hat{B} \\rangle\\left(\\boldsymbol\\theta + \\frac{\\pi}{2}\\hat{\\mathbf{e}}_i\\right)\n",
    "           - \\langle \\hat{B} \\rangle\\left(\\boldsymbol\\theta - \\frac{\\pi}{2}\\hat{\\mathbf{e}}_i\\right)\n",
    "         \\right].$$\n",
    "\n",
    "Thus, the gradient of the expectation value can be calculated by\n",
    "evaluating the same variational quantum circuit, but with shifted\n",
    "parameter values (hence the name, parameter-shift rule!).\n",
    "\n",
    "Let's have a go implementing the parameter-shift rule manually in\n",
    "PennyLane.\n"
   ]
  },
  {
   "cell_type": "code",
   "execution_count": 1,
   "metadata": {
    "collapsed": false,
    "jupyter": {
     "outputs_hidden": false
    }
   },
   "outputs": [
    {
     "name": "stderr",
     "output_type": "stream",
     "text": [
      "/opt/conda/envs/pennylane/lib/python3.8/site-packages/_distutils_hack/__init__.py:30: UserWarning: Setuptools is replacing distutils.\n",
      "  warnings.warn(\"Setuptools is replacing distutils.\")\n",
      "Matplotlib created a temporary config/cache directory at /tmp/matplotlib-1dmltdw_ because the default path (/home/jovyan/.config/matplotlib) is not a writable directory; it is highly recommended to set the MPLCONFIGDIR environment variable to a writable directory, in particular to speed up the import of Matplotlib and to better support multiprocessing.\n"
     ]
    }
   ],
   "source": [
    "import pennylane as qml\n",
    "from pennylane import numpy as np\n",
    "from matplotlib import pyplot as plt\n",
    "\n",
    "# set the random seed\n",
    "np.random.seed(42)\n",
    "\n",
    "# create a device to execute the circuit on\n",
    "dev = qml.device(\"default.qubit\", wires=3)\n",
    "\n",
    "@qml.qnode(dev, diff_method=\"parameter-shift\")\n",
    "def circuit(params):\n",
    "    qml.RX(params[0], wires=0)\n",
    "    qml.RY(params[1], wires=1)\n",
    "    qml.RZ(params[2], wires=2)\n",
    "\n",
    "    qml.broadcast(qml.CNOT, wires=[0, 1, 2], pattern=\"ring\")\n",
    "\n",
    "    qml.RX(params[3], wires=0)\n",
    "    qml.RY(params[4], wires=1)\n",
    "    qml.RZ(params[5], wires=2)\n",
    "\n",
    "    qml.broadcast(qml.CNOT, wires=[0, 1, 2], pattern=\"ring\")\n",
    "    return qml.expval(qml.PauliY(0) @ qml.PauliZ(2))"
   ]
  },
  {
   "cell_type": "markdown",
   "metadata": {},
   "source": [
    "Let's test the variational circuit evaluation with some parameter input:\n"
   ]
  },
  {
   "cell_type": "code",
   "execution_count": 2,
   "metadata": {
    "collapsed": false,
    "jupyter": {
     "outputs_hidden": false
    }
   },
   "outputs": [
    {
     "name": "stdout",
     "output_type": "stream",
     "text": [
      "Parameters: [0.37454012 0.95071431 0.73199394 0.59865848 0.15601864 0.15599452]\n",
      "Expectation value: -0.11971365706871569\n"
     ]
    }
   ],
   "source": [
    "# initial parameters\n",
    "params = np.random.random([6], requires_grad=True)\n",
    "\n",
    "print(\"Parameters:\", params)\n",
    "print(\"Expectation value:\", circuit(params))"
   ]
  },
  {
   "cell_type": "markdown",
   "metadata": {},
   "source": [
    "We can also draw the executed quantum circuit:\n"
   ]
  },
  {
   "cell_type": "code",
   "execution_count": 3,
   "metadata": {
    "collapsed": false,
    "jupyter": {
     "outputs_hidden": false
    }
   },
   "outputs": [
    {
     "data": {
      "image/png": "[encoded data removed]",
      "text/plain": [
       "<Figure size 792x288 with 1 Axes>"
      ]
     },
     "metadata": {},
     "output_type": "display_data"
    }
   ],
   "source": [
    "fig, ax = qml.draw_mpl(circuit, decimals=2)(params)\n",
    "plt.show()"
   ]
  },
  {
   "cell_type": "markdown",
   "metadata": {},
   "source": [
    "Now that we have defined our variational circuit QNode, we can construct\n",
    "a function that computes the gradient of the $i\\text{th}$ parameter\n",
    "using the parameter-shift rule.\n"
   ]
  },
  {
   "cell_type": "code",
   "execution_count": 4,
   "metadata": {
    "collapsed": false,
    "jupyter": {
     "outputs_hidden": false
    }
   },
   "outputs": [
    {
     "name": "stdout",
     "output_type": "stream",
     "text": [
      "-0.0651887722495812\n"
     ]
    }
   ],
   "source": [
    "def parameter_shift_term(qnode, params, i):\n",
    "    shifted = params.copy()\n",
    "    shifted[i] += np.pi/2\n",
    "    forward = qnode(shifted)  # forward evaluation\n",
    "\n",
    "    shifted[i] -= np.pi\n",
    "    backward = qnode(shifted) # backward evaluation\n",
    "\n",
    "    return 0.5 * (forward - backward)\n",
    "\n",
    "# gradient with respect to the first parameter\n",
    "print(parameter_shift_term(circuit, params, 0))"
   ]
  },
  {
   "cell_type": "markdown",
   "metadata": {},
   "source": [
    "In order to compute the gradient with respect to *all* parameters, we\n",
    "need to loop over the index `i`:\n"
   ]
  },
  {
   "cell_type": "code",
   "execution_count": 5,
   "metadata": {
    "collapsed": false,
    "jupyter": {
     "outputs_hidden": false
    }
   },
   "outputs": [
    {
     "name": "stdout",
     "output_type": "stream",
     "text": [
      "[-6.51887722e-02 -2.72891905e-02 -2.77555756e-17 -9.33934621e-02\n",
      " -7.61067572e-01  0.00000000e+00]\n"
     ]
    }
   ],
   "source": [
    "def parameter_shift(qnode, params):\n",
    "    gradients = np.zeros([len(params)])\n",
    "\n",
    "    for i in range(len(params)):\n",
    "        gradients[i] = parameter_shift_term(qnode, params, i)\n",
    "\n",
    "    return gradients\n",
    "\n",
    "print(parameter_shift(circuit, params))"
   ]
  },
  {
   "cell_type": "markdown",
   "metadata": {},
   "source": [
    "We can compare this to PennyLane's *built-in* parameter-shift feature by\n",
    "using the `qml.grad` function. Remember, when we\n",
    "defined the QNode, we specified that we wanted it to be differentiable\n",
    "using the parameter-shift method (`diff_method=\"parameter-shift\"`).\n"
   ]
  },
  {
   "cell_type": "code",
   "execution_count": 6,
   "metadata": {
    "collapsed": false,
    "jupyter": {
     "outputs_hidden": false
    }
   },
   "outputs": [
    {
     "name": "stdout",
     "output_type": "stream",
     "text": [
      "-0.0651887722495812\n"
     ]
    }
   ],
   "source": [
    "grad_function = qml.grad(circuit)\n",
    "print(grad_function(params)[0])"
   ]
  },
  {
   "cell_type": "markdown",
   "metadata": {},
   "source": [
    "If you count the number of quantum evaluations, you will notice that we\n",
    "had to evaluate the circuit `2*len(params)` number of times in order to\n",
    "compute the quantum gradient with respect to all parameters. While\n",
    "reasonably fast for a small number of parameters, as the number of\n",
    "parameters in our quantum circuit grows, so does both\n",
    "\n",
    "1.  the circuit depth (and thus the time taken to evaluate each\n",
    "    expectation value or 'forward' pass), and\n",
    "2.  the number of parameter-shift evaluations required.\n",
    "\n",
    "Both of these factors increase the time taken to compute the gradient\n",
    "with respect to all parameters.\n",
    "\n",
    "Benchmarking\n",
    "============\n",
    "\n",
    "Let's consider an example with a significantly larger number of\n",
    "parameters. We'll make use of the\n",
    "`StronglyEntanglingLayers` template to make a more\n",
    "complicated QNode.\n"
   ]
  },
  {
   "cell_type": "code",
   "execution_count": 7,
   "metadata": {
    "collapsed": false,
    "jupyter": {
     "outputs_hidden": false
    }
   },
   "outputs": [
    {
     "name": "stdout",
     "output_type": "stream",
     "text": [
      "180\n",
      "0.8947771876917714\n"
     ]
    }
   ],
   "source": [
    "dev = qml.device(\"default.qubit\", wires=4)\n",
    "\n",
    "@qml.qnode(dev, diff_method=\"parameter-shift\")\n",
    "def circuit(params):\n",
    "    qml.StronglyEntanglingLayers(params, wires=[0, 1, 2, 3])\n",
    "    return qml.expval(qml.PauliZ(0) @ qml.PauliZ(1) @ qml.PauliZ(2) @ qml.PauliZ(3))\n",
    "\n",
    "# initialize circuit parameters\n",
    "param_shape = qml.StronglyEntanglingLayers.shape(n_wires=4, n_layers=15)\n",
    "params = np.random.normal(scale=0.1, size=param_shape, requires_grad=True)\n",
    "print(params.size)\n",
    "print(circuit(params))"
   ]
  },
  {
   "cell_type": "markdown",
   "metadata": {},
   "source": [
    "This circuit has 180 parameters. Let's see how long it takes to perform\n",
    "a forward pass of the circuit.\n"
   ]
  },
  {
   "cell_type": "code",
   "execution_count": 8,
   "metadata": {
    "collapsed": false,
    "jupyter": {
     "outputs_hidden": false
    }
   },
   "outputs": [
    {
     "name": "stdout",
     "output_type": "stream",
     "text": [
      "Forward pass (best of 3): 0.013480773300398142 sec per loop\n"
     ]
    }
   ],
   "source": [
    "import timeit\n",
    "\n",
    "reps = 3\n",
    "num = 10\n",
    "times = timeit.repeat(\"circuit(params)\", globals=globals(), number=num, repeat=reps)\n",
    "forward_time = min(times) / num\n",
    "\n",
    "print(f\"Forward pass (best of {reps}): {forward_time} sec per loop\")"
   ]
  },
  {
   "cell_type": "markdown",
   "metadata": {},
   "source": [
    "We can now estimate the time taken to compute the full gradient vector,\n",
    "and see how this compares.\n"
   ]
  },
  {
   "cell_type": "code",
   "execution_count": 9,
   "metadata": {
    "collapsed": false,
    "jupyter": {
     "outputs_hidden": false
    }
   },
   "outputs": [
    {
     "name": "stdout",
     "output_type": "stream",
     "text": [
      "Gradient computation (best of 3): 3.943280591102666 sec per loop\n"
     ]
    }
   ],
   "source": [
    "# create the gradient function\n",
    "grad_fn = qml.grad(circuit)\n",
    "\n",
    "times = timeit.repeat(\"grad_fn(params)\", globals=globals(), number=num, repeat=reps)\n",
    "backward_time = min(times) / num\n",
    "\n",
    "print(f\"Gradient computation (best of {reps}): {backward_time} sec per loop\")"
   ]
  },
  {
   "cell_type": "markdown",
   "metadata": {},
   "source": [
    "Based on the parameter-shift rule, we expect that the amount of time to\n",
    "compute the quantum gradients should be approximately $2p\\Delta t_{f}$\n",
    "where $p$ is the number of parameters and $\\Delta t_{f}$ if the time\n",
    "taken for the forward pass. Let's verify this:\n"
   ]
  },
  {
   "cell_type": "code",
   "execution_count": 10,
   "metadata": {
    "collapsed": false,
    "jupyter": {
     "outputs_hidden": false
    }
   },
   "outputs": [
    {
     "name": "stdout",
     "output_type": "stream",
     "text": [
      "4.853078388143331\n"
     ]
    }
   ],
   "source": [
    "print(2 * forward_time * params.size)"
   ]
  },
  {
   "cell_type": "markdown",
   "metadata": {},
   "source": [
    "Backpropagation\n",
    "===============\n",
    "\n",
    "An alternative to the parameter-shift rule for computing gradients is\n",
    "[reverse-mode\n",
    "autodifferentiation](https://en.wikipedia.org/wiki/Reverse_accumulation).\n",
    "Unlike the parameter-shift method, which requires $2p$ circuit\n",
    "evaluations for $p$ parameters, reverse-mode requires only a *single*\n",
    "forward pass of the differentiable function to compute the gradient of\n",
    "all variables, at the expense of increased memory usage. During the\n",
    "forward pass, the results of all intermediate subexpressions are stored;\n",
    "the computation is then traversed *in reverse*, with the gradient\n",
    "computed by repeatedly applying the chain rule. In most classical\n",
    "machine learning settings (where we are training scalar loss functions\n",
    "consisting of a large number of parameters), reverse-mode\n",
    "autodifferentiation is the preferred method of autodifferentiation---the\n",
    "reduction in computational time enables larger and more complex models\n",
    "to be successfully trained. The backpropagation algorithm is a\n",
    "particular special-case of reverse-mode autodifferentiation, which has\n",
    "helped lead to the machine learning explosion we see today.\n",
    "\n",
    "In quantum machine learning, however, the inability to store and utilize\n",
    "the results of *intermediate* quantum operations on hardware remains a\n",
    "barrier to using backprop; while reverse-mode autodifferentiation works\n",
    "fine for small quantum simulations, only the parameter-shift rule can be\n",
    "used to compute gradients on quantum hardware directly. Nevertheless,\n",
    "when training quantum models via classical simulation, it's useful to\n",
    "explore the regimes where reverse-mode differentiation may be a better\n",
    "choice than the parameter-shift rule.\n",
    "\n",
    "Benchmarking\n",
    "------------\n",
    "\n",
    "When creating a QNode,\n",
    "[PennyLane supports various methods of differentiation](https://pennylane.readthedocs.io/en/stable/code/api/pennylane.qnode.html), including `\"parameter-shift\"` (which\n",
    "we used previously), `\"finite-diff\"`, `\"reversible\"`, and `\"backprop\"`.\n",
    "While `\"parameter-shift\"` works with all devices (simulator or\n",
    "hardware), `\"backprop\"` will only work for specific simulator devices\n",
    "that are designed to support backpropagation.\n",
    "\n",
    "One such device is `default.qubit`.\n",
    "It has backends written using TensorFlow, JAX, and Autograd, so when\n",
    "used with the TensorFlow, JAX, and Autograd interfaces respectively,\n",
    "supports backpropagation. In this demo, we will use the default Autograd\n",
    "interface.\n"
   ]
  },
  {
   "cell_type": "code",
   "execution_count": 11,
   "metadata": {
    "collapsed": false,
    "jupyter": {
     "outputs_hidden": false
    }
   },
   "outputs": [],
   "source": [
    "dev = qml.device(\"default.qubit\", wires=4)"
   ]
  },
  {
   "cell_type": "markdown",
   "metadata": {},
   "source": [
    "When defining the QNode, we specify `diff_method=\"backprop\"` to ensure\n",
    "that we are using backpropagation mode. Note that this is the *default\n",
    "differentiation mode* for the `default.qubit` device.\n"
   ]
  },
  {
   "cell_type": "code",
   "execution_count": 12,
   "metadata": {
    "collapsed": false,
    "jupyter": {
     "outputs_hidden": false
    }
   },
   "outputs": [
    {
     "name": "stdout",
     "output_type": "stream",
     "text": [
      "0.9358535378025545\n"
     ]
    }
   ],
   "source": [
    "@qml.qnode(dev, diff_method=\"backprop\")\n",
    "def circuit(params):\n",
    "    qml.StronglyEntanglingLayers(params, wires=[0, 1, 2, 3])\n",
    "    return qml.expval(qml.PauliZ(0) @ qml.PauliZ(1) @ qml.PauliZ(2) @ qml.PauliZ(3))\n",
    "\n",
    "# initialize circuit parameters\n",
    "param_shape = qml.StronglyEntanglingLayers.shape(n_wires=4, n_layers=15)\n",
    "params = np.random.normal(scale=0.1, size=param_shape, requires_grad=True)\n",
    "print(circuit(params))"
   ]
  },
  {
   "cell_type": "markdown",
   "metadata": {},
   "source": [
    "Let's see how long it takes to perform a forward pass of the circuit.\n"
   ]
  },
  {
   "cell_type": "code",
   "execution_count": 13,
   "metadata": {
    "collapsed": false,
    "jupyter": {
     "outputs_hidden": false
    }
   },
   "outputs": [
    {
     "name": "stdout",
     "output_type": "stream",
     "text": [
      "Forward pass (best of 3): 0.04320364420127589 sec per loop\n"
     ]
    }
   ],
   "source": [
    "import timeit\n",
    "\n",
    "reps = 3\n",
    "num = 10\n",
    "times = timeit.repeat(\"circuit(params)\", globals=globals(), number=num, repeat=reps)\n",
    "forward_time = min(times) / num\n",
    "print(f\"Forward pass (best of {reps}): {forward_time} sec per loop\")"
   ]
  },
  {
   "cell_type": "markdown",
   "metadata": {},
   "source": [
    "Comparing this to the forward pass from `default.qubit`, we note that\n",
    "there is some potential overhead from using backpropagation. We can now\n",
    "time how long it takes to perform a gradient computation via\n",
    "backpropagation:\n"
   ]
  },
  {
   "cell_type": "code",
   "execution_count": 14,
   "metadata": {
    "collapsed": false,
    "jupyter": {
     "outputs_hidden": false
    }
   },
   "outputs": [
    {
     "name": "stdout",
     "output_type": "stream",
     "text": [
      "Backward pass (best of 3): 0.1231009176990483 sec per loop\n"
     ]
    }
   ],
   "source": [
    "times = timeit.repeat(\"qml.grad(circuit)(params)\", globals=globals(), number=num, repeat=reps)\n",
    "backward_time = min(times) / num\n",
    "print(f\"Backward pass (best of {reps}): {backward_time} sec per loop\")"
   ]
  },
  {
   "cell_type": "markdown",
   "metadata": {},
   "source": [
    "Unlike with the parameter-shift rule, the time taken to perform the\n",
    "backwards pass appears of the order of a single forward pass! The can\n",
    "significantly speed up training of simulated circuits with many\n",
    "parameters.\n",
    "\n",
    "Time comparison\n",
    "===============\n",
    "\n",
    "Let's compare the two differentiation approaches as the number of\n",
    "trainable parameters in the variational circuit increases, by timing\n",
    "both the forward pass and the gradient computation as the number of\n",
    "layers is allowed to increase.\n"
   ]
  },
  {
   "cell_type": "code",
   "execution_count": 15,
   "metadata": {
    "collapsed": false,
    "jupyter": {
     "outputs_hidden": false
    }
   },
   "outputs": [],
   "source": [
    "dev = qml.device(\"default.qubit\", wires=4)\n",
    "\n",
    "def circuit(params):\n",
    "    qml.StronglyEntanglingLayers(params, wires=[0, 1, 2, 3])\n",
    "    return qml.expval(qml.PauliZ(0) @ qml.PauliZ(1) @ qml.PauliZ(2) @ qml.PauliZ(3))"
   ]
  },
  {
   "cell_type": "markdown",
   "metadata": {},
   "source": [
    "We'll continue to use the same ansatz as before, but to reduce the time\n",
    "taken to collect the data, we'll reduce the number and repetitions of\n",
    "timings per data point. Below, we loop over a variational circuit depth\n",
    "ranging from 0 (no gates/ trainable parameters) to 20. Each layer will\n",
    "contain $3N$ parameters, where $N$ is the number of wires (in this case,\n",
    "we have $N=4$).\n"
   ]
  },
  {
   "cell_type": "code",
   "execution_count": 16,
   "metadata": {
    "collapsed": false,
    "jupyter": {
     "outputs_hidden": false
    }
   },
   "outputs": [],
   "source": [
    "reps = 2\n",
    "num = 3\n",
    "\n",
    "forward_shift = []\n",
    "gradient_shift = []\n",
    "forward_backprop = []\n",
    "gradient_backprop = []\n",
    "\n",
    "for depth in range(0, 21):\n",
    "    param_shape = qml.StronglyEntanglingLayers.shape(n_wires=4, n_layers=depth)\n",
    "    params = np.random.normal(scale=0.1, size=param_shape, requires_grad=True)\n",
    "    num_params = params.size\n",
    "\n",
    "    # forward pass timing\n",
    "    # ===================\n",
    "\n",
    "    qnode_shift = qml.QNode(circuit, dev, diff_method=\"parameter-shift\")\n",
    "    qnode_backprop = qml.QNode(circuit, dev, diff_method=\"backprop\")\n",
    "\n",
    "    # parameter-shift\n",
    "    t = timeit.repeat(\"qnode_shift(params)\", globals=globals(), number=num, repeat=reps)\n",
    "    forward_shift.append([num_params, min(t) / num])\n",
    "\n",
    "    # backprop\n",
    "    t = timeit.repeat(\"qnode_backprop(params)\", globals=globals(), number=num, repeat=reps)\n",
    "    forward_backprop.append([num_params, min(t) / num])\n",
    "\n",
    "    if num_params == 0:\n",
    "        continue\n",
    "\n",
    "    # Gradient timing\n",
    "    # ===============\n",
    "\n",
    "    qnode_shift = qml.QNode(circuit, dev, diff_method=\"parameter-shift\")\n",
    "    qnode_backprop = qml.QNode(circuit, dev, diff_method=\"backprop\")\n",
    "\n",
    "    # parameter-shift\n",
    "    t = timeit.repeat(\"qml.grad(qnode_shift)(params)\", globals=globals(), number=num, repeat=reps)\n",
    "    gradient_shift.append([num_params, min(t) / num])\n",
    "\n",
    "    # backprop\n",
    "    t = timeit.repeat(\"qml.grad(qnode_backprop)(params)\", globals=globals(), number=num, repeat=reps)\n",
    "    gradient_backprop.append([num_params, min(t) / num])\n",
    "\n",
    "gradient_shift = np.array(gradient_shift).T\n",
    "gradient_backprop = np.array(gradient_backprop).T\n",
    "forward_shift = np.array(forward_shift).T\n",
    "forward_backprop = np.array(forward_backprop).T"
   ]
  },
  {
   "cell_type": "markdown",
   "metadata": {},
   "source": [
    "We now import matplotlib, and plot the results.\n"
   ]
  },
  {
   "cell_type": "code",
   "execution_count": 17,
   "metadata": {
    "collapsed": false,
    "jupyter": {
     "outputs_hidden": false
    }
   },
   "outputs": [
    {
     "data": {
      "image/png": "[encoded data removed]",
      "text/plain": [
       "<Figure size 432x288 with 1 Axes>"
      ]
     },
     "metadata": {
      "needs_background": "light"
     },
     "output_type": "display_data"
    }
   ],
   "source": [
    "plt.style.use(\"bmh\")\n",
    "\n",
    "fig, ax = plt.subplots(1, 1, figsize=(6, 4))\n",
    "\n",
    "ax.plot(*gradient_shift, '.-', label=\"Parameter-shift\")\n",
    "ax.plot(*gradient_backprop, '.-', label=\"Backprop\")\n",
    "ax.set_ylabel(\"Time (s)\")\n",
    "ax.set_xlabel(\"Number of parameters\")\n",
    "ax.legend()\n",
    "\n",
    "plt.show()"
   ]
  },
  {
   "cell_type": "markdown",
   "metadata": {},
   "source": [
    "<br>\n",
    "We can see that the computational time for the parameter-shift rule\n",
    "increases with increasing number of parameters, as expected, whereas the\n",
    "computational time for backpropagation appears much more constant, with\n",
    "perhaps a minute linear increase with $p$. Note that the plots are not\n",
    "perfectly linear, with some 'bumpiness' or noisiness. This is likely due\n",
    "to low-level operating system jitter, and other environmental\n",
    "fluctuations---increasing the number of repeats can help smooth out the\n",
    "plot.\n",
    "\n",
    "For a better comparison, we can scale the time required for computing\n",
    "the quantum gradients against the time taken for the corresponding\n",
    "forward pass:\n"
   ]
  },
  {
   "cell_type": "code",
   "execution_count": 18,
   "metadata": {
    "collapsed": false,
    "jupyter": {
     "outputs_hidden": false
    }
   },
   "outputs": [
    {
     "data": {
      "image/png": "[encoded data removed]",
      "text/plain": [
       "<Figure size 432x288 with 1 Axes>"
      ]
     },
     "metadata": {
      "needs_background": "light"
     },
     "output_type": "display_data"
    }
   ],
   "source": [
    "gradient_shift[1] /= forward_shift[1, 1:]\n",
    "gradient_backprop[1] /= forward_backprop[1, 1:]\n",
    "\n",
    "fig, ax = plt.subplots(1, 1, figsize=(6, 4))\n",
    "\n",
    "ax.plot(*gradient_shift, '.-', label=\"Parameter-shift\")\n",
    "ax.plot(*gradient_backprop, '.-', label=\"Backprop\")\n",
    "\n",
    "# perform a least squares regression to determine the linear best fit/gradient\n",
    "# for the normalized time vs. number of parameters\n",
    "x = gradient_shift[0]\n",
    "m_shift, c_shift = np.polyfit(*gradient_shift, deg=1)\n",
    "m_back, c_back = np.polyfit(*gradient_backprop, deg=1)\n",
    "\n",
    "ax.plot(x, m_shift * x + c_shift, '--', label=f\"{m_shift:.2f}p{c_shift:+.2f}\")\n",
    "ax.plot(x, m_back * x + c_back, '--', label=f\"{m_back:.2f}p{c_back:+.2f}\")\n",
    "\n",
    "ax.set_ylabel(\"Normalized time\")\n",
    "ax.set_xlabel(\"Number of parameters\")\n",
    "ax.set_xscale(\"log\")\n",
    "ax.set_yscale(\"log\")\n",
    "ax.legend()\n",
    "\n",
    "plt.show()"
   ]
  },
  {
   "cell_type": "markdown",
   "metadata": {},
   "source": [
    "We can now see clearly that there is constant overhead for\n",
    "backpropagation with `default.qubit`, but the parameter-shift rule\n",
    "scales as $\\sim 2p$.\n"
   ]
  }
 ],
 "metadata": {
  "kernelspec": {
   "display_name": "PennyLane",
   "language": "python",
   "name": "pennylane"
  },
  "language_info": {
   "codemirror_mode": {
    "name": "ipython",
    "version": 3
   },
   "file_extension": ".py",
   "mimetype": "text/x-python",
   "name": "python",
   "nbconvert_exporter": "python",
   "pygments_lexer": "ipython3",
   "version": "3.9.12"
  }
 },
 "nbformat": 4,
 "nbformat_minor": 4
}
