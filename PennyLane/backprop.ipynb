{
  "cells": [
    {
      "cell_type": "markdown",
      "source": [
        "> **Note**\n",
        ">\n",
        "> Saved changes to this file will not presist between instances. To retain your edits,\n",
        "> please save the file to your main directory.\n",
        "\n"
      ],
      "metadata": {}
    },
    {
      "cell_type": "markdown",
      "source": [
        "Quantum gradients with backpropagation\n",
        "======================================\n",
        "\n",
        "*Author: PennyLane dev team. Last updated: 31 Jan 2021.*\n",
        "\n",
        "In PennyLane, any quantum device, whether a hardware device or a\n",
        "simulator, can be trained using the\n",
        "[parameter-shift rule](https://pennylane.ai/qml/glossary/parameter_shift.html) to compute\n",
        "quantum gradients. Indeed, the parameter-shift rule is ideally suited to\n",
        "hardware devices, as it does not require any knowledge about the\n",
        "internal workings of the device; it is sufficient to treat the device as\n",
        "a 'black box', and to query it with different input values in order to\n",
        "determine the gradient.\n",
        "\n",
        "When working with simulators, however, we *do* have access to the\n",
        "internal (classical) computations being performed. This allows us to\n",
        "take advantage of other methods of computing the gradient, such as\n",
        "backpropagation, which may be advantageous in certain regimes. In this\n",
        "tutorial, we will compare and contrast the parameter-shift rule against\n",
        "backpropagation, using the PennyLane\n",
        "default.qubit `default.qubit` device.\n",
        "\n",
        "The parameter-shift rule\n",
        "------------------------\n",
        "\n",
        "The parameter-shift rule states that, given a variational quantum\n",
        "circuit $U(\\boldsymbol\n",
        "\\theta)$ composed of parametrized Pauli rotations, and some measured\n",
        "observable $\\hat{B}$, the derivative of the expectation value\n",
        "\n",
        "$$\\langle \\hat{B} \\rangle (\\boldsymbol\\theta) =\n",
        "\\langle 0 \\vert U(\\boldsymbol\\theta)^\\dagger \\hat{B} U(\\boldsymbol\\theta) \\vert 0\\rangle$$\n",
        "\n",
        "with respect to the input circuit parameters $\\boldsymbol{\\theta}$ is\n",
        "given by\n",
        "\n",
        "$$\\nabla_{\\theta_i}\\langle \\hat{B} \\rangle(\\boldsymbol\\theta)\n",
        "   =  \\frac{1}{2}\n",
        "         \\left[\n",
        "             \\langle \\hat{B} \\rangle\\left(\\boldsymbol\\theta + \\frac{\\pi}{2}\\hat{\\mathbf{e}}_i\\right)\n",
        "           - \\langle \\hat{B} \\rangle\\left(\\boldsymbol\\theta - \\frac{\\pi}{2}\\hat{\\mathbf{e}}_i\\right)\n",
        "         \\right].$$\n",
        "\n",
        "Thus, the gradient of the expectation value can be calculated by\n",
        "evaluating the same variational quantum circuit, but with shifted\n",
        "parameter values (hence the name, parameter-shift rule!).\n",
        "\n",
        "Let's have a go implementing the parameter-shift rule manually in\n",
        "PennyLane.\n"
      ],
      "metadata": {}
    },
    {
      "cell_type": "code",
      "execution_count": null,
      "source": [
        "import pennylane as qml\n",
        "from pennylane import numpy as np\n",
        "\n",
        "# set the random seed\n",
        "np.random.seed(42)\n",
        "\n",
        "# create a device to execute the circuit on\n",
        "dev = qml.device(\"default.qubit\", wires=3)\n",
        "\n",
        "@qml.qnode(dev, diff_method=\"parameter-shift\")\n",
        "def circuit(params):\n",
        "    qml.RX(params[0], wires=0)\n",
        "    qml.RY(params[1], wires=1)\n",
        "    qml.RZ(params[2], wires=2)\n",
        "\n",
        "    qml.broadcast(qml.CNOT, wires=[0, 1, 2], pattern=\"ring\")\n",
        "\n",
        "    qml.RX(params[3], wires=0)\n",
        "    qml.RY(params[4], wires=1)\n",
        "    qml.RZ(params[5], wires=2)\n",
        "\n",
        "    qml.broadcast(qml.CNOT, wires=[0, 1, 2], pattern=\"ring\")\n",
        "    return qml.expval(qml.PauliY(0) @ qml.PauliZ(2))"
      ],
      "outputs": [],
      "metadata": {
        "collapsed": false
      }
    },
    {
      "cell_type": "markdown",
      "source": [
        "Let's test the variational circuit evaluation with some parameter input:\n"
      ],
      "metadata": {}
    },
    {
      "cell_type": "code",
      "execution_count": null,
      "source": [
        "# initial parameters\n",
        "params = np.random.random([6])\n",
        "\n",
        "print(\"Parameters:\", params)\n",
        "print(\"Expectation value:\", circuit(params))"
      ],
      "outputs": [],
      "metadata": {
        "collapsed": false
      }
    },
    {
      "cell_type": "markdown",
      "source": [
        "We can also draw the executed quantum circuit:\n"
      ],
      "metadata": {}
    },
    {
      "cell_type": "code",
      "execution_count": null,
      "source": [
        "print(circuit.draw())"
      ],
      "outputs": [],
      "metadata": {
        "collapsed": false
      }
    },
    {
      "cell_type": "markdown",
      "source": [
        "Now that we have defined our variational circuit QNode, we can construct\n",
        "a function that computes the gradient of the $i\\text{th}$ parameter\n",
        "using the parameter-shift rule.\n"
      ],
      "metadata": {}
    },
    {
      "cell_type": "code",
      "execution_count": null,
      "source": [
        "def parameter_shift_term(qnode, params, i):\n",
        "    shifted = params.copy()\n",
        "    shifted[i] += np.pi/2\n",
        "    forward = qnode(shifted)  # forward evaluation\n",
        "\n",
        "    shifted[i] -= np.pi\n",
        "    backward = qnode(shifted) # backward evaluation\n",
        "\n",
        "    return 0.5 * (forward - backward)\n",
        "\n",
        "# gradient with respect to the first parameter\n",
        "print(parameter_shift_term(circuit, params, 0))"
      ],
      "outputs": [],
      "metadata": {
        "collapsed": false
      }
    },
    {
      "cell_type": "markdown",
      "source": [
        "In order to compute the gradient with respect to *all* parameters, we\n",
        "need to loop over the index `i`:\n"
      ],
      "metadata": {}
    },
    {
      "cell_type": "code",
      "execution_count": null,
      "source": [
        "def parameter_shift(qnode, params):\n",
        "    gradients = np.zeros([len(params)])\n",
        "\n",
        "    for i in range(len(params)):\n",
        "        gradients[i] = parameter_shift_term(qnode, params, i)\n",
        "\n",
        "    return gradients\n",
        "\n",
        "print(parameter_shift(circuit, params))"
      ],
      "outputs": [],
      "metadata": {
        "collapsed": false
      }
    },
    {
      "cell_type": "markdown",
      "source": [
        "We can compare this to PennyLane's *built-in* parameter-shift feature by\n",
        "using the `qml.grad` function. Remember, when we\n",
        "defined the QNode, we specified that we wanted it to be differentiable\n",
        "using the parameter-shift method (`diff_method=\"parameter-shift\"`).\n"
      ],
      "metadata": {}
    },
    {
      "cell_type": "code",
      "execution_count": null,
      "source": [
        "grad_function = qml.grad(circuit)\n",
        "print(grad_function(params)[0])"
      ],
      "outputs": [],
      "metadata": {
        "collapsed": false
      }
    },
    {
      "cell_type": "markdown",
      "source": [
        "If you count the number of quantum evaluations, you will notice that we\n",
        "had to evaluate the circuit `2*len(params)` number of times in order to\n",
        "compute the quantum gradient with respect to all parameters. While\n",
        "reasonably fast for a small number of parameters, as the number of\n",
        "parameters in our quantum circuit grows, so does both\n",
        "\n",
        "1.  the circuit depth (and thus the time taken to evaluate each\n",
        "    expectation value or 'forward' pass), and\n",
        "2.  the number of parameter-shift evaluations required.\n",
        "\n",
        "Both of these factors increase the time taken to compute the gradient\n",
        "with respect to all parameters.\n",
        "\n",
        "Benchmarking\n",
        "============\n",
        "\n",
        "Let's consider an example with a significantly larger number of\n",
        "parameters. We'll make use of the\n",
        "`StronglyEntanglingLayers` template to make a more\n",
        "complicated QNode.\n"
      ],
      "metadata": {}
    },
    {
      "cell_type": "code",
      "execution_count": null,
      "source": [
        "dev = qml.device(\"default.qubit\", wires=4)\n",
        "\n",
        "@qml.qnode(dev, diff_method=\"parameter-shift\", mutable=False)\n",
        "def circuit(params):\n",
        "    qml.templates.StronglyEntanglingLayers(params, wires=[0, 1, 2, 3])\n",
        "    return qml.expval(qml.PauliZ(0) @ qml.PauliZ(1) @ qml.PauliZ(2) @ qml.PauliZ(3))"
      ],
      "outputs": [],
      "metadata": {
        "collapsed": false
      }
    },
    {
      "cell_type": "markdown",
      "source": [
        "Note that we specify that the QNode is **immutable**. This is more\n",
        "restrictive than a standard mutable QNode (the quantum circuit structure\n",
        "cannot change/differ between executions); however, it reduces processing\n",
        "overhead.\n"
      ],
      "metadata": {}
    },
    {
      "cell_type": "code",
      "execution_count": null,
      "source": [
        "# initialize circuit parameters\n",
        "params = qml.init.strong_ent_layers_normal(n_wires=4, n_layers=15)\n",
        "print(params.size)\n",
        "print(circuit(params))"
      ],
      "outputs": [],
      "metadata": {
        "collapsed": false
      }
    },
    {
      "cell_type": "markdown",
      "source": [
        "This circuit has 180 parameters. Let's see how long it takes to perform\n",
        "a forward pass of the circuit.\n"
      ],
      "metadata": {}
    },
    {
      "cell_type": "code",
      "execution_count": null,
      "source": [
        "import timeit\n",
        "\n",
        "reps = 3\n",
        "num = 10\n",
        "times = timeit.repeat(\"circuit(params)\", globals=globals(), number=num, repeat=reps)\n",
        "forward_time = min(times) / num\n",
        "\n",
        "print(f\"Forward pass (best of {reps}): {forward_time} sec per loop\")"
      ],
      "outputs": [],
      "metadata": {
        "collapsed": false
      }
    },
    {
      "cell_type": "markdown",
      "source": [
        "We can now estimate the time taken to compute the full gradient vector,\n",
        "and see how this compares.\n"
      ],
      "metadata": {}
    },
    {
      "cell_type": "code",
      "execution_count": null,
      "source": [
        "# create the gradient function\n",
        "grad_fn = qml.grad(circuit)\n",
        "circuit.qtape = None\n",
        "\n",
        "times = timeit.repeat(\"grad_fn(params)\", globals=globals(), number=num, repeat=reps)\n",
        "backward_time = min(times) / num\n",
        "\n",
        "print(f\"Gradient computation (best of {reps}): {backward_time} sec per loop\")"
      ],
      "outputs": [],
      "metadata": {
        "collapsed": false
      }
    },
    {
      "cell_type": "markdown",
      "source": [
        "Based on the parameter-shift rule, we expect that the amount of time to\n",
        "compute the quantum gradients should be approximately $2p\\Delta t_{f}$\n",
        "where $p$ is the number of parameters and $\\Delta t_{f}$ if the time\n",
        "taken for the forward pass. Let's verify this:\n"
      ],
      "metadata": {}
    },
    {
      "cell_type": "code",
      "execution_count": null,
      "source": [
        "print(2 * forward_time * params.size)"
      ],
      "outputs": [],
      "metadata": {
        "collapsed": false
      }
    },
    {
      "cell_type": "markdown",
      "source": [
        "Backpropagation\n",
        "===============\n",
        "\n",
        "An alternative to the parameter-shift rule for computing gradients is\n",
        "[reverse-mode\n",
        "autodifferentiation](https://en.wikipedia.org/wiki/Reverse_accumulation).\n",
        "Unlike the parameter-shift method, which requires $2p$ circuit\n",
        "evaluations for $p$ parameters, reverse-mode requires only a *single*\n",
        "forward pass of the differentiable function to compute the gradient of\n",
        "all variables, at the expense of increased memory usage. During the\n",
        "forward pass, the results of all intermediate subexpressions are stored;\n",
        "the computation is then traversed *in reverse*, with the gradient\n",
        "computed by repeatedly applying the chain rule. In most classical\n",
        "machine learning settings (where we are training scalar loss functions\n",
        "consisting of a large number of parameters), reverse-mode\n",
        "autodifferentiation is the preferred method of autodifferentiation---the\n",
        "reduction in computational time enables larger and more complex models\n",
        "to be successfully trained. The backpropagation algorithm is a\n",
        "particular special-case of reverse-mode autodifferentiation, which has\n",
        "helped lead to the machine learning explosion we see today.\n",
        "\n",
        "In quantum machine learning, however, the inability to store and utilize\n",
        "the results of *intermediate* quantum operations on hardware remains a\n",
        "barrier to using backprop; while reverse-mode autodifferentiation works\n",
        "fine for small quantum simulations, only the parameter-shift rule can be\n",
        "used to compute gradients on quantum hardware directly. Nevertheless,\n",
        "when training quantum models via classical simulation, it's useful to\n",
        "explore the regimes where reverse-mode differentiation may be a better\n",
        "choice than the parameter-shift rule.\n",
        "\n",
        "Benchmarking\n",
        "------------\n",
        "\n",
        "When creating a QNode,\n",
        "[PennyLane supports various methods of differentiation](https://pennylane.readthedocs.io/en/stable/code/api/pennylane.qnode.html), including `\"parameter-shift\"` (which\n",
        "we used previously), `\"finite-diff\"`, `\"reversible\"`, and `\"backprop\"`.\n",
        "While `\"parameter-shift\"` works with all devices (simulator or\n",
        "hardware), `\"backprop\"` will only work for specific simulator devices\n",
        "that are designed to support backpropagation.\n",
        "\n",
        "One such device is `default.qubit`.\n",
        "It has backends written using TensorFlow, JAX, and Autograd, so when\n",
        "used with the TensorFlow, JAX, and Autograd interfaces respectively,\n",
        "supports backpropagation. In this demo, we will use the default Autograd\n",
        "interface.\n"
      ],
      "metadata": {}
    },
    {
      "cell_type": "code",
      "execution_count": null,
      "source": [
        "dev = qml.device(\"default.qubit\", wires=4)"
      ],
      "outputs": [],
      "metadata": {
        "collapsed": false
      }
    },
    {
      "cell_type": "markdown",
      "source": [
        "When defining the QNode, we specify `diff_method=\"backprop\"` to ensure\n",
        "that we are using backpropagation mode. Note that this is the *default\n",
        "differentiation mode* for the `default.qubit` device.\n"
      ],
      "metadata": {}
    },
    {
      "cell_type": "code",
      "execution_count": null,
      "source": [
        "@qml.qnode(dev, diff_method=\"backprop\")\n",
        "def circuit(params):\n",
        "    qml.templates.StronglyEntanglingLayers(params, wires=[0, 1, 2, 3])\n",
        "    return qml.expval(qml.PauliZ(0) @ qml.PauliZ(1) @ qml.PauliZ(2) @ qml.PauliZ(3))\n",
        "\n",
        "# initialize circuit parameters\n",
        "params = qml.init.strong_ent_layers_normal(n_wires=4, n_layers=15)\n",
        "params = np.array(params, requires_grad=True)\n",
        "print(circuit(params))"
      ],
      "outputs": [],
      "metadata": {
        "collapsed": false
      }
    },
    {
      "cell_type": "markdown",
      "source": [
        "Let's see how long it takes to perform a forward pass of the circuit.\n"
      ],
      "metadata": {}
    },
    {
      "cell_type": "code",
      "execution_count": null,
      "source": [
        "import timeit\n",
        "\n",
        "reps = 3\n",
        "num = 10\n",
        "times = timeit.repeat(\"circuit(params)\", globals=globals(), number=num, repeat=reps)\n",
        "forward_time = min(times) / num\n",
        "print(f\"Forward pass (best of {reps}): {forward_time} sec per loop\")"
      ],
      "outputs": [],
      "metadata": {
        "collapsed": false
      }
    },
    {
      "cell_type": "markdown",
      "source": [
        "Comparing this to the forward pass from `default.qubit`, we note that\n",
        "there is some potential overhead from using backpropagation. We can now\n",
        "time how long it takes to perform a gradient computation via\n",
        "backpropagation:\n"
      ],
      "metadata": {}
    },
    {
      "cell_type": "code",
      "execution_count": null,
      "source": [
        "times = timeit.repeat(\"qml.grad(circuit)(params)\", globals=globals(), number=num, repeat=reps)\n",
        "backward_time = min(times) / num\n",
        "print(f\"Backward pass (best of {reps}): {backward_time} sec per loop\")"
      ],
      "outputs": [],
      "metadata": {
        "collapsed": false
      }
    },
    {
      "cell_type": "markdown",
      "source": [
        "Unlike with the parameter-shift rule, the time taken to perform the\n",
        "backwards pass appears of the order of a single forward pass! The can\n",
        "significantly speed up training of simulated circuits with many\n",
        "parameters.\n",
        "\n",
        "Time comparison\n",
        "===============\n",
        "\n",
        "Let's compare the two differentiation approaches as the number of\n",
        "trainable parameters in the variational circuit increases, by timing\n",
        "both the forward pass and the gradient computation as the number of\n",
        "layers is allowed to increase.\n"
      ],
      "metadata": {}
    },
    {
      "cell_type": "code",
      "execution_count": null,
      "source": [
        "dev = qml.device(\"default.qubit\", wires=4)\n",
        "\n",
        "def circuit(params):\n",
        "    qml.templates.StronglyEntanglingLayers(params, wires=[0, 1, 2, 3])\n",
        "    return qml.expval(qml.PauliZ(0) @ qml.PauliZ(1) @ qml.PauliZ(2) @ qml.PauliZ(3))"
      ],
      "outputs": [],
      "metadata": {
        "collapsed": false
      }
    },
    {
      "cell_type": "markdown",
      "source": [
        "We'll continue to use the same ansatz as before, but to reduce the time\n",
        "taken to collect the data, we'll reduce the number and repetitions of\n",
        "timings per data point. Below, we loop over a variational circuit depth\n",
        "ranging from 0 (no gates/ trainable parameters) to 20. Each layer will\n",
        "contain $3N$ parameters, where $N$ is the number of wires (in this case,\n",
        "we have $N=4$).\n"
      ],
      "metadata": {}
    },
    {
      "cell_type": "code",
      "execution_count": null,
      "source": [
        "reps = 2\n",
        "num = 3\n",
        "\n",
        "forward_shift = []\n",
        "gradient_shift = []\n",
        "forward_backprop = []\n",
        "gradient_backprop = []\n",
        "\n",
        "for depth in range(0, 21):\n",
        "    params = qml.init.strong_ent_layers_normal(n_wires=4, n_layers=depth)\n",
        "    num_params = params.size\n",
        "    params = np.array(params, requires_grad=True)\n",
        "\n",
        "    # forward pass timing\n",
        "    # ===================\n",
        "\n",
        "    qnode_shift = qml.QNode(circuit, dev, diff_method=\"parameter-shift\", mutable=False)\n",
        "    qnode_backprop = qml.QNode(circuit, dev, diff_method=\"backprop\", mutable=False)\n",
        "\n",
        "    # parameter-shift\n",
        "    t = timeit.repeat(\"qnode_shift(params)\", globals=globals(), number=num, repeat=reps)\n",
        "    forward_shift.append([num_params, min(t) / num])\n",
        "\n",
        "    # backprop\n",
        "    t = timeit.repeat(\"qnode_backprop(params)\", globals=globals(), number=num, repeat=reps)\n",
        "    forward_backprop.append([num_params, min(t) / num])\n",
        "\n",
        "    if num_params == 0:\n",
        "        continue\n",
        "\n",
        "    # Gradient timing\n",
        "    # ===============\n",
        "\n",
        "    qnode_shift = qml.QNode(circuit, dev, diff_method=\"parameter-shift\", mutable=False)\n",
        "    qnode_backprop = qml.QNode(circuit, dev, diff_method=\"backprop\", mutable=False)\n",
        "\n",
        "    # parameter-shift\n",
        "    t = timeit.repeat(\"qml.grad(qnode_shift)(params)\", globals=globals(), number=num, repeat=reps)\n",
        "    gradient_shift.append([num_params, min(t) / num])\n",
        "\n",
        "    # backprop\n",
        "    t = timeit.repeat(\"qml.grad(qnode_backprop)(params)\", globals=globals(), number=num, repeat=reps)\n",
        "    gradient_backprop.append([num_params, min(t) / num])\n",
        "\n",
        "gradient_shift = np.array(gradient_shift).T\n",
        "gradient_backprop = np.array(gradient_backprop).T\n",
        "forward_shift = np.array(forward_shift).T\n",
        "forward_backprop = np.array(forward_backprop).T"
      ],
      "outputs": [],
      "metadata": {
        "collapsed": false
      }
    },
    {
      "cell_type": "markdown",
      "source": [
        "We now import matplotlib, and plot the results.\n"
      ],
      "metadata": {}
    },
    {
      "cell_type": "code",
      "execution_count": null,
      "source": [
        "from matplotlib import pyplot as plt\n",
        "plt.style.use(\"bmh\")\n",
        "\n",
        "fig, ax = plt.subplots(1, 1, figsize=(6, 4))\n",
        "\n",
        "ax.plot(*gradient_shift, '.-', label=\"Parameter-shift\")\n",
        "ax.plot(*gradient_backprop, '.-', label=\"Backprop\")\n",
        "ax.set_ylabel(\"Time (s)\")\n",
        "ax.set_xlabel(\"Number of parameters\")\n",
        "ax.legend()\n",
        "\n",
        "plt.show()"
      ],
      "outputs": [],
      "metadata": {
        "collapsed": false
      }
    },
    {
      "cell_type": "markdown",
      "source": [
        "<br>\n",
        "We can see that the computational time for the parameter-shift rule\n",
        "increases with increasing number of parameters, as expected, whereas the\n",
        "computational time for backpropagation appears much more constant, with\n",
        "perhaps a minute linear increase with $p$. Note that the plots are not\n",
        "perfectly linear, with some 'bumpiness' or noisiness. This is likely due\n",
        "to low-level operating system jitter, and other environmental\n",
        "fluctuations---increasing the number of repeats can help smooth out the\n",
        "plot.\n",
        "\n",
        "For a better comparison, we can scale the time required for computing\n",
        "the quantum gradients against the time taken for the corresponding\n",
        "forward pass:\n"
      ],
      "metadata": {}
    },
    {
      "cell_type": "code",
      "execution_count": null,
      "source": [
        "gradient_shift[1] /= forward_shift[1, 1:]\n",
        "gradient_backprop[1] /= forward_backprop[1, 1:]\n",
        "\n",
        "fig, ax = plt.subplots(1, 1, figsize=(6, 4))\n",
        "\n",
        "ax.plot(*gradient_shift, '.-', label=\"Parameter-shift\")\n",
        "ax.plot(*gradient_backprop, '.-', label=\"Backprop\")\n",
        "\n",
        "# perform a least squares regression to determine the linear best fit/gradient\n",
        "# for the normalized time vs. number of parameters\n",
        "x = gradient_shift[0]\n",
        "m_shift, c_shift = np.polyfit(*gradient_shift, deg=1)\n",
        "m_back, c_back = np.polyfit(*gradient_backprop, deg=1)\n",
        "\n",
        "ax.plot(x, m_shift * x + c_shift, '--', label=f\"{m_shift:.2f}p{c_shift:+.2f}\")\n",
        "ax.plot(x, m_back * x + c_back, '--', label=f\"{m_back:.2f}p{c_back:+.2f}\")\n",
        "\n",
        "ax.set_ylabel(\"Normalized time\")\n",
        "ax.set_xlabel(\"Number of parameters\")\n",
        "ax.set_xscale(\"log\")\n",
        "ax.set_yscale(\"log\")\n",
        "ax.legend()\n",
        "\n",
        "plt.show()"
      ],
      "outputs": [],
      "metadata": {
        "collapsed": false
      }
    },
    {
      "cell_type": "markdown",
      "source": [
        "We can now see clearly that there is constant overhead for\n",
        "backpropagation with `default.qubit`, but the parameter-shift rule\n",
        "scales as $\\sim 2p$.\n"
      ],
      "metadata": {}
    }
  ],
  "metadata": {
    "kernelspec": {
      "display_name": "PennyLane",
      "language": "python",
      "name": "pennylane"
    },
    "language_info": {
      "codemirror_mode": {
        "name": "ipython",
        "version": 3
      },
      "file_extension": ".py",
      "mimetype": "text/x-python",
      "name": "python",
      "nbconvert_exporter": "python",
      "pygments_lexer": "ipython3",
      "version": "3.7.2"
    }
  },
  "nbformat": 4,
  "nbformat_minor": 2
}