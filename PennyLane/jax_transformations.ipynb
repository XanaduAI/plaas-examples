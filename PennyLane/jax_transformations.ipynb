{
 "cells": [
  {
   "cell_type": "markdown",
   "metadata": {},
   "source": [
    "Using JAX with PennyLane\n",
    "========================\n",
    "\n",
    "*Author: PennyLane dev team. Posted: 12 Apr 2021. Last updated: 12 Apr\n",
    "2021.*\n",
    "\n",
    "JAX is an incredibly powerful scientific computing library that has been\n",
    "gaining traction in both the physics and deep learning communities.\n",
    "While JAX was originally designed for classical machine learning (ML),\n",
    "many of its transformations are also useful for quantum machine learning\n",
    "(QML), and can be used directly with PennyLane.\n"
   ]
  },
  {
   "cell_type": "markdown",
   "metadata": {},
   "source": [
    "![](.img/jax_logo.png)\n",
    "\n",
    "In this tutorial, we'll go over a number of JAX transformations and show\n",
    "how you can use them to build and optimize quantum circuits. We'll show\n",
    "examples of how to do gradient descent with `jax.grad`, run quantum\n",
    "circuits in parallel using `jax.vmap`, compile and optimize simulations\n",
    "with `jax.jit`, and control and seed the random nature of quantum\n",
    "computer simulations with `jax.random`. By the end of this tutorial you\n",
    "should feel just as comfortable transforming quantum computing programs\n",
    "with JAX as you do transforming your neural networks.\n",
    "\n",
    "If this is your first time reading PennyLane code, we recommend going\n",
    "through the [basic tutorial](https://pennylane.ai/qml/demos/tutorial_qubit_rotation.html)\n",
    "first. It's all in vanilla NumPy, so you should be able to easily\n",
    "transfer what you learn to JAX when you come back.\n",
    "\n",
    "With that said, we begin by importing PennyLane, JAX, the JAX-provided\n",
    "version of NumPy and set up a two-qubit device for computations. We'll\n",
    "be using the `default.qubit` device for the first part of this tutorial.\n"
   ]
  },
  {
   "cell_type": "code",
   "execution_count": 1,
   "metadata": {
    "collapsed": false,
    "jupyter": {
     "outputs_hidden": false
    }
   },
   "outputs": [
    {
     "name": "stderr",
     "output_type": "stream",
     "text": [
      "/opt/conda/envs/pennylane/lib/python3.8/site-packages/_distutils_hack/__init__.py:30: UserWarning: Setuptools is replacing distutils.\n",
      "  warnings.warn(\"Setuptools is replacing distutils.\")\n",
      "WARNING:matplotlib:Matplotlib created a temporary config/cache directory at /tmp/matplotlib-9u4q13vs because the default path (/home/jovyan/.config/matplotlib) is not a writable directory; it is highly recommended to set the MPLCONFIGDIR environment variable to a writable directory, in particular to speed up the import of Matplotlib and to better support multiprocessing.\n"
     ]
    }
   ],
   "source": [
    "# Added to silence some warnings.\n",
    "from jax.config import config\n",
    "config.update(\"jax_enable_x64\", True)\n",
    "\n",
    "import jax\n",
    "import jax.numpy as jnp\n",
    "import pennylane as qml\n",
    "\n",
    "dev = qml.device(\"default.qubit\", wires=2)"
   ]
  },
  {
   "cell_type": "markdown",
   "metadata": {},
   "source": [
    "Let's start with a simple example circuit that generates a two-qubit\n",
    "entangled state, then evaluates the expectation value of the Pauli-Z\n",
    "operator on the first wire.\n"
   ]
  },
  {
   "cell_type": "code",
   "execution_count": 2,
   "metadata": {
    "collapsed": false,
    "jupyter": {
     "outputs_hidden": false
    }
   },
   "outputs": [
    {
     "name": "stderr",
     "output_type": "stream",
     "text": [
      "WARNING:absl:No GPU/TPU found, falling back to CPU. (Set TF_CPP_MIN_LOG_LEVEL=0 and rerun for more info.)\n"
     ]
    }
   ],
   "source": [
    "@qml.qnode(dev, interface=\"jax\")\n",
    "def circuit(param):\n",
    "    # These two gates represent our QML model. \n",
    "    qml.RX(param, wires=0)\n",
    "    qml.CNOT(wires=[0, 1])\n",
    "\n",
    "    # The expval here will be the \"cost function\" we try to minimize.\n",
    "    # Usually, this would be defined by the problem we want to solve,\n",
    "    # but for this example we'll just use a single PauliZ.\n",
    "    return qml.expval(qml.PauliZ(0))"
   ]
  },
  {
   "cell_type": "markdown",
   "metadata": {},
   "source": [
    "We can now execute the circuit just like any other python function.\n"
   ]
  },
  {
   "cell_type": "code",
   "execution_count": 3,
   "metadata": {
    "collapsed": false,
    "jupyter": {
     "outputs_hidden": false
    }
   },
   "outputs": [
    {
     "name": "stdout",
     "output_type": "stream",
     "text": [
      "Result: DeviceArray(0.99244503, dtype=float64)\n"
     ]
    }
   ],
   "source": [
    "print(f\"Result: {repr(circuit(0.123))}\")"
   ]
  },
  {
   "cell_type": "markdown",
   "metadata": {},
   "source": [
    "Notice that the output of the circuit is a JAX `DeviceArray`. In fact,\n",
    "when we use the `default.qubit` device, the entire computation is done\n",
    "in JAX, so we can use all of the JAX tools out of the box!\n",
    "\n",
    "Now let's move on to an example of a transformation. The code we wrote\n",
    "above is entirely differentiable, so let's calculate its gradient with\n",
    "`jax.grad`.\n"
   ]
  },
  {
   "cell_type": "code",
   "execution_count": 4,
   "metadata": {
    "collapsed": false,
    "jupyter": {
     "outputs_hidden": false
    }
   },
   "outputs": [
    {
     "name": "stdout",
     "output_type": "stream",
     "text": [
      "\n",
      "Gradient Descent\n",
      "---------------\n",
      "grad_circuit(jnp.pi / 2): -1.000\n",
      "Initial param: 0.123\n",
      "Initial cost: 0.992\n",
      "Tuned param: 3.142\n",
      "Tuned cost: -1.000\n"
     ]
    }
   ],
   "source": [
    "print(\"\\nGradient Descent\")\n",
    "print(\"---------------\")\n",
    "\n",
    "# We use jax.grad here to transform our circuit method into one\n",
    "# that calcuates the gradient of the output relative to the input.\n",
    "\n",
    "grad_circuit = jax.grad(circuit)\n",
    "print(f\"grad_circuit(jnp.pi / 2): {grad_circuit(jnp.pi / 2):0.3f}\")\n",
    "\n",
    "# We can then use this grad_circuit function to optimize the parameter value\n",
    "# via gradient descent.\n",
    "param = 0.123 # Some initial value. \n",
    "\n",
    "print(f\"Initial param: {param:0.3f}\")\n",
    "print(f\"Initial cost: {circuit(param):0.3f}\")\n",
    "\n",
    "for _ in range(100): # Run for 100 steps.\n",
    "    param -= grad_circuit(param) # Gradient-descent update.\n",
    "\n",
    "print(f\"Tuned param: {param:0.3f}\")\n",
    "print(f\"Tuned cost: {circuit(param):0.3f}\")"
   ]
  },
  {
   "cell_type": "markdown",
   "metadata": {},
   "source": [
    "And that's QML in a nutshell! If you've done classical machine learning\n",
    "before, the above training loop should feel very familiar to you. The\n",
    "only difference is that we used a quantum computer (or rather, a\n",
    "simulation of one) as part of our model and cost calculation. In the\n",
    "end, almost all QML problems involve tuning some parameters and\n",
    "minimizing some cost function, just like classical ML. While classical\n",
    "ML focuses on learning classical systems like language or vision, QML is\n",
    "most useful for learning about quantum systems. For example,\n",
    "[finding chemical ground states](https://pennylane.ai/qml/demos/tutorial_vqe.html) or learning\n",
    "to [sample thermal energy states](https://pennylane.ai/qml/demos/tutorial_vqt.html).\n"
   ]
  },
  {
   "cell_type": "markdown",
   "metadata": {},
   "source": [
    "Batching and Evolutionary Strategies\n",
    "====================================\n",
    "\n",
    "![](.img/jaxvmap.png)\n",
    "\n",
    "We just showed how we can use gradient methods to learn a parameter\n",
    "value, but on real quantum computing hardware, calculating gradients can\n",
    "be really expensive and noisy. Another approach is to use [evolutionary\n",
    "strategies](https://arxiv.org/abs/2012.00101) (ES) to learn these\n",
    "parameters. Here, we will be using the `jax.vmap`\n",
    "[transform](https://jax.readthedocs.io/en/latest/jax.html#jax.vmap) to\n",
    "make running batches of circuits much easier. `vmap` essentially\n",
    "transforms a single quantum computer into multiple running in parallel!\n"
   ]
  },
  {
   "cell_type": "code",
   "execution_count": 5,
   "metadata": {
    "collapsed": false,
    "jupyter": {
     "outputs_hidden": false
    }
   },
   "outputs": [
    {
     "name": "stdout",
     "output_type": "stream",
     "text": [
      "\n",
      "\n",
      "Batching and Evolutionary Strategies\n",
      "------------------------------------\n",
      "Batched result: [0.52336595 0.99244503 0.84136092]\n"
     ]
    }
   ],
   "source": [
    "print(\"\\n\\nBatching and Evolutionary Strategies\")\n",
    "print(\"------------------------------------\")\n",
    "\n",
    "# Create a vectorized version of our original circuit.\n",
    "vcircuit = jax.vmap(circuit)\n",
    "\n",
    "# Now, we call the ``vcircuit`` with multiple parameters at once and get back a\n",
    "# batch of expectations.\n",
    "# This examples runs 3 quantum circuits in parallel.\n",
    "batch_params = jnp.array([1.02, 0.123, -0.571])\n",
    "\n",
    "batched_results = vcircuit(batch_params)\n",
    "print(f\"Batched result: {batched_results}\")"
   ]
  },
  {
   "cell_type": "markdown",
   "metadata": {},
   "source": [
    "Let's now set up our ES training loop. The idea is pretty simple. First,\n",
    "we calculate the expected values of each of our parameters. The cost\n",
    "values then determine the \"weight\" of that example. The lower the cost,\n",
    "the larger the weight. These batches are then used to generate a new set\n",
    "of parameters.\n"
   ]
  },
  {
   "cell_type": "code",
   "execution_count": 6,
   "metadata": {
    "collapsed": false,
    "jupyter": {
     "outputs_hidden": false
    }
   },
   "outputs": [
    {
     "name": "stdout",
     "output_type": "stream",
     "text": [
      "Initial value: -0.078\n",
      "Initial cost: 0.997\n",
      "Final value: -3.139\n",
      "Final cost: -1.000\n"
     ]
    }
   ],
   "source": [
    "# Needed to do randomness with JAX.\n",
    "# For more info on how JAX handles randomness, see the documentation.\n",
    "# https://jax.readthedocs.io/en/latest/jax.random.html\n",
    "key = jax.random.PRNGKey(0)\n",
    "\n",
    "# Generate our first set of samples.\n",
    "params = jax.random.normal(key, (100,))\n",
    "mean = jnp.average(params)\n",
    "var = 1.0\n",
    "print(f\"Initial value: {mean:0.3f}\")\n",
    "print(f\"Initial cost: {circuit(mean):0.3f}\")\n",
    "\n",
    "for _ in range(200):\n",
    "    # In this line, we run all 100 circuits in parallel.\n",
    "    costs = vcircuit(params)\n",
    "\n",
    "    # Use exp(-x) here since the costs could be negative.\n",
    "    weights = jnp.exp(-costs) \n",
    "    mean = jnp.average(params, weights=weights)\n",
    "\n",
    "    # We decrease the variance as we converge to a solution.\n",
    "    var = var * 0.97\n",
    "\n",
    "    # Split the PRNGKey to generate a new set of random samples.\n",
    "    key, split = jax.random.split(key)\n",
    "    params = jax.random.normal(split, (100,)) * var + mean\n",
    "\n",
    "print(f\"Final value: {mean:0.3f}\")\n",
    "print(f\"Final cost: {circuit(mean):0.3f}\")"
   ]
  },
  {
   "cell_type": "markdown",
   "metadata": {},
   "source": [
    "How to use jax.jit: Compiling Circuit Execution\n",
    "===============================================\n",
    "\n",
    "![](.img/jaxjit.png)\n",
    "\n",
    "JAX is built on top of [XLA](https://www.tensorflow.org/xla), a powerful\n",
    "numerics library that can optimize and cross compile computations to\n",
    "different hardware, including CPUs, GPUs, etc. JAX can compile its\n",
    "computation to XLA via the `jax.jit`\n",
    "[transform.](https://jax.readthedocs.io/en/latest/jax.html?highlight=jit#jax.jit)\n",
    "\n",
    "When compiling an XLA program, the compiler will do several rounds of\n",
    "optimization passes to enhance the performance of the computation.\n",
    "Because of this compilation overhead, you'll generally find the first\n",
    "time calling the function to be slow, but all subsequent calls are much,\n",
    "much faster. You'll likely want to do it if you're running the same\n",
    "circuit over and over but with different parameters, like you would find\n",
    "in almost all variational quantum algorithms.\n"
   ]
  },
  {
   "cell_type": "code",
   "execution_count": 7,
   "metadata": {
    "collapsed": false,
    "jupyter": {
     "outputs_hidden": false
    }
   },
   "outputs": [
    {
     "name": "stdout",
     "output_type": "stream",
     "text": [
      "\n",
      "\n",
      "Jit Example\n",
      "-----------\n",
      "No jit time: 0.0089 seconds\n",
      "First run time: 0.0525 seconds\n",
      "Second run time: 0.0001 seconds\n"
     ]
    }
   ],
   "source": [
    "print(\"\\n\\nJit Example\")\n",
    "print(\"-----------\")\n",
    "\n",
    "@qml.qnode(dev, interface=\"jax\")\n",
    "def circuit(param):\n",
    "    qml.RX(param, wires=0)\n",
    "    qml.CNOT(wires=[0, 1])\n",
    "    return qml.expval(qml.PauliZ(0))\n",
    "\n",
    "# Compiling your circuit with JAX is very easy, just add jax.jit!\n",
    "jit_circuit = jax.jit(circuit)\n",
    "\n",
    "import time\n",
    "\n",
    "# No jit.\n",
    "start = time.time()\n",
    "# JAX runs async, so .block_until_ready() blocks until the computation\n",
    "# is actually finished. You'll only need to use this if you're doing benchmarking.\n",
    "circuit(0.123).block_until_ready()\n",
    "no_jit_time = time.time() - start\n",
    "\n",
    "# First call with jit.\n",
    "start = time.time()\n",
    "jit_circuit(0.123).block_until_ready()\n",
    "first_time = time.time() - start\n",
    "\n",
    "# Second call with jit.\n",
    "start = time.time()\n",
    "jit_circuit(0.123).block_until_ready()\n",
    "second_time = time.time() - start\n",
    "\n",
    "\n",
    "print(f\"No jit time: {no_jit_time:0.4f} seconds\")\n",
    "# Compilation overhead will make the first call slower than without jit...\n",
    "print(f\"First run time: {first_time:0.4f} seconds\")\n",
    "# ... but the second run time is >100x faster than the first!\n",
    "print(f\"Second run time: {second_time:0.4f} seconds\")\n",
    "\n",
    "\n",
    "# You can see that for the cost of some compilation overhead, we can\n",
    "# greatly increase our performance of our simulation by orders of magnitude."
   ]
  },
  {
   "cell_type": "markdown",
   "metadata": {},
   "source": [
    "Shots and Sampling with JAX\n",
    "===========================\n",
    "\n",
    "JAX was designed to enable experiments to be as repeatable as possible.\n",
    "Because of this, JAX requires us to seed all randomly generated values\n",
    "(as you saw in the above batching example). Sadly, the universe doesn't\n",
    "allow us to seed real quantum computers, so if we want our JAX to mimic\n",
    "a real device, we'll have to handle randomness ourselves.\n",
    "\n",
    "To learn more about how JAX handles randomness, visit their\n",
    "[documentation\n",
    "site.](https://jax.readthedocs.io/en/latest/jax.random.html)\n",
    "\n",
    "> **Note**\n",
    ">\n",
    "> This example only applies if you are using `jax.jit`. Otherwise, PennyLane\n",
    "> automatically seeds and resets the random-number-generator for you\n",
    "> on each call.\n",
    ">\n",
    "To set the random number generating key, you'll have to pass the\n",
    "`jax.random.PRNGKey` when constructing the device. Because of this, if\n",
    "you want to use `jax.jit` with randomness, the device construction will\n",
    "have to happen within that jitted method.\n"
   ]
  },
  {
   "cell_type": "code",
   "execution_count": 8,
   "metadata": {
    "collapsed": false,
    "jupyter": {
     "outputs_hidden": false
    }
   },
   "outputs": [
    {
     "name": "stdout",
     "output_type": "stream",
     "text": [
      "\n",
      "\n",
      "Randomness\n",
      "----------\n",
      "key1: [ 1 -1 -1 -1  1 -1 -1 -1  1  1]\n",
      "key1: [ 1 -1 -1 -1  1 -1 -1 -1  1  1]\n",
      "key2: [-1 -1 -1 -1  1 -1 -1 -1 -1 -1]\n"
     ]
    }
   ],
   "source": [
    "print(\"\\n\\nRandomness\")\n",
    "print(\"----------\")\n",
    "\n",
    "# Let's create our circuit with randomness and compile it with jax.jit.\n",
    "@jax.jit\n",
    "def circuit(key, param):\n",
    "    # Notice how the device construction now happens within the jitted method.\n",
    "    # Also note the added '.jax' to the device path.\n",
    "    dev = qml.device(\"default.qubit.jax\", wires=2, shots=10, prng_key=key)\n",
    "\n",
    "    # Now we can create our qnode within the circuit function.\n",
    "    @qml.qnode(dev, interface=\"jax\", diff_method=None)\n",
    "    def my_circuit():\n",
    "        qml.RX(param, wires=0)\n",
    "        qml.CNOT(wires=[0, 1])\n",
    "        return qml.sample(qml.PauliZ(0))\n",
    "    return my_circuit()\n",
    "\n",
    "key1 = jax.random.PRNGKey(0)\n",
    "key2 = jax.random.PRNGKey(1)\n",
    "\n",
    "# Notice that the first two runs return exactly the same results,\n",
    "print(f\"key1: {circuit(key1, jnp.pi/2)}\")\n",
    "print(f\"key1: {circuit(key1, jnp.pi/2)}\")\n",
    "\n",
    "# The second run has different results.\n",
    "print(f\"key2: {circuit(key2, jnp.pi/2)}\")"
   ]
  },
  {
   "cell_type": "markdown",
   "metadata": {},
   "source": [
    "Closing Remarks\n",
    "===============\n",
    "\n",
    "By now, using JAX with PennyLane should feel very natural. They\n",
    "complement each other very nicely; JAX with its powerful transforms, and\n",
    "PennyLane with its easy access to quantum computers. We're still in\n",
    "early days of development, but we hope to continue to grow our ecosystem\n",
    "around JAX, and by extension, grow JAX into quantum computing and\n",
    "quantum machine learning. The future looks bright for this field, and\n",
    "we're excited to see what you build!\n"
   ]
  }
 ],
 "metadata": {
  "kernelspec": {
   "display_name": "PennyLane",
   "language": "python",
   "name": "pennylane"
  },
  "language_info": {
   "codemirror_mode": {
    "name": "ipython",
    "version": 3
   },
   "file_extension": ".py",
   "mimetype": "text/x-python",
   "name": "python",
   "nbconvert_exporter": "python",
   "pygments_lexer": "ipython3",
   "version": "3.9.12"
  }
 },
 "nbformat": 4,
 "nbformat_minor": 4
}
